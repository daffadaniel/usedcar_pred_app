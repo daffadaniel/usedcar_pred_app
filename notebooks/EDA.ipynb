{
 "cells": [
  {
   "cell_type": "code",
   "execution_count": 3,
   "metadata": {
    "id": "mFVGyQpUvlgL"
   },
   "outputs": [],
   "source": [
    "import sys, os\n",
    "sys.path.append(os.path.abspath(\"..\"))\n",
    "from src.utils import *\n",
    "import pandas as pd\n",
    "import numpy as np\n",
    "import matplotlib.pyplot as plt\n",
    "import seaborn as sns\n",
    "sns.set_theme()"
   ]
  },
  {
   "cell_type": "code",
   "execution_count": 4,
   "metadata": {},
   "outputs": [
    {
     "name": "stdout",
     "output_type": "stream",
     "text": [
      "Data Shape:  (188533, 13)\n",
      "Data Shape:  (125690, 12)\n"
     ]
    }
   ],
   "source": [
    "df_train = load_data(\"../data/raw/train.csv\")\n",
    "df_test = load_data(\"../data/raw/test.csv\")\n",
    "# df_sample_submission = pd.read_csv(\"/content/playground-series-s4e9/sample_submission.csv\")"
   ]
  },
  {
   "cell_type": "markdown",
   "metadata": {
    "id": "FnLmFgWLwEai"
   },
   "source": [
    "# 1. Exploratory Data Analysis"
   ]
  },
  {
   "cell_type": "code",
   "execution_count": 12,
   "metadata": {
    "colab": {
     "base_uri": "https://localhost:8080/",
     "height": 324
    },
    "id": "6KX2z0IDCQ__",
    "outputId": "e84c4905-5511-4d9b-b001-28b4fc212d96"
   },
   "outputs": [
    {
     "data": {
      "text/html": [
       "<div>\n",
       "<style scoped>\n",
       "    .dataframe tbody tr th:only-of-type {\n",
       "        vertical-align: middle;\n",
       "    }\n",
       "\n",
       "    .dataframe tbody tr th {\n",
       "        vertical-align: top;\n",
       "    }\n",
       "\n",
       "    .dataframe thead th {\n",
       "        text-align: right;\n",
       "    }\n",
       "</style>\n",
       "<table border=\"1\" class=\"dataframe\">\n",
       "  <thead>\n",
       "    <tr style=\"text-align: right;\">\n",
       "      <th></th>\n",
       "      <th>id</th>\n",
       "      <th>brand</th>\n",
       "      <th>model</th>\n",
       "      <th>model_year</th>\n",
       "      <th>milage</th>\n",
       "      <th>fuel_type</th>\n",
       "      <th>engine</th>\n",
       "      <th>transmission</th>\n",
       "      <th>ext_col</th>\n",
       "      <th>int_col</th>\n",
       "      <th>accident</th>\n",
       "      <th>clean_title</th>\n",
       "      <th>price</th>\n",
       "    </tr>\n",
       "  </thead>\n",
       "  <tbody>\n",
       "    <tr>\n",
       "      <th>0</th>\n",
       "      <td>0</td>\n",
       "      <td>MINI</td>\n",
       "      <td>Cooper S Base</td>\n",
       "      <td>2007</td>\n",
       "      <td>213000</td>\n",
       "      <td>Gasoline</td>\n",
       "      <td>172.0HP 1.6L 4 Cylinder Engine Gasoline Fuel</td>\n",
       "      <td>A/T</td>\n",
       "      <td>Yellow</td>\n",
       "      <td>Gray</td>\n",
       "      <td>None reported</td>\n",
       "      <td>Yes</td>\n",
       "      <td>4200</td>\n",
       "    </tr>\n",
       "    <tr>\n",
       "      <th>1</th>\n",
       "      <td>1</td>\n",
       "      <td>Lincoln</td>\n",
       "      <td>LS V8</td>\n",
       "      <td>2002</td>\n",
       "      <td>143250</td>\n",
       "      <td>Gasoline</td>\n",
       "      <td>252.0HP 3.9L 8 Cylinder Engine Gasoline Fuel</td>\n",
       "      <td>A/T</td>\n",
       "      <td>Silver</td>\n",
       "      <td>Beige</td>\n",
       "      <td>At least 1 accident or damage reported</td>\n",
       "      <td>Yes</td>\n",
       "      <td>4999</td>\n",
       "    </tr>\n",
       "    <tr>\n",
       "      <th>2</th>\n",
       "      <td>2</td>\n",
       "      <td>Chevrolet</td>\n",
       "      <td>Silverado 2500 LT</td>\n",
       "      <td>2002</td>\n",
       "      <td>136731</td>\n",
       "      <td>E85 Flex Fuel</td>\n",
       "      <td>320.0HP 5.3L 8 Cylinder Engine Flex Fuel Capab...</td>\n",
       "      <td>A/T</td>\n",
       "      <td>Blue</td>\n",
       "      <td>Gray</td>\n",
       "      <td>None reported</td>\n",
       "      <td>Yes</td>\n",
       "      <td>13900</td>\n",
       "    </tr>\n",
       "    <tr>\n",
       "      <th>3</th>\n",
       "      <td>3</td>\n",
       "      <td>Genesis</td>\n",
       "      <td>G90 5.0 Ultimate</td>\n",
       "      <td>2017</td>\n",
       "      <td>19500</td>\n",
       "      <td>Gasoline</td>\n",
       "      <td>420.0HP 5.0L 8 Cylinder Engine Gasoline Fuel</td>\n",
       "      <td>Transmission w/Dual Shift Mode</td>\n",
       "      <td>Black</td>\n",
       "      <td>Black</td>\n",
       "      <td>None reported</td>\n",
       "      <td>Yes</td>\n",
       "      <td>45000</td>\n",
       "    </tr>\n",
       "    <tr>\n",
       "      <th>4</th>\n",
       "      <td>4</td>\n",
       "      <td>Mercedes-Benz</td>\n",
       "      <td>Metris Base</td>\n",
       "      <td>2021</td>\n",
       "      <td>7388</td>\n",
       "      <td>Gasoline</td>\n",
       "      <td>208.0HP 2.0L 4 Cylinder Engine Gasoline Fuel</td>\n",
       "      <td>7-Speed A/T</td>\n",
       "      <td>Black</td>\n",
       "      <td>Beige</td>\n",
       "      <td>None reported</td>\n",
       "      <td>Yes</td>\n",
       "      <td>97500</td>\n",
       "    </tr>\n",
       "  </tbody>\n",
       "</table>\n",
       "</div>"
      ],
      "text/plain": [
       "   id          brand              model  model_year  milage      fuel_type  \\\n",
       "0   0           MINI      Cooper S Base        2007  213000       Gasoline   \n",
       "1   1        Lincoln              LS V8        2002  143250       Gasoline   \n",
       "2   2      Chevrolet  Silverado 2500 LT        2002  136731  E85 Flex Fuel   \n",
       "3   3        Genesis   G90 5.0 Ultimate        2017   19500       Gasoline   \n",
       "4   4  Mercedes-Benz        Metris Base        2021    7388       Gasoline   \n",
       "\n",
       "                                              engine  \\\n",
       "0       172.0HP 1.6L 4 Cylinder Engine Gasoline Fuel   \n",
       "1       252.0HP 3.9L 8 Cylinder Engine Gasoline Fuel   \n",
       "2  320.0HP 5.3L 8 Cylinder Engine Flex Fuel Capab...   \n",
       "3       420.0HP 5.0L 8 Cylinder Engine Gasoline Fuel   \n",
       "4       208.0HP 2.0L 4 Cylinder Engine Gasoline Fuel   \n",
       "\n",
       "                     transmission ext_col int_col  \\\n",
       "0                             A/T  Yellow    Gray   \n",
       "1                             A/T  Silver   Beige   \n",
       "2                             A/T    Blue    Gray   \n",
       "3  Transmission w/Dual Shift Mode   Black   Black   \n",
       "4                     7-Speed A/T   Black   Beige   \n",
       "\n",
       "                                 accident clean_title  price  \n",
       "0                           None reported         Yes   4200  \n",
       "1  At least 1 accident or damage reported         Yes   4999  \n",
       "2                           None reported         Yes  13900  \n",
       "3                           None reported         Yes  45000  \n",
       "4                           None reported         Yes  97500  "
      ]
     },
     "execution_count": 12,
     "metadata": {},
     "output_type": "execute_result"
    }
   ],
   "source": [
    "df_train.head()"
   ]
  },
  {
   "cell_type": "markdown",
   "metadata": {
    "id": "_ipDi1TXx-CA"
   },
   "source": [
    "## Data Definition\n",
    "\n",
    "This dataset representing a unique vehicle listing, and includes nine distinct features providing valuable insights into the world of automobiles.\n",
    "\n",
    "- Brand & Model: Identify the brand or company name along with the specific model of each vehicle.\n",
    "- Model Year: Discover the manufacturing year of the vehicles, crucial for assessing depreciation and technology advancements.\n",
    "- Mileage: Obtain the mileage of each vehicle, a key indicator of wear and tear and potential maintenance requirements.\n",
    "- Fuel Type: Learn about the type of fuel the vehicles run on, whether it's gasoline, diesel, electric, or hybrid.\n",
    "- Engine Type: Understand the engine specifications, shedding light on performance and efficiency.\n",
    "- Transmission: Determine the transmission type, whether automatic, manual, or another variant.\n",
    "- Exterior & Interior Colors: Explore the aesthetic aspects of the vehicles, including exterior and interior color options.\n",
    "Accident History: Discover whether a vehicle has a prior history of accidents or damage, crucial for informed decision-making.\n",
    "- Clean Title: Evaluate the availability of a clean title, which can impact the vehicle's resale value and legal status.\n",
    "- Price: Access the listed prices for each vehicle, aiding in price comparison and budgeting."
   ]
  },
  {
   "cell_type": "markdown",
   "metadata": {
    "id": "HYDWp389hYfg"
   },
   "source": [
    "## Descriptive Analysis"
   ]
  },
  {
   "cell_type": "code",
   "execution_count": 13,
   "metadata": {
    "colab": {
     "base_uri": "https://localhost:8080/"
    },
    "id": "yXekitSxwyCo",
    "outputId": "18e33535-5826-44ef-aa35-af5a1bd12132"
   },
   "outputs": [
    {
     "data": {
      "text/plain": [
       "(188533, 12)"
      ]
     },
     "execution_count": 13,
     "metadata": {},
     "output_type": "execute_result"
    }
   ],
   "source": [
    "df_train.set_index('id', inplace=True)\n",
    "df_train.shape"
   ]
  },
  {
   "cell_type": "markdown",
   "metadata": {
    "id": "-VNkWt7t5gb3"
   },
   "source": [
    "- Dataset memiliki 188.533 baris dan 13 kolom (dengan kolom 'id')."
   ]
  },
  {
   "cell_type": "code",
   "execution_count": 14,
   "metadata": {
    "colab": {
     "base_uri": "https://localhost:8080/"
    },
    "id": "e23Cgdimy6Gl",
    "outputId": "ce4f012b-d4e7-400b-df66-649229b891f8"
   },
   "outputs": [
    {
     "name": "stdout",
     "output_type": "stream",
     "text": [
      "<class 'pandas.core.frame.DataFrame'>\n",
      "Index: 188533 entries, 0 to 188532\n",
      "Data columns (total 12 columns):\n",
      " #   Column        Non-Null Count   Dtype \n",
      "---  ------        --------------   ----- \n",
      " 0   brand         188533 non-null  object\n",
      " 1   model         188533 non-null  object\n",
      " 2   model_year    188533 non-null  int64 \n",
      " 3   milage        188533 non-null  int64 \n",
      " 4   fuel_type     183450 non-null  object\n",
      " 5   engine        188533 non-null  object\n",
      " 6   transmission  188533 non-null  object\n",
      " 7   ext_col       188533 non-null  object\n",
      " 8   int_col       188533 non-null  object\n",
      " 9   accident      186081 non-null  object\n",
      " 10  clean_title   167114 non-null  object\n",
      " 11  price         188533 non-null  int64 \n",
      "dtypes: int64(3), object(9)\n",
      "memory usage: 18.7+ MB\n"
     ]
    }
   ],
   "source": [
    "df_train.info()"
   ]
  },
  {
   "cell_type": "markdown",
   "metadata": {},
   "source": [
    "- Dataset memiliki 3 variabel numerik, yaitu 'price', 'model_year', dan 'milage'.\n",
    "- Variabel lainnya bertipe kategorik."
   ]
  },
  {
   "cell_type": "code",
   "execution_count": 15,
   "metadata": {
    "colab": {
     "base_uri": "https://localhost:8080/",
     "height": 300
    },
    "id": "YswI2MkN4_SQ",
    "outputId": "14fe2644-8451-463d-e324-4ff2b1f2b7a9"
   },
   "outputs": [
    {
     "data": {
      "text/html": [
       "<div>\n",
       "<style scoped>\n",
       "    .dataframe tbody tr th:only-of-type {\n",
       "        vertical-align: middle;\n",
       "    }\n",
       "\n",
       "    .dataframe tbody tr th {\n",
       "        vertical-align: top;\n",
       "    }\n",
       "\n",
       "    .dataframe thead th {\n",
       "        text-align: right;\n",
       "    }\n",
       "</style>\n",
       "<table border=\"1\" class=\"dataframe\">\n",
       "  <thead>\n",
       "    <tr style=\"text-align: right;\">\n",
       "      <th></th>\n",
       "      <th>model_year</th>\n",
       "      <th>milage</th>\n",
       "      <th>price</th>\n",
       "    </tr>\n",
       "  </thead>\n",
       "  <tbody>\n",
       "    <tr>\n",
       "      <th>count</th>\n",
       "      <td>188533.000000</td>\n",
       "      <td>188533.000000</td>\n",
       "      <td>1.885330e+05</td>\n",
       "    </tr>\n",
       "    <tr>\n",
       "      <th>mean</th>\n",
       "      <td>2015.829998</td>\n",
       "      <td>65705.295174</td>\n",
       "      <td>4.387802e+04</td>\n",
       "    </tr>\n",
       "    <tr>\n",
       "      <th>std</th>\n",
       "      <td>5.660967</td>\n",
       "      <td>49798.158076</td>\n",
       "      <td>7.881952e+04</td>\n",
       "    </tr>\n",
       "    <tr>\n",
       "      <th>min</th>\n",
       "      <td>1974.000000</td>\n",
       "      <td>100.000000</td>\n",
       "      <td>2.000000e+03</td>\n",
       "    </tr>\n",
       "    <tr>\n",
       "      <th>25%</th>\n",
       "      <td>2013.000000</td>\n",
       "      <td>24115.000000</td>\n",
       "      <td>1.700000e+04</td>\n",
       "    </tr>\n",
       "    <tr>\n",
       "      <th>50%</th>\n",
       "      <td>2017.000000</td>\n",
       "      <td>57785.000000</td>\n",
       "      <td>3.082500e+04</td>\n",
       "    </tr>\n",
       "    <tr>\n",
       "      <th>75%</th>\n",
       "      <td>2020.000000</td>\n",
       "      <td>95400.000000</td>\n",
       "      <td>4.990000e+04</td>\n",
       "    </tr>\n",
       "    <tr>\n",
       "      <th>max</th>\n",
       "      <td>2024.000000</td>\n",
       "      <td>405000.000000</td>\n",
       "      <td>2.954083e+06</td>\n",
       "    </tr>\n",
       "  </tbody>\n",
       "</table>\n",
       "</div>"
      ],
      "text/plain": [
       "          model_year         milage         price\n",
       "count  188533.000000  188533.000000  1.885330e+05\n",
       "mean     2015.829998   65705.295174  4.387802e+04\n",
       "std         5.660967   49798.158076  7.881952e+04\n",
       "min      1974.000000     100.000000  2.000000e+03\n",
       "25%      2013.000000   24115.000000  1.700000e+04\n",
       "50%      2017.000000   57785.000000  3.082500e+04\n",
       "75%      2020.000000   95400.000000  4.990000e+04\n",
       "max      2024.000000  405000.000000  2.954083e+06"
      ]
     },
     "execution_count": 15,
     "metadata": {},
     "output_type": "execute_result"
    }
   ],
   "source": [
    "df_train.describe() "
   ]
  },
  {
   "cell_type": "markdown",
   "metadata": {},
   "source": [
    "- Variabel 'price' dan 'milage' memiliki nilai maksimum yang sangat jauh dari kuartil ketiganya."
   ]
  },
  {
   "cell_type": "code",
   "execution_count": 16,
   "metadata": {
    "colab": {
     "base_uri": "https://localhost:8080/",
     "height": 175
    },
    "id": "8B_d6Dsg5Oqz",
    "outputId": "9501052f-96be-460a-c795-cfc23197d16e"
   },
   "outputs": [
    {
     "data": {
      "text/html": [
       "<div>\n",
       "<style scoped>\n",
       "    .dataframe tbody tr th:only-of-type {\n",
       "        vertical-align: middle;\n",
       "    }\n",
       "\n",
       "    .dataframe tbody tr th {\n",
       "        vertical-align: top;\n",
       "    }\n",
       "\n",
       "    .dataframe thead th {\n",
       "        text-align: right;\n",
       "    }\n",
       "</style>\n",
       "<table border=\"1\" class=\"dataframe\">\n",
       "  <thead>\n",
       "    <tr style=\"text-align: right;\">\n",
       "      <th></th>\n",
       "      <th>brand</th>\n",
       "      <th>model</th>\n",
       "      <th>fuel_type</th>\n",
       "      <th>engine</th>\n",
       "      <th>transmission</th>\n",
       "      <th>ext_col</th>\n",
       "      <th>int_col</th>\n",
       "      <th>accident</th>\n",
       "      <th>clean_title</th>\n",
       "    </tr>\n",
       "  </thead>\n",
       "  <tbody>\n",
       "    <tr>\n",
       "      <th>count</th>\n",
       "      <td>188533</td>\n",
       "      <td>188533</td>\n",
       "      <td>183450</td>\n",
       "      <td>188533</td>\n",
       "      <td>188533</td>\n",
       "      <td>188533</td>\n",
       "      <td>188533</td>\n",
       "      <td>186081</td>\n",
       "      <td>167114</td>\n",
       "    </tr>\n",
       "    <tr>\n",
       "      <th>unique</th>\n",
       "      <td>57</td>\n",
       "      <td>1897</td>\n",
       "      <td>7</td>\n",
       "      <td>1117</td>\n",
       "      <td>52</td>\n",
       "      <td>319</td>\n",
       "      <td>156</td>\n",
       "      <td>2</td>\n",
       "      <td>1</td>\n",
       "    </tr>\n",
       "    <tr>\n",
       "      <th>top</th>\n",
       "      <td>Ford</td>\n",
       "      <td>F-150 XLT</td>\n",
       "      <td>Gasoline</td>\n",
       "      <td>355.0HP 5.3L 8 Cylinder Engine Gasoline Fuel</td>\n",
       "      <td>A/T</td>\n",
       "      <td>Black</td>\n",
       "      <td>Black</td>\n",
       "      <td>None reported</td>\n",
       "      <td>Yes</td>\n",
       "    </tr>\n",
       "    <tr>\n",
       "      <th>freq</th>\n",
       "      <td>23088</td>\n",
       "      <td>2945</td>\n",
       "      <td>165940</td>\n",
       "      <td>3462</td>\n",
       "      <td>49904</td>\n",
       "      <td>48658</td>\n",
       "      <td>107674</td>\n",
       "      <td>144514</td>\n",
       "      <td>167114</td>\n",
       "    </tr>\n",
       "  </tbody>\n",
       "</table>\n",
       "</div>"
      ],
      "text/plain": [
       "         brand      model fuel_type  \\\n",
       "count   188533     188533    183450   \n",
       "unique      57       1897         7   \n",
       "top       Ford  F-150 XLT  Gasoline   \n",
       "freq     23088       2945    165940   \n",
       "\n",
       "                                              engine transmission ext_col  \\\n",
       "count                                         188533       188533  188533   \n",
       "unique                                          1117           52     319   \n",
       "top     355.0HP 5.3L 8 Cylinder Engine Gasoline Fuel          A/T   Black   \n",
       "freq                                            3462        49904   48658   \n",
       "\n",
       "       int_col       accident clean_title  \n",
       "count   188533         186081      167114  \n",
       "unique     156              2           1  \n",
       "top      Black  None reported         Yes  \n",
       "freq    107674         144514      167114  "
      ]
     },
     "execution_count": 16,
     "metadata": {},
     "output_type": "execute_result"
    }
   ],
   "source": [
    "df_train.describe(exclude='int64')"
   ]
  },
  {
   "cell_type": "markdown",
   "metadata": {},
   "source": [
    "## Checking Duplicated Data"
   ]
  },
  {
   "cell_type": "code",
   "execution_count": 17,
   "metadata": {
    "colab": {
     "base_uri": "https://localhost:8080/",
     "height": 81
    },
    "id": "ElqnfFmMycbm",
    "outputId": "14525b6a-4df9-4156-f6b9-1560b1549fdd"
   },
   "outputs": [
    {
     "data": {
      "text/html": [
       "<div>\n",
       "<style scoped>\n",
       "    .dataframe tbody tr th:only-of-type {\n",
       "        vertical-align: middle;\n",
       "    }\n",
       "\n",
       "    .dataframe tbody tr th {\n",
       "        vertical-align: top;\n",
       "    }\n",
       "\n",
       "    .dataframe thead th {\n",
       "        text-align: right;\n",
       "    }\n",
       "</style>\n",
       "<table border=\"1\" class=\"dataframe\">\n",
       "  <thead>\n",
       "    <tr style=\"text-align: right;\">\n",
       "      <th></th>\n",
       "      <th>brand</th>\n",
       "      <th>model</th>\n",
       "      <th>model_year</th>\n",
       "      <th>milage</th>\n",
       "      <th>fuel_type</th>\n",
       "      <th>engine</th>\n",
       "      <th>transmission</th>\n",
       "      <th>ext_col</th>\n",
       "      <th>int_col</th>\n",
       "      <th>accident</th>\n",
       "      <th>clean_title</th>\n",
       "      <th>price</th>\n",
       "    </tr>\n",
       "    <tr>\n",
       "      <th>id</th>\n",
       "      <th></th>\n",
       "      <th></th>\n",
       "      <th></th>\n",
       "      <th></th>\n",
       "      <th></th>\n",
       "      <th></th>\n",
       "      <th></th>\n",
       "      <th></th>\n",
       "      <th></th>\n",
       "      <th></th>\n",
       "      <th></th>\n",
       "      <th></th>\n",
       "    </tr>\n",
       "  </thead>\n",
       "  <tbody>\n",
       "  </tbody>\n",
       "</table>\n",
       "</div>"
      ],
      "text/plain": [
       "Empty DataFrame\n",
       "Columns: [brand, model, model_year, milage, fuel_type, engine, transmission, ext_col, int_col, accident, clean_title, price]\n",
       "Index: []"
      ]
     },
     "execution_count": 17,
     "metadata": {},
     "output_type": "execute_result"
    }
   ],
   "source": [
    "df_train[df_train.duplicated(keep=False)]"
   ]
  },
  {
   "cell_type": "markdown",
   "metadata": {
    "id": "QWesADHX7T3k"
   },
   "source": [
    "- Tidak ada duplikasi data"
   ]
  },
  {
   "cell_type": "markdown",
   "metadata": {},
   "source": [
    "## Checking Missing Value"
   ]
  },
  {
   "cell_type": "code",
   "execution_count": 18,
   "metadata": {
    "colab": {
     "base_uri": "https://localhost:8080/",
     "height": 460
    },
    "id": "ijQzcD942TBI",
    "outputId": "1bfd06d4-9b1e-401f-8db3-066d63b2fb73"
   },
   "outputs": [
    {
     "data": {
      "text/plain": [
       "brand               0\n",
       "model               0\n",
       "model_year          0\n",
       "milage              0\n",
       "fuel_type        5083\n",
       "engine              0\n",
       "transmission        0\n",
       "ext_col             0\n",
       "int_col             0\n",
       "accident         2452\n",
       "clean_title     21419\n",
       "price               0\n",
       "dtype: int64"
      ]
     },
     "execution_count": 18,
     "metadata": {},
     "output_type": "execute_result"
    }
   ],
   "source": [
    "df_train.isna().sum()"
   ]
  },
  {
   "cell_type": "markdown",
   "metadata": {
    "id": "kt2N3FA57W-9"
   },
   "source": [
    "- Variabel `accident`, `clean_title`, dan `fuel_type` missing value yang harus ditangani."
   ]
  },
  {
   "cell_type": "markdown",
   "metadata": {
    "id": "g8GMnTBmhe-g"
   },
   "source": [
    "## Univariate Analysis"
   ]
  },
  {
   "cell_type": "markdown",
   "metadata": {
    "id": "dUMTyC-WZmHO"
   },
   "source": [
    "### model_year"
   ]
  },
  {
   "cell_type": "code",
   "execution_count": 19,
   "metadata": {
    "colab": {
     "base_uri": "https://localhost:8080/",
     "height": 628
    },
    "id": "HydMhfD9Gy9v",
    "outputId": "c9261bbd-857b-4728-a310-5a06a47e04a4"
   },
   "outputs": [
    {
     "data": {
      "image/png": "[encoded data removed]",
      "text/plain": [
       "<Figure size 1500x700 with 2 Axes>"
      ]
     },
     "metadata": {},
     "output_type": "display_data"
    }
   ],
   "source": [
    "fig, axes = plt.subplots(2, 1, figsize=(15, 7), gridspec_kw={'height_ratios': [3, 1]})\n",
    "sns.histplot(data=df_train, x='model_year', kde=True, ax=axes[0])\n",
    "sns.boxplot(x=df_train['model_year'], ax=axes[1])\n",
    "plt.show()"
   ]
  },
  {
   "cell_type": "markdown",
   "metadata": {
    "id": "Ly6ng6TLNFtY"
   },
   "source": [
    "- Sebagian besar mobil yang dijual adalah mobil keluaran tahun 2000 keatas.\n",
    "- Variable `model_year` memiliki beberapa outlier yang perlu diselidiki lebih lanjut."
   ]
  },
  {
   "cell_type": "markdown",
   "metadata": {
    "id": "3kN9Dd-fZsTN"
   },
   "source": [
    "### Milage"
   ]
  },
  {
   "cell_type": "code",
   "execution_count": 12,
   "metadata": {
    "colab": {
     "base_uri": "https://localhost:8080/",
     "height": 618
    },
    "id": "kZ03WVXzMhp0",
    "outputId": "ebb3a8b6-f390-422d-eb8a-444211b2449e"
   },
   "outputs": [
    {
     "data": {
      "image/png": "[encoded data removed]",
      "text/plain": [
       "<Figure size 2000x800 with 2 Axes>"
      ]
     },
     "metadata": {},
     "output_type": "display_data"
    }
   ],
   "source": [
    "fig, axes = plt.subplots(2, 1, figsize=(20, 8), gridspec_kw={'height_ratios': [3, 1]})\n",
    "sns.histplot(data=df_train, x='milage', kde=True, ax=axes[0])\n",
    "sns.boxplot(x=df_train['milage'], ax=axes[1])\n",
    "plt.show()"
   ]
  },
  {
   "cell_type": "markdown",
   "metadata": {
    "id": "sSFvGBUhPgHo"
   },
   "source": [
    "- Variabel `milage` memiliki banyak outlier yang membuat distribusinya sangat skewed."
   ]
  },
  {
   "cell_type": "markdown",
   "metadata": {
    "id": "4ud6JFObZxh2"
   },
   "source": [
    "### Price"
   ]
  },
  {
   "cell_type": "code",
   "execution_count": 15,
   "metadata": {
    "colab": {
     "base_uri": "https://localhost:8080/",
     "height": 618
    },
    "id": "gchNJ4a7MtQZ",
    "outputId": "a2ff2806-821c-4813-ef98-0097526b9597"
   },
   "outputs": [
    {
     "data": {
      "image/png": "[encoded data removed]",
      "text/plain": [
       "<Figure size 2000x800 with 2 Axes>"
      ]
     },
     "metadata": {},
     "output_type": "display_data"
    }
   ],
   "source": [
    "fig, axes = plt.subplots(2, 1, figsize=(20, 8), gridspec_kw={'height_ratios': [3, 1]})\n",
    "sns.histplot(data=df_train, x='price', kde=True, ax=axes[0])\n",
    "sns.boxplot(x=df_train['price'], ax=axes[1])\n",
    "plt.show()"
   ]
  },
  {
   "cell_type": "markdown",
   "metadata": {
    "id": "8Qi_DQoSOGPO"
   },
   "source": [
    "- Variabel `price` memiliki banyak nilai outlier yang terlalu jauh dari upper whisker."
   ]
  },
  {
   "cell_type": "code",
   "execution_count": 16,
   "metadata": {
    "id": "tWW9YadQVD9M"
   },
   "outputs": [],
   "source": [
    "Q1 = df_train['price'].quantile(0.25)\n",
    "Q3 = df_train['price'].quantile(0.75)\n",
    "IQR = Q3 - Q1\n",
    "upper_whisker = Q3 + 1.5*IQR\n",
    "\n",
    "outlier_id = df_train[df_train['price']> upper_whisker].index\n",
    "\n",
    "df_outlier =df_train.loc[outlier_id]\n",
    "df_outlier_1 = df_outlier[(df_outlier['price'] > upper_whisker) & (df_outlier['price'] < 500_000)]\n",
    "df_outlier_2 = df_outlier[(df_outlier['price'] > 500_000) & (df_outlier['price'] < 1_000_000)]\n",
    "df_outlier_3 = df_outlier[(df_outlier['price'] > 1_500_000) & (df_outlier['price'] < 2_000_000)]\n",
    "df_outlier_4 = df_outlier[df_outlier['price'] > 2_500_000]\n",
    "\n",
    "df_non_outlier = df_train.loc[~df_train.index.isin(outlier_id)]"
   ]
  },
  {
   "cell_type": "code",
   "execution_count": 22,
   "metadata": {},
   "outputs": [],
   "source": [
    "# df_outlier_4.set_index(['brand','model','model_year']).sort_index()"
   ]
  },
  {
   "cell_type": "code",
   "execution_count": 23,
   "metadata": {
    "colab": {
     "base_uri": "https://localhost:8080/",
     "height": 1000
    },
    "id": "m4YJqKiEYbi_",
    "outputId": "96fc1835-5d3e-466a-d5da-cfe510cd9c7a"
   },
   "outputs": [
    {
     "data": {
      "text/html": [
       "<div>\n",
       "<style scoped>\n",
       "    .dataframe tbody tr th:only-of-type {\n",
       "        vertical-align: middle;\n",
       "    }\n",
       "\n",
       "    .dataframe tbody tr th {\n",
       "        vertical-align: top;\n",
       "    }\n",
       "\n",
       "    .dataframe thead th {\n",
       "        text-align: right;\n",
       "    }\n",
       "</style>\n",
       "<table border=\"1\" class=\"dataframe\">\n",
       "  <thead>\n",
       "    <tr style=\"text-align: right;\">\n",
       "      <th></th>\n",
       "      <th></th>\n",
       "      <th>count</th>\n",
       "      <th>mean</th>\n",
       "      <th>min</th>\n",
       "      <th>max</th>\n",
       "    </tr>\n",
       "    <tr>\n",
       "      <th>model</th>\n",
       "      <th>model_year</th>\n",
       "      <th></th>\n",
       "      <th></th>\n",
       "      <th></th>\n",
       "      <th></th>\n",
       "    </tr>\n",
       "  </thead>\n",
       "  <tbody>\n",
       "    <tr>\n",
       "      <th>1500 Classic Warlock</th>\n",
       "      <th>2019</th>\n",
       "      <td>1</td>\n",
       "      <td>2954083.0</td>\n",
       "      <td>2954083</td>\n",
       "      <td>2954083</td>\n",
       "    </tr>\n",
       "    <tr>\n",
       "      <th>1500 Laramie</th>\n",
       "      <th>2022</th>\n",
       "      <td>3</td>\n",
       "      <td>2954083.0</td>\n",
       "      <td>2954083</td>\n",
       "      <td>2954083</td>\n",
       "    </tr>\n",
       "    <tr>\n",
       "      <th>1500 Limited</th>\n",
       "      <th>2018</th>\n",
       "      <td>1</td>\n",
       "      <td>2954083.0</td>\n",
       "      <td>2954083</td>\n",
       "      <td>2954083</td>\n",
       "    </tr>\n",
       "    <tr>\n",
       "      <th>300C Base</th>\n",
       "      <th>2003</th>\n",
       "      <td>1</td>\n",
       "      <td>2954083.0</td>\n",
       "      <td>2954083</td>\n",
       "      <td>2954083</td>\n",
       "    </tr>\n",
       "    <tr>\n",
       "      <th>AMG GLE AMG GLE 63 S-Model 4MATIC</th>\n",
       "      <th>2017</th>\n",
       "      <td>1</td>\n",
       "      <td>2954083.0</td>\n",
       "      <td>2954083</td>\n",
       "      <td>2954083</td>\n",
       "    </tr>\n",
       "    <tr>\n",
       "      <th>AMG GT 53 Base</th>\n",
       "      <th>2023</th>\n",
       "      <td>1</td>\n",
       "      <td>2954083.0</td>\n",
       "      <td>2954083</td>\n",
       "      <td>2954083</td>\n",
       "    </tr>\n",
       "    <tr>\n",
       "      <th>Bronco Raptor</th>\n",
       "      <th>2023</th>\n",
       "      <td>1</td>\n",
       "      <td>2954083.0</td>\n",
       "      <td>2954083</td>\n",
       "      <td>2954083</td>\n",
       "    </tr>\n",
       "    <tr>\n",
       "      <th>Continental GT V8</th>\n",
       "      <th>2021</th>\n",
       "      <td>1</td>\n",
       "      <td>2954083.0</td>\n",
       "      <td>2954083</td>\n",
       "      <td>2954083</td>\n",
       "    </tr>\n",
       "    <tr>\n",
       "      <th rowspan=\"2\" valign=\"top\">Corvette Base</th>\n",
       "      <th>2005</th>\n",
       "      <td>1</td>\n",
       "      <td>2954083.0</td>\n",
       "      <td>2954083</td>\n",
       "      <td>2954083</td>\n",
       "    </tr>\n",
       "    <tr>\n",
       "      <th>2007</th>\n",
       "      <td>1</td>\n",
       "      <td>2954083.0</td>\n",
       "      <td>2954083</td>\n",
       "      <td>2954083</td>\n",
       "    </tr>\n",
       "    <tr>\n",
       "      <th>DeVille Base</th>\n",
       "      <th>1994</th>\n",
       "      <td>1</td>\n",
       "      <td>2954083.0</td>\n",
       "      <td>2954083</td>\n",
       "      <td>2954083</td>\n",
       "    </tr>\n",
       "    <tr>\n",
       "      <th>ES 350 Base</th>\n",
       "      <th>2008</th>\n",
       "      <td>1</td>\n",
       "      <td>2954083.0</td>\n",
       "      <td>2954083</td>\n",
       "      <td>2954083</td>\n",
       "    </tr>\n",
       "    <tr>\n",
       "      <th>Escalade ESV Platinum</th>\n",
       "      <th>2015</th>\n",
       "      <td>1</td>\n",
       "      <td>2954083.0</td>\n",
       "      <td>2954083</td>\n",
       "      <td>2954083</td>\n",
       "    </tr>\n",
       "    <tr>\n",
       "      <th>Escalade Premium Luxury Platinum</th>\n",
       "      <th>2021</th>\n",
       "      <td>1</td>\n",
       "      <td>2954083.0</td>\n",
       "      <td>2954083</td>\n",
       "      <td>2954083</td>\n",
       "    </tr>\n",
       "    <tr>\n",
       "      <th>Excursion Limited Ultimate</th>\n",
       "      <th>2002</th>\n",
       "      <td>1</td>\n",
       "      <td>2954083.0</td>\n",
       "      <td>2954083</td>\n",
       "      <td>2954083</td>\n",
       "    </tr>\n",
       "    <tr>\n",
       "      <th>Expedition Max King Ranch</th>\n",
       "      <th>2021</th>\n",
       "      <td>1</td>\n",
       "      <td>2954083.0</td>\n",
       "      <td>2954083</td>\n",
       "      <td>2954083</td>\n",
       "    </tr>\n",
       "    <tr>\n",
       "      <th>Expedition Max Limited</th>\n",
       "      <th>2022</th>\n",
       "      <td>1</td>\n",
       "      <td>2954083.0</td>\n",
       "      <td>2954083</td>\n",
       "      <td>2954083</td>\n",
       "    </tr>\n",
       "    <tr>\n",
       "      <th>Expedition Timberline</th>\n",
       "      <th>2021</th>\n",
       "      <td>1</td>\n",
       "      <td>2954083.0</td>\n",
       "      <td>2954083</td>\n",
       "      <td>2954083</td>\n",
       "    </tr>\n",
       "    <tr>\n",
       "      <th>F-150 XL</th>\n",
       "      <th>2022</th>\n",
       "      <td>1</td>\n",
       "      <td>2954083.0</td>\n",
       "      <td>2954083</td>\n",
       "      <td>2954083</td>\n",
       "    </tr>\n",
       "    <tr>\n",
       "      <th>F-150 XLT</th>\n",
       "      <th>2021</th>\n",
       "      <td>1</td>\n",
       "      <td>2954083.0</td>\n",
       "      <td>2954083</td>\n",
       "      <td>2954083</td>\n",
       "    </tr>\n",
       "    <tr>\n",
       "      <th>Firebird Trans Am</th>\n",
       "      <th>2001</th>\n",
       "      <td>1</td>\n",
       "      <td>2954083.0</td>\n",
       "      <td>2954083</td>\n",
       "      <td>2954083</td>\n",
       "    </tr>\n",
       "    <tr>\n",
       "      <th>Highlander SE</th>\n",
       "      <th>2014</th>\n",
       "      <td>1</td>\n",
       "      <td>2954083.0</td>\n",
       "      <td>2954083</td>\n",
       "      <td>2954083</td>\n",
       "    </tr>\n",
       "    <tr>\n",
       "      <th>Highlander XLE</th>\n",
       "      <th>2022</th>\n",
       "      <td>1</td>\n",
       "      <td>2954083.0</td>\n",
       "      <td>2954083</td>\n",
       "      <td>2954083</td>\n",
       "    </tr>\n",
       "    <tr>\n",
       "      <th rowspan=\"2\" valign=\"top\">LS 430 Base</th>\n",
       "      <th>2002</th>\n",
       "      <td>1</td>\n",
       "      <td>2954083.0</td>\n",
       "      <td>2954083</td>\n",
       "      <td>2954083</td>\n",
       "    </tr>\n",
       "    <tr>\n",
       "      <th>2004</th>\n",
       "      <td>1</td>\n",
       "      <td>2954083.0</td>\n",
       "      <td>2954083</td>\n",
       "      <td>2954083</td>\n",
       "    </tr>\n",
       "    <tr>\n",
       "      <th>Martin DB7 Vantage Volante</th>\n",
       "      <th>2005</th>\n",
       "      <td>1</td>\n",
       "      <td>2954083.0</td>\n",
       "      <td>2954083</td>\n",
       "      <td>2954083</td>\n",
       "    </tr>\n",
       "    <tr>\n",
       "      <th>Metris Base</th>\n",
       "      <th>2020</th>\n",
       "      <td>1</td>\n",
       "      <td>2954083.0</td>\n",
       "      <td>2954083</td>\n",
       "      <td>2954083</td>\n",
       "    </tr>\n",
       "    <tr>\n",
       "      <th>Model 3 Long Range</th>\n",
       "      <th>2021</th>\n",
       "      <td>1</td>\n",
       "      <td>2954083.0</td>\n",
       "      <td>2954083</td>\n",
       "      <td>2954083</td>\n",
       "    </tr>\n",
       "    <tr>\n",
       "      <th>Mustang GT</th>\n",
       "      <th>2005</th>\n",
       "      <td>1</td>\n",
       "      <td>2954083.0</td>\n",
       "      <td>2954083</td>\n",
       "      <td>2954083</td>\n",
       "    </tr>\n",
       "    <tr>\n",
       "      <th>Pilot Elite</th>\n",
       "      <th>2021</th>\n",
       "      <td>1</td>\n",
       "      <td>2954083.0</td>\n",
       "      <td>2954083</td>\n",
       "      <td>2954083</td>\n",
       "    </tr>\n",
       "    <tr>\n",
       "      <th>QX60 Base</th>\n",
       "      <th>2017</th>\n",
       "      <td>1</td>\n",
       "      <td>2954083.0</td>\n",
       "      <td>2954083</td>\n",
       "      <td>2954083</td>\n",
       "    </tr>\n",
       "    <tr>\n",
       "      <th>Ram 2500 Laramie Quad Cab</th>\n",
       "      <th>2005</th>\n",
       "      <td>1</td>\n",
       "      <td>2954083.0</td>\n",
       "      <td>2954083</td>\n",
       "      <td>2954083</td>\n",
       "    </tr>\n",
       "    <tr>\n",
       "      <th>Rover LR4 Lux</th>\n",
       "      <th>2010</th>\n",
       "      <td>1</td>\n",
       "      <td>2954083.0</td>\n",
       "      <td>2954083</td>\n",
       "      <td>2954083</td>\n",
       "    </tr>\n",
       "    <tr>\n",
       "      <th>Rover Range Rover 3.0L V6 Supercharged HSE</th>\n",
       "      <th>2021</th>\n",
       "      <td>1</td>\n",
       "      <td>2954083.0</td>\n",
       "      <td>2954083</td>\n",
       "      <td>2954083</td>\n",
       "    </tr>\n",
       "    <tr>\n",
       "      <th>Rover Range Rover 5.0L Supercharged Autobiography LWB</th>\n",
       "      <th>2017</th>\n",
       "      <td>1</td>\n",
       "      <td>2954083.0</td>\n",
       "      <td>2954083</td>\n",
       "      <td>2954083</td>\n",
       "    </tr>\n",
       "    <tr>\n",
       "      <th>Rover Range Rover P525 HSE SWB</th>\n",
       "      <th>2020</th>\n",
       "      <td>1</td>\n",
       "      <td>2954083.0</td>\n",
       "      <td>2954083</td>\n",
       "      <td>2954083</td>\n",
       "    </tr>\n",
       "    <tr>\n",
       "      <th>Rover Range Rover Sport HST MHEV</th>\n",
       "      <th>2022</th>\n",
       "      <td>1</td>\n",
       "      <td>2954083.0</td>\n",
       "      <td>2954083</td>\n",
       "      <td>2954083</td>\n",
       "    </tr>\n",
       "    <tr>\n",
       "      <th>S4 Base</th>\n",
       "      <th>2004</th>\n",
       "      <td>1</td>\n",
       "      <td>2954083.0</td>\n",
       "      <td>2954083</td>\n",
       "      <td>2954083</td>\n",
       "    </tr>\n",
       "    <tr>\n",
       "      <th>SC 430 Base</th>\n",
       "      <th>2004</th>\n",
       "      <td>1</td>\n",
       "      <td>2954083.0</td>\n",
       "      <td>2954083</td>\n",
       "      <td>2954083</td>\n",
       "    </tr>\n",
       "    <tr>\n",
       "      <th>SL-Class SL500 Roadster</th>\n",
       "      <th>2005</th>\n",
       "      <td>1</td>\n",
       "      <td>2954083.0</td>\n",
       "      <td>2954083</td>\n",
       "      <td>2954083</td>\n",
       "    </tr>\n",
       "    <tr>\n",
       "      <th>SL-Class SL550 Roadster</th>\n",
       "      <th>2001</th>\n",
       "      <td>1</td>\n",
       "      <td>2954083.0</td>\n",
       "      <td>2954083</td>\n",
       "      <td>2954083</td>\n",
       "    </tr>\n",
       "    <tr>\n",
       "      <th>SL-Class SL600 Roadster</th>\n",
       "      <th>2005</th>\n",
       "      <td>1</td>\n",
       "      <td>2954083.0</td>\n",
       "      <td>2954083</td>\n",
       "      <td>2954083</td>\n",
       "    </tr>\n",
       "    <tr>\n",
       "      <th>Santa Fe SEL</th>\n",
       "      <th>2022</th>\n",
       "      <td>1</td>\n",
       "      <td>2954083.0</td>\n",
       "      <td>2954083</td>\n",
       "      <td>2954083</td>\n",
       "    </tr>\n",
       "    <tr>\n",
       "      <th>Sierra 1500 SLE1 Extended Cab</th>\n",
       "      <th>2020</th>\n",
       "      <td>1</td>\n",
       "      <td>2954083.0</td>\n",
       "      <td>2954083</td>\n",
       "      <td>2954083</td>\n",
       "    </tr>\n",
       "    <tr>\n",
       "      <th>Silverado 1500 Custom Trail Boss</th>\n",
       "      <th>2022</th>\n",
       "      <td>1</td>\n",
       "      <td>2954083.0</td>\n",
       "      <td>2954083</td>\n",
       "      <td>2954083</td>\n",
       "    </tr>\n",
       "    <tr>\n",
       "      <th>Tahoe LT</th>\n",
       "      <th>2018</th>\n",
       "      <td>1</td>\n",
       "      <td>2954083.0</td>\n",
       "      <td>2954083</td>\n",
       "      <td>2954083</td>\n",
       "    </tr>\n",
       "    <tr>\n",
       "      <th>Thunderbird Deluxe</th>\n",
       "      <th>2008</th>\n",
       "      <td>1</td>\n",
       "      <td>2954083.0</td>\n",
       "      <td>2954083</td>\n",
       "      <td>2954083</td>\n",
       "    </tr>\n",
       "    <tr>\n",
       "      <th>XT5 Luxury</th>\n",
       "      <th>2021</th>\n",
       "      <td>1</td>\n",
       "      <td>2954083.0</td>\n",
       "      <td>2954083</td>\n",
       "      <td>2954083</td>\n",
       "    </tr>\n",
       "  </tbody>\n",
       "</table>\n",
       "</div>"
      ],
      "text/plain": [
       "                                                               count  \\\n",
       "model                                              model_year          \n",
       "1500 Classic Warlock                               2019            1   \n",
       "1500 Laramie                                       2022            3   \n",
       "1500 Limited                                       2018            1   \n",
       "300C Base                                          2003            1   \n",
       "AMG GLE AMG GLE 63 S-Model 4MATIC                  2017            1   \n",
       "AMG GT 53 Base                                     2023            1   \n",
       "Bronco Raptor                                      2023            1   \n",
       "Continental GT V8                                  2021            1   \n",
       "Corvette Base                                      2005            1   \n",
       "                                                   2007            1   \n",
       "DeVille Base                                       1994            1   \n",
       "ES 350 Base                                        2008            1   \n",
       "Escalade ESV Platinum                              2015            1   \n",
       "Escalade Premium Luxury Platinum                   2021            1   \n",
       "Excursion Limited Ultimate                         2002            1   \n",
       "Expedition Max King Ranch                          2021            1   \n",
       "Expedition Max Limited                             2022            1   \n",
       "Expedition Timberline                              2021            1   \n",
       "F-150 XL                                           2022            1   \n",
       "F-150 XLT                                          2021            1   \n",
       "Firebird Trans Am                                  2001            1   \n",
       "Highlander SE                                      2014            1   \n",
       "Highlander XLE                                     2022            1   \n",
       "LS 430 Base                                        2002            1   \n",
       "                                                   2004            1   \n",
       "Martin DB7 Vantage Volante                         2005            1   \n",
       "Metris Base                                        2020            1   \n",
       "Model 3 Long Range                                 2021            1   \n",
       "Mustang GT                                         2005            1   \n",
       "Pilot Elite                                        2021            1   \n",
       "QX60 Base                                          2017            1   \n",
       "Ram 2500 Laramie Quad Cab                          2005            1   \n",
       "Rover LR4 Lux                                      2010            1   \n",
       "Rover Range Rover 3.0L V6 Supercharged HSE         2021            1   \n",
       "Rover Range Rover 5.0L Supercharged Autobiograp... 2017            1   \n",
       "Rover Range Rover P525 HSE SWB                     2020            1   \n",
       "Rover Range Rover Sport HST MHEV                   2022            1   \n",
       "S4 Base                                            2004            1   \n",
       "SC 430 Base                                        2004            1   \n",
       "SL-Class SL500 Roadster                            2005            1   \n",
       "SL-Class SL550 Roadster                            2001            1   \n",
       "SL-Class SL600 Roadster                            2005            1   \n",
       "Santa Fe SEL                                       2022            1   \n",
       "Sierra 1500 SLE1 Extended Cab                      2020            1   \n",
       "Silverado 1500 Custom Trail Boss                   2022            1   \n",
       "Tahoe LT                                           2018            1   \n",
       "Thunderbird Deluxe                                 2008            1   \n",
       "XT5 Luxury                                         2021            1   \n",
       "\n",
       "                                                                    mean  \\\n",
       "model                                              model_year              \n",
       "1500 Classic Warlock                               2019        2954083.0   \n",
       "1500 Laramie                                       2022        2954083.0   \n",
       "1500 Limited                                       2018        2954083.0   \n",
       "300C Base                                          2003        2954083.0   \n",
       "AMG GLE AMG GLE 63 S-Model 4MATIC                  2017        2954083.0   \n",
       "AMG GT 53 Base                                     2023        2954083.0   \n",
       "Bronco Raptor                                      2023        2954083.0   \n",
       "Continental GT V8                                  2021        2954083.0   \n",
       "Corvette Base                                      2005        2954083.0   \n",
       "                                                   2007        2954083.0   \n",
       "DeVille Base                                       1994        2954083.0   \n",
       "ES 350 Base                                        2008        2954083.0   \n",
       "Escalade ESV Platinum                              2015        2954083.0   \n",
       "Escalade Premium Luxury Platinum                   2021        2954083.0   \n",
       "Excursion Limited Ultimate                         2002        2954083.0   \n",
       "Expedition Max King Ranch                          2021        2954083.0   \n",
       "Expedition Max Limited                             2022        2954083.0   \n",
       "Expedition Timberline                              2021        2954083.0   \n",
       "F-150 XL                                           2022        2954083.0   \n",
       "F-150 XLT                                          2021        2954083.0   \n",
       "Firebird Trans Am                                  2001        2954083.0   \n",
       "Highlander SE                                      2014        2954083.0   \n",
       "Highlander XLE                                     2022        2954083.0   \n",
       "LS 430 Base                                        2002        2954083.0   \n",
       "                                                   2004        2954083.0   \n",
       "Martin DB7 Vantage Volante                         2005        2954083.0   \n",
       "Metris Base                                        2020        2954083.0   \n",
       "Model 3 Long Range                                 2021        2954083.0   \n",
       "Mustang GT                                         2005        2954083.0   \n",
       "Pilot Elite                                        2021        2954083.0   \n",
       "QX60 Base                                          2017        2954083.0   \n",
       "Ram 2500 Laramie Quad Cab                          2005        2954083.0   \n",
       "Rover LR4 Lux                                      2010        2954083.0   \n",
       "Rover Range Rover 3.0L V6 Supercharged HSE         2021        2954083.0   \n",
       "Rover Range Rover 5.0L Supercharged Autobiograp... 2017        2954083.0   \n",
       "Rover Range Rover P525 HSE SWB                     2020        2954083.0   \n",
       "Rover Range Rover Sport HST MHEV                   2022        2954083.0   \n",
       "S4 Base                                            2004        2954083.0   \n",
       "SC 430 Base                                        2004        2954083.0   \n",
       "SL-Class SL500 Roadster                            2005        2954083.0   \n",
       "SL-Class SL550 Roadster                            2001        2954083.0   \n",
       "SL-Class SL600 Roadster                            2005        2954083.0   \n",
       "Santa Fe SEL                                       2022        2954083.0   \n",
       "Sierra 1500 SLE1 Extended Cab                      2020        2954083.0   \n",
       "Silverado 1500 Custom Trail Boss                   2022        2954083.0   \n",
       "Tahoe LT                                           2018        2954083.0   \n",
       "Thunderbird Deluxe                                 2008        2954083.0   \n",
       "XT5 Luxury                                         2021        2954083.0   \n",
       "\n",
       "                                                                   min  \\\n",
       "model                                              model_year            \n",
       "1500 Classic Warlock                               2019        2954083   \n",
       "1500 Laramie                                       2022        2954083   \n",
       "1500 Limited                                       2018        2954083   \n",
       "300C Base                                          2003        2954083   \n",
       "AMG GLE AMG GLE 63 S-Model 4MATIC                  2017        2954083   \n",
       "AMG GT 53 Base                                     2023        2954083   \n",
       "Bronco Raptor                                      2023        2954083   \n",
       "Continental GT V8                                  2021        2954083   \n",
       "Corvette Base                                      2005        2954083   \n",
       "                                                   2007        2954083   \n",
       "DeVille Base                                       1994        2954083   \n",
       "ES 350 Base                                        2008        2954083   \n",
       "Escalade ESV Platinum                              2015        2954083   \n",
       "Escalade Premium Luxury Platinum                   2021        2954083   \n",
       "Excursion Limited Ultimate                         2002        2954083   \n",
       "Expedition Max King Ranch                          2021        2954083   \n",
       "Expedition Max Limited                             2022        2954083   \n",
       "Expedition Timberline                              2021        2954083   \n",
       "F-150 XL                                           2022        2954083   \n",
       "F-150 XLT                                          2021        2954083   \n",
       "Firebird Trans Am                                  2001        2954083   \n",
       "Highlander SE                                      2014        2954083   \n",
       "Highlander XLE                                     2022        2954083   \n",
       "LS 430 Base                                        2002        2954083   \n",
       "                                                   2004        2954083   \n",
       "Martin DB7 Vantage Volante                         2005        2954083   \n",
       "Metris Base                                        2020        2954083   \n",
       "Model 3 Long Range                                 2021        2954083   \n",
       "Mustang GT                                         2005        2954083   \n",
       "Pilot Elite                                        2021        2954083   \n",
       "QX60 Base                                          2017        2954083   \n",
       "Ram 2500 Laramie Quad Cab                          2005        2954083   \n",
       "Rover LR4 Lux                                      2010        2954083   \n",
       "Rover Range Rover 3.0L V6 Supercharged HSE         2021        2954083   \n",
       "Rover Range Rover 5.0L Supercharged Autobiograp... 2017        2954083   \n",
       "Rover Range Rover P525 HSE SWB                     2020        2954083   \n",
       "Rover Range Rover Sport HST MHEV                   2022        2954083   \n",
       "S4 Base                                            2004        2954083   \n",
       "SC 430 Base                                        2004        2954083   \n",
       "SL-Class SL500 Roadster                            2005        2954083   \n",
       "SL-Class SL550 Roadster                            2001        2954083   \n",
       "SL-Class SL600 Roadster                            2005        2954083   \n",
       "Santa Fe SEL                                       2022        2954083   \n",
       "Sierra 1500 SLE1 Extended Cab                      2020        2954083   \n",
       "Silverado 1500 Custom Trail Boss                   2022        2954083   \n",
       "Tahoe LT                                           2018        2954083   \n",
       "Thunderbird Deluxe                                 2008        2954083   \n",
       "XT5 Luxury                                         2021        2954083   \n",
       "\n",
       "                                                                   max  \n",
       "model                                              model_year           \n",
       "1500 Classic Warlock                               2019        2954083  \n",
       "1500 Laramie                                       2022        2954083  \n",
       "1500 Limited                                       2018        2954083  \n",
       "300C Base                                          2003        2954083  \n",
       "AMG GLE AMG GLE 63 S-Model 4MATIC                  2017        2954083  \n",
       "AMG GT 53 Base                                     2023        2954083  \n",
       "Bronco Raptor                                      2023        2954083  \n",
       "Continental GT V8                                  2021        2954083  \n",
       "Corvette Base                                      2005        2954083  \n",
       "                                                   2007        2954083  \n",
       "DeVille Base                                       1994        2954083  \n",
       "ES 350 Base                                        2008        2954083  \n",
       "Escalade ESV Platinum                              2015        2954083  \n",
       "Escalade Premium Luxury Platinum                   2021        2954083  \n",
       "Excursion Limited Ultimate                         2002        2954083  \n",
       "Expedition Max King Ranch                          2021        2954083  \n",
       "Expedition Max Limited                             2022        2954083  \n",
       "Expedition Timberline                              2021        2954083  \n",
       "F-150 XL                                           2022        2954083  \n",
       "F-150 XLT                                          2021        2954083  \n",
       "Firebird Trans Am                                  2001        2954083  \n",
       "Highlander SE                                      2014        2954083  \n",
       "Highlander XLE                                     2022        2954083  \n",
       "LS 430 Base                                        2002        2954083  \n",
       "                                                   2004        2954083  \n",
       "Martin DB7 Vantage Volante                         2005        2954083  \n",
       "Metris Base                                        2020        2954083  \n",
       "Model 3 Long Range                                 2021        2954083  \n",
       "Mustang GT                                         2005        2954083  \n",
       "Pilot Elite                                        2021        2954083  \n",
       "QX60 Base                                          2017        2954083  \n",
       "Ram 2500 Laramie Quad Cab                          2005        2954083  \n",
       "Rover LR4 Lux                                      2010        2954083  \n",
       "Rover Range Rover 3.0L V6 Supercharged HSE         2021        2954083  \n",
       "Rover Range Rover 5.0L Supercharged Autobiograp... 2017        2954083  \n",
       "Rover Range Rover P525 HSE SWB                     2020        2954083  \n",
       "Rover Range Rover Sport HST MHEV                   2022        2954083  \n",
       "S4 Base                                            2004        2954083  \n",
       "SC 430 Base                                        2004        2954083  \n",
       "SL-Class SL500 Roadster                            2005        2954083  \n",
       "SL-Class SL550 Roadster                            2001        2954083  \n",
       "SL-Class SL600 Roadster                            2005        2954083  \n",
       "Santa Fe SEL                                       2022        2954083  \n",
       "Sierra 1500 SLE1 Extended Cab                      2020        2954083  \n",
       "Silverado 1500 Custom Trail Boss                   2022        2954083  \n",
       "Tahoe LT                                           2018        2954083  \n",
       "Thunderbird Deluxe                                 2008        2954083  \n",
       "XT5 Luxury                                         2021        2954083  "
      ]
     },
     "execution_count": 23,
     "metadata": {},
     "output_type": "execute_result"
    }
   ],
   "source": [
    "df_outlier_4.groupby(['model','model_year'])['price'].agg(['count', 'mean', 'min', 'max'])"
   ]
  },
  {
   "cell_type": "code",
   "execution_count": 24,
   "metadata": {
    "colab": {
     "base_uri": "https://localhost:8080/",
     "height": 822
    },
    "id": "VADxJXGuFJx7",
    "outputId": "40f2fe39-fea7-4a40-d00c-1f756485ac8c"
   },
   "outputs": [],
   "source": [
    "# df_outlier_3.groupby(['brand','model','model_year']).apply(lambda x: x)"
   ]
  },
  {
   "cell_type": "code",
   "execution_count": 25,
   "metadata": {
    "colab": {
     "base_uri": "https://localhost:8080/",
     "height": 1000
    },
    "id": "xpY2jdtzFqjk",
    "outputId": "cad9cef8-3683-4323-ca4c-6362ab82f865"
   },
   "outputs": [],
   "source": [
    "# avg_price_outlier = df_outlier_4.groupby(['model', 'model_year'])['price'].agg(['mean', 'count'])\n",
    "# avg_price_outlier = avg_price_outlier.reset_index().rename(columns={'mean': 'outlier_avg_price', 'count': 'outlier_count'})\n",
    "\n",
    "# avg_price_non_outlier = df_non_outlier.groupby(['model', 'model_year'])['price'].agg(['mean','median', 'count'])\n",
    "# avg_price_non_outlier = avg_price_non_outlier.reset_index().rename(columns={'mean': 'non_outlier_avg_price','median':'non_outlier_median', 'count': 'non_outlier_count'})\n",
    "\n",
    "# combined_df = pd.merge(avg_price_outlier, avg_price_non_outlier, on=['model', 'model_year'], how='left')\n",
    "\n",
    "# print(\"Hasil Perbandingan:\")\n",
    "# display(combined_df)"
   ]
  },
  {
   "cell_type": "code",
   "execution_count": 26,
   "metadata": {
    "colab": {
     "base_uri": "https://localhost:8080/",
     "height": 441
    },
    "id": "-mMweVrvbJD6",
    "outputId": "3f66c776-48f6-4de6-e7aa-60be00be1be8"
   },
   "outputs": [],
   "source": [
    "\n",
    "# avg_price_outlier = df_outlier.groupby(['model', 'model_year'])['price'].agg(['mean', 'count'])\n",
    "# avg_price_outlier = avg_price_outlier.reset_index().rename(columns={'mean': 'outlier_avg_price', 'count': 'outlier_count'})\n",
    "\n",
    "# avg_price_non_outlier = df_non_outlier.groupby(['model', 'model_year'])['price'].agg(['mean', 'count'])\n",
    "# avg_price_non_outlier = avg_price_non_outlier.reset_index().rename(columns={'mean': 'non_outlier_avg_price', 'count': 'non_outlier_count'})\n",
    "\n",
    "# combined_df = pd.merge(avg_price_outlier, avg_price_non_outlier, on=['model', 'model_year'], how='left')\n",
    "\n",
    "# print(\"Hasil Perbandingan:\")\n",
    "# display(combined_df)"
   ]
  },
  {
   "cell_type": "markdown",
   "metadata": {
    "id": "rQZW-3mTakdE"
   },
   "source": [
    "### Brand"
   ]
  },
  {
   "cell_type": "code",
   "execution_count": 22,
   "metadata": {},
   "outputs": [
    {
     "data": {
      "text/plain": [
       "57"
      ]
     },
     "execution_count": 22,
     "metadata": {},
     "output_type": "execute_result"
    }
   ],
   "source": [
    "df_train['brand'].nunique()"
   ]
  },
  {
   "cell_type": "code",
   "execution_count": 20,
   "metadata": {
    "colab": {
     "base_uri": "https://localhost:8080/",
     "height": 1000
    },
    "id": "NziZnIoAifS3",
    "outputId": "c99dbc0a-d81c-4d6c-ead5-b59d7ba49365"
   },
   "outputs": [
    {
     "data": {
      "text/plain": [
       "brand\n",
       "Ford             23088\n",
       "Mercedes-Benz    19172\n",
       "BMW              17028\n",
       "Chevrolet        16335\n",
       "Audi             10887\n",
       "Porsche          10612\n",
       "Land              9525\n",
       "Toyota            8850\n",
       "Lexus             8643\n",
       "Jeep              6474\n",
       "Cadillac          4674\n",
       "RAM               4249\n",
       "Nissan            3930\n",
       "Tesla             3738\n",
       "INFINITI          3276\n",
       "GMC               3215\n",
       "Dodge             3133\n",
       "Mazda             2719\n",
       "Kia               2497\n",
       "Lincoln           2423\n",
       "Subaru            2381\n",
       "Acura             2282\n",
       "Honda             2101\n",
       "Hyundai           2045\n",
       "Volkswagen        1765\n",
       "Jaguar            1319\n",
       "Bentley           1155\n",
       "MINI              1064\n",
       "Genesis            969\n",
       "Buick              940\n",
       "Maserati           939\n",
       "Lamborghini        809\n",
       "Chrysler           727\n",
       "Volvo              723\n",
       "Alfa               682\n",
       "Rivian             590\n",
       "Rolls-Royce        561\n",
       "Mitsubishi         551\n",
       "Pontiac            538\n",
       "Hummer             520\n",
       "Ferrari            359\n",
       "McLaren            243\n",
       "Aston              238\n",
       "Saturn             148\n",
       "Scion              120\n",
       "Lucid               69\n",
       "Mercury             57\n",
       "Lotus               52\n",
       "FIAT                44\n",
       "Saab                22\n",
       "Karma               17\n",
       "Suzuki               8\n",
       "Plymouth             7\n",
       "Polestar             7\n",
       "Bugatti              7\n",
       "smart                3\n",
       "Maybach              3\n",
       "Name: count, dtype: int64"
      ]
     },
     "execution_count": 20,
     "metadata": {},
     "output_type": "execute_result"
    }
   ],
   "source": [
    "df_train['brand'].value_counts()"
   ]
  },
  {
   "cell_type": "code",
   "execution_count": 21,
   "metadata": {
    "colab": {
     "base_uri": "https://localhost:8080/"
    },
    "id": "tb4prVw07aCK",
    "outputId": "e9dd49cb-f7e6-48f6-9164-8aeff8be3f6e"
   },
   "outputs": [
    {
     "data": {
      "text/plain": [
       "array(['Acura', 'Alfa', 'Aston', 'Audi', 'BMW', 'Bentley', 'Bugatti',\n",
       "       'Buick', 'Cadillac', 'Chevrolet', 'Chrysler', 'Dodge', 'FIAT',\n",
       "       'Ferrari', 'Ford', 'GMC', 'Genesis', 'Honda', 'Hummer', 'Hyundai',\n",
       "       'INFINITI', 'Jaguar', 'Jeep', 'Karma', 'Kia', 'Lamborghini',\n",
       "       'Land', 'Lexus', 'Lincoln', 'Lotus', 'Lucid', 'MINI', 'Maserati',\n",
       "       'Maybach', 'Mazda', 'McLaren', 'Mercedes-Benz', 'Mercury',\n",
       "       'Mitsubishi', 'Nissan', 'Plymouth', 'Polestar', 'Pontiac',\n",
       "       'Porsche', 'RAM', 'Rivian', 'Rolls-Royce', 'Saab', 'Saturn',\n",
       "       'Scion', 'Subaru', 'Suzuki', 'Tesla', 'Toyota', 'Volkswagen',\n",
       "       'Volvo', 'smart'], dtype=object)"
      ]
     },
     "execution_count": 21,
     "metadata": {},
     "output_type": "execute_result"
    }
   ],
   "source": [
    "np.sort(df_train['brand'].unique())"
   ]
  },
  {
   "cell_type": "markdown",
   "metadata": {
    "id": "5skHSDFBeOx6"
   },
   "source": [
    "- Tidak terdapat kesalahan pada variabel `brand`.\n",
    "- Variabel `brand` memiliki 57 kategori."
   ]
  },
  {
   "cell_type": "markdown",
   "metadata": {
    "id": "SpVSPNMFanIH"
   },
   "source": [
    "### Model"
   ]
  },
  {
   "cell_type": "code",
   "execution_count": 24,
   "metadata": {},
   "outputs": [
    {
     "data": {
      "text/plain": [
       "1897"
      ]
     },
     "execution_count": 24,
     "metadata": {},
     "output_type": "execute_result"
    }
   ],
   "source": [
    "df_train['model'].nunique()"
   ]
  },
  {
   "cell_type": "code",
   "execution_count": 26,
   "metadata": {
    "colab": {
     "base_uri": "https://localhost:8080/",
     "height": 489
    },
    "id": "gecC_0NXappm",
    "outputId": "f1e5fae3-565d-4ec4-8d60-27b51ca1910b"
   },
   "outputs": [
    {
     "data": {
      "text/plain": [
       "model\n",
       "F-150 XLT                        2945\n",
       "M3 Base                          2229\n",
       "Camaro 2SS                       1709\n",
       "M4 Base                          1622\n",
       "Mustang GT Premium               1526\n",
       "                                 ... \n",
       "ForTwo Pure                         2\n",
       "XLR Base                            1\n",
       "X5 3.0i                             1\n",
       "X5 xDrive40e                        1\n",
       "Integra w/A-Spec Tech Package       1\n",
       "Name: count, Length: 1897, dtype: int64"
      ]
     },
     "execution_count": 26,
     "metadata": {},
     "output_type": "execute_result"
    }
   ],
   "source": [
    "df_train['model'].value_counts()"
   ]
  },
  {
   "cell_type": "markdown",
   "metadata": {
    "id": "Q53faKq2axX7"
   },
   "source": [
    "- Variabel `model` memiliki 1897 kategori."
   ]
  },
  {
   "cell_type": "markdown",
   "metadata": {
    "id": "tog9m5G5il-4"
   },
   "source": [
    "### Fuel Type"
   ]
  },
  {
   "cell_type": "code",
   "execution_count": 27,
   "metadata": {
    "colab": {
     "base_uri": "https://localhost:8080/"
    },
    "id": "V-2mU305BMmJ",
    "outputId": "94db8c1d-1b57-4ad3-d91d-47cb555a4ef1"
   },
   "outputs": [
    {
     "data": {
      "text/plain": [
       "array(['Gasoline', 'E85 Flex Fuel', nan, 'Hybrid', 'Diesel',\n",
       "       'Plug-In Hybrid', '–', 'not supported'], dtype=object)"
      ]
     },
     "execution_count": 27,
     "metadata": {},
     "output_type": "execute_result"
    }
   ],
   "source": [
    "df_train['fuel_type'].unique()"
   ]
  },
  {
   "cell_type": "code",
   "execution_count": 30,
   "metadata": {
    "colab": {
     "base_uri": "https://localhost:8080/",
     "height": 335
    },
    "id": "dUjRgy3Liqjm",
    "outputId": "e997d03c-5a0a-4d16-adca-37a559122a7c"
   },
   "outputs": [
    {
     "data": {
      "text/plain": [
       "fuel_type\n",
       "Gasoline          165940\n",
       "Hybrid              6832\n",
       "E85 Flex Fuel       5406\n",
       "Diesel              3955\n",
       "–                    781\n",
       "Plug-In Hybrid       521\n",
       "not supported         15\n",
       "Name: count, dtype: int64"
      ]
     },
     "execution_count": 30,
     "metadata": {},
     "output_type": "execute_result"
    }
   ],
   "source": [
    "df_train['fuel_type'].value_counts()"
   ]
  },
  {
   "cell_type": "code",
   "execution_count": 31,
   "metadata": {
    "colab": {
     "base_uri": "https://localhost:8080/",
     "height": 1000
    },
    "id": "jPGp215haK51",
    "outputId": "d9d57fe9-966a-4ad4-deff-5cea2bc4f558"
   },
   "outputs": [
    {
     "data": {
      "text/html": [
       "<div>\n",
       "<style scoped>\n",
       "    .dataframe tbody tr th:only-of-type {\n",
       "        vertical-align: middle;\n",
       "    }\n",
       "\n",
       "    .dataframe tbody tr th {\n",
       "        vertical-align: top;\n",
       "    }\n",
       "\n",
       "    .dataframe thead th {\n",
       "        text-align: right;\n",
       "    }\n",
       "</style>\n",
       "<table border=\"1\" class=\"dataframe\">\n",
       "  <thead>\n",
       "    <tr style=\"text-align: right;\">\n",
       "      <th></th>\n",
       "      <th>brand</th>\n",
       "      <th>model</th>\n",
       "      <th>model_year</th>\n",
       "      <th>milage</th>\n",
       "      <th>fuel_type</th>\n",
       "      <th>engine</th>\n",
       "      <th>transmission</th>\n",
       "      <th>ext_col</th>\n",
       "      <th>int_col</th>\n",
       "      <th>accident</th>\n",
       "      <th>clean_title</th>\n",
       "      <th>price</th>\n",
       "    </tr>\n",
       "    <tr>\n",
       "      <th>id</th>\n",
       "      <th></th>\n",
       "      <th></th>\n",
       "      <th></th>\n",
       "      <th></th>\n",
       "      <th></th>\n",
       "      <th></th>\n",
       "      <th></th>\n",
       "      <th></th>\n",
       "      <th></th>\n",
       "      <th></th>\n",
       "      <th></th>\n",
       "      <th></th>\n",
       "    </tr>\n",
       "  </thead>\n",
       "  <tbody>\n",
       "    <tr>\n",
       "      <th>4823</th>\n",
       "      <td>Chevrolet</td>\n",
       "      <td>Suburban LT</td>\n",
       "      <td>2011</td>\n",
       "      <td>109646</td>\n",
       "      <td>not supported</td>\n",
       "      <td>320.0HP 5.3L 8 Cylinder Engine Flex Fuel Capab...</td>\n",
       "      <td>6-Speed A/T</td>\n",
       "      <td>Black</td>\n",
       "      <td>Beige</td>\n",
       "      <td>None reported</td>\n",
       "      <td>Yes</td>\n",
       "      <td>18998</td>\n",
       "    </tr>\n",
       "    <tr>\n",
       "      <th>18000</th>\n",
       "      <td>Porsche</td>\n",
       "      <td>Camaro 2SS</td>\n",
       "      <td>2015</td>\n",
       "      <td>67000</td>\n",
       "      <td>not supported</td>\n",
       "      <td>240.0HP 2.0L 4 Cylinder Engine Gasoline Fuel</td>\n",
       "      <td>Transmission w/Dual Shift Mode</td>\n",
       "      <td>Black</td>\n",
       "      <td>Black</td>\n",
       "      <td>None reported</td>\n",
       "      <td>Yes</td>\n",
       "      <td>11500</td>\n",
       "    </tr>\n",
       "    <tr>\n",
       "      <th>19182</th>\n",
       "      <td>Nissan</td>\n",
       "      <td>Mirai Limited</td>\n",
       "      <td>2000</td>\n",
       "      <td>131000</td>\n",
       "      <td>not supported</td>\n",
       "      <td>182.0HP Electric Motor Hydrogen Fuel</td>\n",
       "      <td>A/T</td>\n",
       "      <td>Silver</td>\n",
       "      <td>Black</td>\n",
       "      <td>None reported</td>\n",
       "      <td>Yes</td>\n",
       "      <td>5000</td>\n",
       "    </tr>\n",
       "    <tr>\n",
       "      <th>27199</th>\n",
       "      <td>Subaru</td>\n",
       "      <td>Outback 2.5i Limited</td>\n",
       "      <td>2017</td>\n",
       "      <td>116000</td>\n",
       "      <td>not supported</td>\n",
       "      <td>175.0HP 2.5L 4 Cylinder Engine Gasoline Fuel</td>\n",
       "      <td>CVT Transmission</td>\n",
       "      <td>Gray</td>\n",
       "      <td>Black</td>\n",
       "      <td>At least 1 accident or damage reported</td>\n",
       "      <td>Yes</td>\n",
       "      <td>27499</td>\n",
       "    </tr>\n",
       "    <tr>\n",
       "      <th>33030</th>\n",
       "      <td>Nissan</td>\n",
       "      <td>Mirai Limited</td>\n",
       "      <td>2009</td>\n",
       "      <td>137333</td>\n",
       "      <td>not supported</td>\n",
       "      <td>182.0HP Electric Motor Hydrogen Fuel</td>\n",
       "      <td>A/T</td>\n",
       "      <td>White</td>\n",
       "      <td>Gray</td>\n",
       "      <td>At least 1 accident or damage reported</td>\n",
       "      <td>Yes</td>\n",
       "      <td>12999</td>\n",
       "    </tr>\n",
       "    <tr>\n",
       "      <th>60717</th>\n",
       "      <td>Chevrolet</td>\n",
       "      <td>Silverado 1500 RST</td>\n",
       "      <td>2020</td>\n",
       "      <td>19200</td>\n",
       "      <td>not supported</td>\n",
       "      <td>355.0HP 5.3L 8 Cylinder Engine Gasoline Fuel</td>\n",
       "      <td>10-Speed A/T</td>\n",
       "      <td>White</td>\n",
       "      <td>Black</td>\n",
       "      <td>At least 1 accident or damage reported</td>\n",
       "      <td>Yes</td>\n",
       "      <td>58000</td>\n",
       "    </tr>\n",
       "    <tr>\n",
       "      <th>74096</th>\n",
       "      <td>Toyota</td>\n",
       "      <td>Mirai Limited</td>\n",
       "      <td>2021</td>\n",
       "      <td>79876</td>\n",
       "      <td>not supported</td>\n",
       "      <td>182.0HP Electric Motor Hydrogen Fuel</td>\n",
       "      <td>A/T</td>\n",
       "      <td>Red</td>\n",
       "      <td>Black</td>\n",
       "      <td>None reported</td>\n",
       "      <td>Yes</td>\n",
       "      <td>15000</td>\n",
       "    </tr>\n",
       "    <tr>\n",
       "      <th>86897</th>\n",
       "      <td>Lexus</td>\n",
       "      <td>IS 350 F Sport</td>\n",
       "      <td>2022</td>\n",
       "      <td>9500</td>\n",
       "      <td>not supported</td>\n",
       "      <td>311.0HP 3.5L V6 Cylinder Engine Gasoline Fuel</td>\n",
       "      <td>A/T</td>\n",
       "      <td>Gray</td>\n",
       "      <td>Black</td>\n",
       "      <td>None reported</td>\n",
       "      <td>Yes</td>\n",
       "      <td>60000</td>\n",
       "    </tr>\n",
       "    <tr>\n",
       "      <th>94425</th>\n",
       "      <td>Porsche</td>\n",
       "      <td>Cayenne Turbo GT</td>\n",
       "      <td>2018</td>\n",
       "      <td>52000</td>\n",
       "      <td>not supported</td>\n",
       "      <td>550.0HP 4.8L 8 Cylinder Engine Gasoline Fuel</td>\n",
       "      <td>Transmission w/Dual Shift Mode</td>\n",
       "      <td>Gray</td>\n",
       "      <td>Gray</td>\n",
       "      <td>At least 1 accident or damage reported</td>\n",
       "      <td>Yes</td>\n",
       "      <td>35000</td>\n",
       "    </tr>\n",
       "    <tr>\n",
       "      <th>127066</th>\n",
       "      <td>Toyota</td>\n",
       "      <td>Mirai Limited</td>\n",
       "      <td>2016</td>\n",
       "      <td>58664</td>\n",
       "      <td>not supported</td>\n",
       "      <td>151.0HP Electric Motor Hydrogen Fuel</td>\n",
       "      <td>CVT Transmission</td>\n",
       "      <td>Black</td>\n",
       "      <td>Black</td>\n",
       "      <td>At least 1 accident or damage reported</td>\n",
       "      <td>Yes</td>\n",
       "      <td>22500</td>\n",
       "    </tr>\n",
       "    <tr>\n",
       "      <th>128917</th>\n",
       "      <td>Mazda</td>\n",
       "      <td>MX-5 Miata Base</td>\n",
       "      <td>1999</td>\n",
       "      <td>120000</td>\n",
       "      <td>not supported</td>\n",
       "      <td>140.0HP 1.8L 4 Cylinder Engine Gasoline Fuel</td>\n",
       "      <td>5-Speed M/T</td>\n",
       "      <td>Black</td>\n",
       "      <td>Beige</td>\n",
       "      <td>At least 1 accident or damage reported</td>\n",
       "      <td>Yes</td>\n",
       "      <td>4000</td>\n",
       "    </tr>\n",
       "    <tr>\n",
       "      <th>135865</th>\n",
       "      <td>Lexus</td>\n",
       "      <td>Mirai Limited</td>\n",
       "      <td>2014</td>\n",
       "      <td>123331</td>\n",
       "      <td>not supported</td>\n",
       "      <td>182.0HP Electric Motor Hydrogen Fuel</td>\n",
       "      <td>A/T</td>\n",
       "      <td>Red</td>\n",
       "      <td>Gray</td>\n",
       "      <td>At least 1 accident or damage reported</td>\n",
       "      <td>Yes</td>\n",
       "      <td>11495</td>\n",
       "    </tr>\n",
       "    <tr>\n",
       "      <th>140206</th>\n",
       "      <td>Lexus</td>\n",
       "      <td>RX 330 Base</td>\n",
       "      <td>2006</td>\n",
       "      <td>110000</td>\n",
       "      <td>not supported</td>\n",
       "      <td>230.0HP 3.3L V6 Cylinder Engine Gasoline Fuel</td>\n",
       "      <td>5-Speed A/T</td>\n",
       "      <td>White</td>\n",
       "      <td>Beige</td>\n",
       "      <td>At least 1 accident or damage reported</td>\n",
       "      <td>Yes</td>\n",
       "      <td>9500</td>\n",
       "    </tr>\n",
       "    <tr>\n",
       "      <th>171120</th>\n",
       "      <td>Hummer</td>\n",
       "      <td>H2 Base</td>\n",
       "      <td>2013</td>\n",
       "      <td>152068</td>\n",
       "      <td>not supported</td>\n",
       "      <td>316.0HP 6.0L 8 Cylinder Engine Gasoline Fuel</td>\n",
       "      <td>A/T</td>\n",
       "      <td>Black</td>\n",
       "      <td>Black</td>\n",
       "      <td>At least 1 accident or damage reported</td>\n",
       "      <td>Yes</td>\n",
       "      <td>14000</td>\n",
       "    </tr>\n",
       "    <tr>\n",
       "      <th>171659</th>\n",
       "      <td>Toyota</td>\n",
       "      <td>Mirai Limited</td>\n",
       "      <td>2021</td>\n",
       "      <td>44000</td>\n",
       "      <td>not supported</td>\n",
       "      <td>182.0HP Electric Motor Hydrogen Fuel</td>\n",
       "      <td>A/T</td>\n",
       "      <td>Gray</td>\n",
       "      <td>Black</td>\n",
       "      <td>None reported</td>\n",
       "      <td>Yes</td>\n",
       "      <td>4900</td>\n",
       "    </tr>\n",
       "  </tbody>\n",
       "</table>\n",
       "</div>"
      ],
      "text/plain": [
       "            brand                 model  model_year  milage      fuel_type  \\\n",
       "id                                                                           \n",
       "4823    Chevrolet           Suburban LT        2011  109646  not supported   \n",
       "18000     Porsche            Camaro 2SS        2015   67000  not supported   \n",
       "19182      Nissan         Mirai Limited        2000  131000  not supported   \n",
       "27199      Subaru  Outback 2.5i Limited        2017  116000  not supported   \n",
       "33030      Nissan         Mirai Limited        2009  137333  not supported   \n",
       "60717   Chevrolet    Silverado 1500 RST        2020   19200  not supported   \n",
       "74096      Toyota         Mirai Limited        2021   79876  not supported   \n",
       "86897       Lexus        IS 350 F Sport        2022    9500  not supported   \n",
       "94425     Porsche      Cayenne Turbo GT        2018   52000  not supported   \n",
       "127066     Toyota         Mirai Limited        2016   58664  not supported   \n",
       "128917      Mazda       MX-5 Miata Base        1999  120000  not supported   \n",
       "135865      Lexus         Mirai Limited        2014  123331  not supported   \n",
       "140206      Lexus           RX 330 Base        2006  110000  not supported   \n",
       "171120     Hummer               H2 Base        2013  152068  not supported   \n",
       "171659     Toyota         Mirai Limited        2021   44000  not supported   \n",
       "\n",
       "                                                   engine  \\\n",
       "id                                                          \n",
       "4823    320.0HP 5.3L 8 Cylinder Engine Flex Fuel Capab...   \n",
       "18000        240.0HP 2.0L 4 Cylinder Engine Gasoline Fuel   \n",
       "19182                182.0HP Electric Motor Hydrogen Fuel   \n",
       "27199        175.0HP 2.5L 4 Cylinder Engine Gasoline Fuel   \n",
       "33030                182.0HP Electric Motor Hydrogen Fuel   \n",
       "60717        355.0HP 5.3L 8 Cylinder Engine Gasoline Fuel   \n",
       "74096                182.0HP Electric Motor Hydrogen Fuel   \n",
       "86897       311.0HP 3.5L V6 Cylinder Engine Gasoline Fuel   \n",
       "94425        550.0HP 4.8L 8 Cylinder Engine Gasoline Fuel   \n",
       "127066               151.0HP Electric Motor Hydrogen Fuel   \n",
       "128917       140.0HP 1.8L 4 Cylinder Engine Gasoline Fuel   \n",
       "135865               182.0HP Electric Motor Hydrogen Fuel   \n",
       "140206      230.0HP 3.3L V6 Cylinder Engine Gasoline Fuel   \n",
       "171120       316.0HP 6.0L 8 Cylinder Engine Gasoline Fuel   \n",
       "171659               182.0HP Electric Motor Hydrogen Fuel   \n",
       "\n",
       "                          transmission ext_col int_col  \\\n",
       "id                                                       \n",
       "4823                       6-Speed A/T   Black   Beige   \n",
       "18000   Transmission w/Dual Shift Mode   Black   Black   \n",
       "19182                              A/T  Silver   Black   \n",
       "27199                 CVT Transmission    Gray   Black   \n",
       "33030                              A/T   White    Gray   \n",
       "60717                     10-Speed A/T   White   Black   \n",
       "74096                              A/T     Red   Black   \n",
       "86897                              A/T    Gray   Black   \n",
       "94425   Transmission w/Dual Shift Mode    Gray    Gray   \n",
       "127066                CVT Transmission   Black   Black   \n",
       "128917                     5-Speed M/T   Black   Beige   \n",
       "135865                             A/T     Red    Gray   \n",
       "140206                     5-Speed A/T   White   Beige   \n",
       "171120                             A/T   Black   Black   \n",
       "171659                             A/T    Gray   Black   \n",
       "\n",
       "                                      accident clean_title  price  \n",
       "id                                                                 \n",
       "4823                             None reported         Yes  18998  \n",
       "18000                            None reported         Yes  11500  \n",
       "19182                            None reported         Yes   5000  \n",
       "27199   At least 1 accident or damage reported         Yes  27499  \n",
       "33030   At least 1 accident or damage reported         Yes  12999  \n",
       "60717   At least 1 accident or damage reported         Yes  58000  \n",
       "74096                            None reported         Yes  15000  \n",
       "86897                            None reported         Yes  60000  \n",
       "94425   At least 1 accident or damage reported         Yes  35000  \n",
       "127066  At least 1 accident or damage reported         Yes  22500  \n",
       "128917  At least 1 accident or damage reported         Yes   4000  \n",
       "135865  At least 1 accident or damage reported         Yes  11495  \n",
       "140206  At least 1 accident or damage reported         Yes   9500  \n",
       "171120  At least 1 accident or damage reported         Yes  14000  \n",
       "171659                           None reported         Yes   4900  "
      ]
     },
     "execution_count": 31,
     "metadata": {},
     "output_type": "execute_result"
    }
   ],
   "source": [
    "df_train[df_train['fuel_type'] =='not supported']"
   ]
  },
  {
   "cell_type": "markdown",
   "metadata": {
    "id": "CJnGygWFbV6u"
   },
   "source": [
    "- Variabel `fuel_type` memiliki missing value yang tersimpan sebagai `-`,`not supported` dan`nan` serta perlu ditambahkan kategori `Hydrogen fuel`."
   ]
  },
  {
   "cell_type": "markdown",
   "metadata": {
    "id": "3OE8_FN8iQ4S"
   },
   "source": [
    "### Engine"
   ]
  },
  {
   "cell_type": "code",
   "execution_count": 28,
   "metadata": {
    "colab": {
     "base_uri": "https://localhost:8080/",
     "height": 423
    },
    "id": "CWVg5rhIksTv",
    "outputId": "9a4b220e-e33a-448b-f4fe-76660ccc7bfa"
   },
   "outputs": [
    {
     "data": {
      "text/html": [
       "<div>\n",
       "<style scoped>\n",
       "    .dataframe tbody tr th:only-of-type {\n",
       "        vertical-align: middle;\n",
       "    }\n",
       "\n",
       "    .dataframe tbody tr th {\n",
       "        vertical-align: top;\n",
       "    }\n",
       "\n",
       "    .dataframe thead th {\n",
       "        text-align: right;\n",
       "    }\n",
       "</style>\n",
       "<table border=\"1\" class=\"dataframe\">\n",
       "  <thead>\n",
       "    <tr style=\"text-align: right;\">\n",
       "      <th></th>\n",
       "      <th>0</th>\n",
       "    </tr>\n",
       "  </thead>\n",
       "  <tbody>\n",
       "    <tr>\n",
       "      <th>0</th>\n",
       "      <td>172.0HP 1.6L 4 Cylinder Engine Gasoline Fuel</td>\n",
       "    </tr>\n",
       "    <tr>\n",
       "      <th>1</th>\n",
       "      <td>252.0HP 3.9L 8 Cylinder Engine Gasoline Fuel</td>\n",
       "    </tr>\n",
       "    <tr>\n",
       "      <th>2</th>\n",
       "      <td>320.0HP 5.3L 8 Cylinder Engine Flex Fuel Capab...</td>\n",
       "    </tr>\n",
       "    <tr>\n",
       "      <th>3</th>\n",
       "      <td>420.0HP 5.0L 8 Cylinder Engine Gasoline Fuel</td>\n",
       "    </tr>\n",
       "    <tr>\n",
       "      <th>4</th>\n",
       "      <td>208.0HP 2.0L 4 Cylinder Engine Gasoline Fuel</td>\n",
       "    </tr>\n",
       "    <tr>\n",
       "      <th>...</th>\n",
       "      <td>...</td>\n",
       "    </tr>\n",
       "    <tr>\n",
       "      <th>1112</th>\n",
       "      <td>151.0HP 1.5L 4 Cylinder Engine Gas/Electric Hy...</td>\n",
       "    </tr>\n",
       "    <tr>\n",
       "      <th>1113</th>\n",
       "      <td>184.0HP 2.4L 4 Cylinder Engine Flex Fuel Capab...</td>\n",
       "    </tr>\n",
       "    <tr>\n",
       "      <th>1114</th>\n",
       "      <td>78.0HP 1.2L 3 Cylinder Engine Gasoline Fuel</td>\n",
       "    </tr>\n",
       "    <tr>\n",
       "      <th>1115</th>\n",
       "      <td>139.0HP 1.6L 4 Cylinder Engine Plug-In Electri...</td>\n",
       "    </tr>\n",
       "    <tr>\n",
       "      <th>1116</th>\n",
       "      <td>313.0HP 2.0L 4 Cylinder Engine Plug-In Electri...</td>\n",
       "    </tr>\n",
       "  </tbody>\n",
       "</table>\n",
       "<p>1117 rows × 1 columns</p>\n",
       "</div>"
      ],
      "text/plain": [
       "                                                      0\n",
       "0          172.0HP 1.6L 4 Cylinder Engine Gasoline Fuel\n",
       "1          252.0HP 3.9L 8 Cylinder Engine Gasoline Fuel\n",
       "2     320.0HP 5.3L 8 Cylinder Engine Flex Fuel Capab...\n",
       "3          420.0HP 5.0L 8 Cylinder Engine Gasoline Fuel\n",
       "4          208.0HP 2.0L 4 Cylinder Engine Gasoline Fuel\n",
       "...                                                 ...\n",
       "1112  151.0HP 1.5L 4 Cylinder Engine Gas/Electric Hy...\n",
       "1113  184.0HP 2.4L 4 Cylinder Engine Flex Fuel Capab...\n",
       "1114        78.0HP 1.2L 3 Cylinder Engine Gasoline Fuel\n",
       "1115  139.0HP 1.6L 4 Cylinder Engine Plug-In Electri...\n",
       "1116  313.0HP 2.0L 4 Cylinder Engine Plug-In Electri...\n",
       "\n",
       "[1117 rows x 1 columns]"
      ]
     },
     "execution_count": 28,
     "metadata": {},
     "output_type": "execute_result"
    }
   ],
   "source": [
    "pd.DataFrame(df_train['engine'].unique())"
   ]
  },
  {
   "cell_type": "code",
   "execution_count": 30,
   "metadata": {
    "id": "qeAVlRy-pln9"
   },
   "outputs": [],
   "source": [
    "mask = ~df_train['engine'].str.contains('cylinder', case=False, na=False)"
   ]
  },
  {
   "cell_type": "code",
   "execution_count": 31,
   "metadata": {
    "colab": {
     "base_uri": "https://localhost:8080/"
    },
    "id": "2INr4CN5tPeU",
    "outputId": "5948402e-67ec-4b96-bb81-28c20c676629"
   },
   "outputs": [
    {
     "data": {
      "text/plain": [
       "array(['2.7L V6 24V PDI DOHC Twin Turbo',\n",
       "       'Electric Motor Electric Fuel System', '5.2L V10 40V PDI DOHC',\n",
       "       '518.0HP Electric Motor Electric Fuel System',\n",
       "       '3.6L V6 24V GDI DOHC', '4.0L V8 32V GDI DOHC Twin Turbo',\n",
       "       '835.0HP Electric Motor Electric Fuel System',\n",
       "       '5.7L V8 16V MPFI OHV', 'Dual Motor - Standard',\n",
       "       '3.0L V6 24V GDI DOHC Twin Turbo',\n",
       "       '3.8L V8 32V MPFI DOHC Twin Turbo',\n",
       "       '3.4L V6 24V PDI DOHC Twin Turbo Hybrid',\n",
       "       '3.5L V6 24V PDI DOHC Twin Turbo', '2.0L I4 16V PDI DOHC Turbo',\n",
       "       '2.4L I4 16V GDI DOHC', '2.0 Liter DOHC Turbo',\n",
       "       '3.6L V6 24V MPFI DOHC', '6.0L V8 16V MPFI OHV Flexible Fuel',\n",
       "       '2.0L I4 16V GDI DOHC Turbo', '2.3L I4 16V GDI DOHC Turbo',\n",
       "       '670.0HP Electric Motor Electric Fuel System', 'Electric',\n",
       "       '5.3L V8 16V GDI OHV',\n",
       "       '425.0HP Electric Motor Electric Fuel System', '2.0 Liter',\n",
       "       '3.0L V6 24V GDI DOHC Turbo', '3.8L V6 24V GDI DOHC',\n",
       "       '3.8L H6 24V GDI DOHC Twin Turbo', '2.0 Liter Turbo',\n",
       "       '455.0HP Electric Motor Electric Fuel System', '3.0 Liter Turbo',\n",
       "       '2.0 Liter TFSI', '3.5 Liter', '2.5L H4 16V MPFI DOHC',\n",
       "       '4.4L V8 32V GDI DOHC Twin Turbo', '5.6 Liter',\n",
       "       '4.6L V8 32V MPFI DOHC', '4.0L V8 32V MPFI DOHC Twin Turbo',\n",
       "       '2.5L I4 16V GDI DOHC', '3.6L V6 24V MPFI DOHC Hybrid',\n",
       "       '2.0L I4 16V GDI SOHC Turbo', '1.5L I3 12V PDI DOHC Turbo',\n",
       "       '5.0L V8 32V GDI DOHC Supercharged', '5.0 Liter',\n",
       "       '557.0HP Electric Motor Electric Fuel System',\n",
       "       '4.0L H6 24V GDI DOHC',\n",
       "       '200.0HP Electric Motor Electric Fuel System',\n",
       "       '6.3L V12 48V GDI DOHC', '6.7L I6 24V DDI OHV Turbo Diesel',\n",
       "       '3.4L H6 24V MPFI DOHC', '2.7L V6 24V GDI DOHC Twin Turbo', '–',\n",
       "       '3.6 Liter DOHC', '232.0HP 1.3L Rotary engine Gasoline Fuel',\n",
       "       '3.6 Liter SIDI DOHC', '2.0L I4 16V GDI DOHC Turbo Hybrid',\n",
       "       '5.0L V8 32V PDI DOHC', '3.0L H6 24V GDI DOHC Twin Turbo',\n",
       "       '3.5L V6 24V PDI DOHC', '6.4L V8 16V MPFI OHV',\n",
       "       '3.6L V6 24V MPFI DOHC Flexible Fuel',\n",
       "       '6.7L V12 48V GDI DOHC Twin Turbo',\n",
       "       '3.4L V6 24V PDI DOHC Twin Turbo', '4.0 Liter Twin Turbo',\n",
       "       '3.8L H6 24V MPFI DOHC',\n",
       "       '214.0HP Electric Motor Electric Fuel System',\n",
       "       'Intercooled Turbo Diesel V-8 6.7 L/406',\n",
       "       '778.0HP Electric Motor Electric Fuel System',\n",
       "       '2.5L I4 16V PDI DOHC Turbo', '4.0 Liter TFSI',\n",
       "       '3.3L V6 24V GDI DOHC', '3.6 Liter', '2.5L I4 16V GDI DOHC Turbo',\n",
       "       '271.0HP Electric Motor Electric Fuel System', '3.5 Liter DOHC',\n",
       "       '5.7L V8 32V MPFI DOHC', '3.0 Liter DOHC Twin Turbo',\n",
       "       '2.0L I4 16V GDI DOHC', '2.0L I4 16V MPFI DOHC',\n",
       "       '3.0L I6 24V DDI DOHC Turbo Diesel',\n",
       "       '482.0HP Electric Motor Electric Fuel System',\n",
       "       '2.5L I4 16V PDI DOHC', '6.2L V8 16V GDI OHV',\n",
       "       '3.0L I6 24V GDI DOHC Turbo', '3.5L V6 24V GDI SOHC',\n",
       "       '480.0HP Electric Motor Electric Fuel System',\n",
       "       '5.6L V8 32V GDI DOHC', '3.5L V6 24V MPFI DOHC',\n",
       "       '2.5L H4 16V GDI DOHC',\n",
       "       '362.0HP Electric Motor Electric Fuel System',\n",
       "       '201.0HP Electric Motor Electric Fuel System', '6.4 Liter', 'V6',\n",
       "       '563.0HP Electric Motor Electric Fuel System', '3.0 Liter',\n",
       "       '3.5L V6 24V PDI DOHC Hybrid', '6.0L V8 16V MPFI OHV',\n",
       "       '2.4L I4 16V MPFI DOHC',\n",
       "       '2.0L I4 16V GDI DOHC Turbo Flexible Fuel',\n",
       "       '5.2L V10 40V GDI DOHC', '1.3L I3 12V GDI DOHC Turbo',\n",
       "       '2.0L I4 16V GDI DOHC Hybrid', '3.0 Liter TFSI',\n",
       "       '6.5L V12 48V MPFI DOHC', '1.6L I4 16V GDI DOHC Turbo',\n",
       "       '3.5 Liter SOHC',\n",
       "       '170.0HP 0.65L Electric Motor Electric Fuel System',\n",
       "       '3.0 Liter Twin Turbo', '5.4 Liter', '3.6L V6 GDI DOHC',\n",
       "       '2.5 Liter', '534.0HP Electric Motor Electric Fuel System',\n",
       "       'Standard Range Battery', '4.7 Liter Twin Turbo', '4.6 Liter',\n",
       "       '266.0HP Electric Motor Electric Fuel System',\n",
       "       '3.5L V6 24V GDI DOHC Twin Turbo',\n",
       "       '6.7L V8 32V DDI OHV Turbo Diesel', '3.5L 24V SOHC I-VTEC V6',\n",
       "       '3.2L V6 24V MPFI DOHC', '1.5L I4 16V GDI DOHC Turbo',\n",
       "       '2.5L I4 16V MPFI DOHC', '2.9L V6 24V GDI DOHC Twin Turbo',\n",
       "       '2.4 Liter', '2.5L I4 16V',\n",
       "       '355.0HP Electric Motor Electric Fuel System',\n",
       "       '422.0HP Electric Motor Electric Fuel System', '4.0 Liter',\n",
       "       '3.0 Liter GTDI', '3.5L V6 24V PDI DOHC Twin Turbo Hybrid',\n",
       "       '346.0HP Electric Motor Electric Fuel System', '4.4 Liter',\n",
       "       '2.4L H4 16V GDI DOHC Turbo', '6.0L W12 48V PDI DOHC Twin Turbo',\n",
       "       '4.4 Liter Twin Turbo',\n",
       "       '1020.0HP Electric Motor Electric Fuel System',\n",
       "       '4.0L V6 24V MPFI DOHC', '3.2L H6 24V MPFI DOHC',\n",
       "       '6.8L V12 48V GDI DOHC Twin Turbo', '2.4L I4 16V MPFI SOHC',\n",
       "       'Intercooled Turbo Premium Unleaded I-4 2.0 L/122',\n",
       "       '295.0HP Electric Motor Electric Fuel System',\n",
       "       '1.3L I3 12V MPFI DOHC Turbo', '4.2L V8 32V GDI DOHC',\n",
       "       '107.0HP Electric Motor Electric Fuel System',\n",
       "       '2.4L I4 16V PDI DOHC Turbo', '6.6L V8 32V DDI OHV Turbo Diesel',\n",
       "       '320.0HP Electric Motor Electric Fuel System', '5.4 Liter SC DOHC',\n",
       "       '329.0HP Electric Motor Electric Fuel System',\n",
       "       '6.6L V8 16V GDI OHV', '2.7 Liter DOHC Turbo',\n",
       "       '4.2L V8 32V GDI DOHC Twin Turbo',\n",
       "       '3.0L V6 24V PDI DOHC Twin Turbo', '6.2 Liter', '4.0L',\n",
       "       '1.6L I4 16V GDI DOHC Turbo Hybrid', '1.5L I3 12V GDI DOHC Turbo',\n",
       "       '536.0HP Electric Motor Electric Fuel System',\n",
       "       '212.0HP 1.3L Rotary engine Gasoline Fuel',\n",
       "       '5.3L V8 16V MPFI OHV Flexible Fuel', '6.6 Liter Twin Turbo',\n",
       "       '403.0HP 2.0L Electric Motor Electric Fuel System',\n",
       "       '2.5L I4 16V MPFI DOHC Hybrid', '3.0 Liter SC ULEV',\n",
       "       '3.5L V6 24V GDI DOHC', 'I4', '2.5L',\n",
       "       '3.0L I6 24V GDI DOHC Twin Turbo', '2.0 Liter Supercharged',\n",
       "       '2.0 Liter TSI', '416.0HP Electric Motor Electric Fuel System',\n",
       "       '2.0L I4 16V MPFI DOHC Hybrid', 'V8',\n",
       "       '6.2L V8 16V MPFI SOHC Flexible Fuel', '2.0 Liter DOHC T/C',\n",
       "       '3.0L V6 24V GDI DOHC Supercharged',\n",
       "       '3.8L V8 32V GDI DOHC Twin Turbo',\n",
       "       '3.8L V6 24V MPFI DOHC Twin Turbo', '3.0L',\n",
       "       '375.0HP Electric Motor Electric Fuel System', '4.0 Liter Turbo',\n",
       "       '1.2L I3 12V GDI DOHC Turbo',\n",
       "       '691.0HP Electric Motor Electric Fuel System',\n",
       "       '3.9L V8 32V GDI DOHC Twin Turbo', '2.7L I4 16V GDI DOHC Turbo',\n",
       "       '5.7 Liter', '1.6L I4 16V MPFI DOHC',\n",
       "       '5.2L V12 48V GDI DOHC Twin Turbo',\n",
       "       '8.0L W16 64V GDI DOHC Twin Turbo', '3.0 Liter DOHC Turbo',\n",
       "       '120 AH', '417.0HP Electric Motor Electric Fuel System',\n",
       "       '2.9 Liter Turbo', '1.6L I4 16V GDI DOHC Hybrid',\n",
       "       '2.5L I4 16V PDI DOHC Hybrid', '4.4 Liter DOHC Twin Turbo',\n",
       "       '6.2L V8 16V GDI OHV Supercharged',\n",
       "       '147.0HP Electric Motor Electric Fuel System',\n",
       "       '6.8L V12 48V GDI DOHC', 'Battery Electric',\n",
       "       '151.0HP Electric Motor Hydrogen Fuel',\n",
       "       '182.0HP Electric Motor Hydrogen Fuel',\n",
       "       '616.0HP Electric Motor Electric Fuel System', '5.3 Liter',\n",
       "       '3.2L V6 18V MPFI SOHC', '2.0L I4 16V GDI DOHC Flexible Fuel',\n",
       "       '500.0HP Electric Motor Electric Fuel System', '5.5 Liter',\n",
       "       '1.8 Liter', '620.0HP Electric Motor Electric Fuel System',\n",
       "       '1.5 Liter Turbo', '321.0HP Electric Motor Electric Fuel System',\n",
       "       '3.5 Liter GTDI', '6.4L V8 32V DDI OHV Twin Turbo Diesel',\n",
       "       '111.2Ah / FR 70kW / RR 160kW (697V)',\n",
       "       '533.0HP Electric Motor Electric Fuel System',\n",
       "       '5.8L V8 32V MPFI DOHC Supercharged', '1.4L I4 16V GDI DOHC Turbo',\n",
       "       'Dual AC Electric Motors', '4.4 Liter GDI DOHC Twin Turbo',\n",
       "       '6.2L V8 32V MPFI DOHC',\n",
       "       '290.0HP Electric Motor Electric Fuel System',\n",
       "       '1.6L I4 16V GDI DOHC',\n",
       "       '402.0HP Electric Motor Electric Fuel System',\n",
       "       '111.0HP Electric Motor Electric Fuel System',\n",
       "       '3.8L V6 12V MPFI OHV',\n",
       "       '115.0HP Electric Motor Electric Fuel System'], dtype=object)"
      ]
     },
     "execution_count": 31,
     "metadata": {},
     "output_type": "execute_result"
    }
   ],
   "source": [
    "df_train.loc[mask, 'engine'].unique()"
   ]
  },
  {
   "cell_type": "code",
   "execution_count": 33,
   "metadata": {
    "id": "grZL6IutQaDj"
   },
   "outputs": [
    {
     "data": {
      "text/plain": [
       "array([7, 8, 5, 9, 6, 4, 1, 2, 3])"
      ]
     },
     "execution_count": 33,
     "metadata": {},
     "output_type": "execute_result"
    }
   ],
   "source": [
    "df_copy = df_train.copy()\n",
    "df_copy['engine_word_count'] = df_copy['engine'].astype(str).str.split().str.len()\n",
    "df_copy['engine_word_count'].unique()"
   ]
  },
  {
   "cell_type": "code",
   "execution_count": 38,
   "metadata": {
    "colab": {
     "base_uri": "https://localhost:8080/"
    },
    "id": "Fc7DL7Y8xmSV",
    "outputId": "c60a6d15-c301-45ce-e7fb-04c04d8829b3"
   },
   "outputs": [
    {
     "data": {
      "text/plain": [
       "array(['Electric', '–', 'V6', '4.0L', 'I4', '2.5L', 'V8', '3.0L'],\n",
       "      dtype=object)"
      ]
     },
     "execution_count": 38,
     "metadata": {},
     "output_type": "execute_result"
    }
   ],
   "source": [
    "df_copy[df_copy['engine_word_count']==1]['engine'].unique()"
   ]
  },
  {
   "cell_type": "code",
   "execution_count": 39,
   "metadata": {
    "colab": {
     "base_uri": "https://localhost:8080/"
    },
    "id": "asEaTeZV02e2",
    "outputId": "b40e7870-a127-4116-f3db-5abc7aedaed5"
   },
   "outputs": [
    {
     "data": {
      "text/plain": [
       "array(['2.0 Liter', '3.5 Liter', '5.6 Liter', '5.0 Liter', '3.6 Liter',\n",
       "       '6.4 Liter', '3.0 Liter', '5.4 Liter', '2.5 Liter', '4.6 Liter',\n",
       "       '2.4 Liter', '4.0 Liter', '4.4 Liter', '6.2 Liter', '5.7 Liter',\n",
       "       '120 AH', 'Battery Electric', '5.3 Liter', '5.5 Liter',\n",
       "       '1.8 Liter'], dtype=object)"
      ]
     },
     "execution_count": 39,
     "metadata": {},
     "output_type": "execute_result"
    }
   ],
   "source": [
    "df_copy[df_copy['engine_word_count']==2]['engine'].unique()"
   ]
  },
  {
   "cell_type": "code",
   "execution_count": 40,
   "metadata": {
    "colab": {
     "base_uri": "https://localhost:8080/"
    },
    "id": "80xEOiqG04ur",
    "outputId": "37e77361-d686-441f-ee63-789c254fa8bc"
   },
   "outputs": [
    {
     "data": {
      "text/plain": [
       "array(['2.0 Liter Turbo', '3.0 Liter Turbo', '2.0 Liter TFSI',\n",
       "       '3.6 Liter DOHC', '4.0 Liter TFSI', '3.5 Liter DOHC',\n",
       "       '3.0 Liter TFSI', '3.5 Liter SOHC', 'Standard Range Battery',\n",
       "       '2.5L I4 16V', '3.0 Liter GTDI', '12 Cylinder Engine',\n",
       "       '2.0 Liter Supercharged', '2.0 Liter TSI', '5.0L 8 Cylinder',\n",
       "       '4.0 Liter Turbo', '2.9 Liter Turbo', '1.5 Liter Turbo',\n",
       "       '3.5 Liter GTDI'], dtype=object)"
      ]
     },
     "execution_count": 40,
     "metadata": {},
     "output_type": "execute_result"
    }
   ],
   "source": [
    "df_copy[df_copy['engine_word_count']==3]['engine'].unique()"
   ]
  },
  {
   "cell_type": "code",
   "execution_count": 41,
   "metadata": {
    "colab": {
     "base_uri": "https://localhost:8080/"
    },
    "id": "Q9ybfrWNxFp1",
    "outputId": "b9d6d76d-64ec-4bd3-f3ba-64bab4777891"
   },
   "outputs": [
    {
     "data": {
      "text/plain": [
       "array(['Dual Motor - Standard', '2.0 Liter DOHC Turbo',\n",
       "       '3.6 Liter SIDI DOHC', '4.0 Liter Twin Turbo',\n",
       "       '3.0 Liter Twin Turbo', '3.6L V6 GDI DOHC', '4.7 Liter Twin Turbo',\n",
       "       '4.4 Liter Twin Turbo', '5.4 Liter SC DOHC',\n",
       "       '2.7 Liter DOHC Turbo', '6.6 Liter Twin Turbo',\n",
       "       '3.0 Liter SC ULEV', '2.0 Liter DOHC T/C', '3.0 Liter DOHC Turbo',\n",
       "       'Dual AC Electric Motors'], dtype=object)"
      ]
     },
     "execution_count": 41,
     "metadata": {},
     "output_type": "execute_result"
    }
   ],
   "source": [
    "df_copy[df_copy['engine_word_count']==4]['engine'].unique()"
   ]
  },
  {
   "cell_type": "code",
   "execution_count": 42,
   "metadata": {
    "colab": {
     "base_uri": "https://localhost:8080/"
    },
    "id": "m1SkNrPN09GI",
    "outputId": "61ecf3fc-ce42-4b24-b659-47b10f52dceb"
   },
   "outputs": [
    {
     "data": {
      "text/plain": [
       "array(['Electric Motor Electric Fuel System', '5.2L V10 40V PDI DOHC',\n",
       "       '3.6L V6 24V GDI DOHC', '5.7L V8 16V MPFI OHV',\n",
       "       '2.4L I4 16V GDI DOHC', '3.6L V6 24V MPFI DOHC',\n",
       "       '5.3L V8 16V GDI OHV', '3.8L V6 24V GDI DOHC',\n",
       "       '2.5L H4 16V MPFI DOHC', '4.6L V8 32V MPFI DOHC',\n",
       "       '2.5L I4 16V GDI DOHC', '4.0L H6 24V GDI DOHC',\n",
       "       '6.3L V12 48V GDI DOHC', '3.4L H6 24V MPFI DOHC',\n",
       "       '5.0L V8 32V PDI DOHC', '3.5L V6 24V PDI DOHC',\n",
       "       '6.4L V8 16V MPFI OHV', '3.8L H6 24V MPFI DOHC',\n",
       "       '3.3L V6 24V GDI DOHC', '5.7L V8 32V MPFI DOHC',\n",
       "       '3.0 Liter DOHC Twin Turbo', '2.0L I4 16V GDI DOHC',\n",
       "       '2.0L I4 16V MPFI DOHC', '2.5L I4 16V PDI DOHC',\n",
       "       '6.2L V8 16V GDI OHV', '3.5L V6 24V GDI SOHC',\n",
       "       '5.6L V8 32V GDI DOHC', '3.5L V6 24V MPFI DOHC',\n",
       "       '2.5L H4 16V GDI DOHC', '6.0L V8 16V MPFI OHV',\n",
       "       '2.4L I4 16V MPFI DOHC', '5.2L V10 40V GDI DOHC',\n",
       "       '6.5L V12 48V MPFI DOHC', '3.5L 24V SOHC I-VTEC V6',\n",
       "       '3.2L V6 24V MPFI DOHC', '2.5L I4 16V MPFI DOHC',\n",
       "       '4.0L V6 24V MPFI DOHC', '3.2L H6 24V MPFI DOHC',\n",
       "       '2.4L I4 16V MPFI SOHC', '4.2L V8 32V GDI DOHC',\n",
       "       '6.6L V8 16V GDI OHV', '3.5L V6 24V GDI DOHC',\n",
       "       '1.6L I4 16V MPFI DOHC', '4.4 Liter DOHC Twin Turbo',\n",
       "       '6.8L V12 48V GDI DOHC', '151.0HP Electric Motor Hydrogen Fuel',\n",
       "       '182.0HP Electric Motor Hydrogen Fuel', '3.2L V6 18V MPFI SOHC',\n",
       "       '6.2L V8 32V MPFI DOHC', '1.6L I4 16V GDI DOHC',\n",
       "       '3.8L V6 12V MPFI OHV'], dtype=object)"
      ]
     },
     "execution_count": 42,
     "metadata": {},
     "output_type": "execute_result"
    }
   ],
   "source": [
    "df_copy[df_copy['engine_word_count']==5]['engine'].unique()"
   ]
  },
  {
   "cell_type": "code",
   "execution_count": 43,
   "metadata": {
    "colab": {
     "base_uri": "https://localhost:8080/"
    },
    "id": "Gx4nivJn0_vj",
    "outputId": "57dfb5b0-8903-457e-dfed-4ff1a9c36ac9"
   },
   "outputs": [
    {
     "data": {
      "text/plain": [
       "array(['518.0HP Electric Motor Electric Fuel System',\n",
       "       '835.0HP Electric Motor Electric Fuel System',\n",
       "       '2.0L I4 16V PDI DOHC Turbo', '2.0L I4 16V GDI DOHC Turbo',\n",
       "       '2.3L I4 16V GDI DOHC Turbo',\n",
       "       '670.0HP Electric Motor Electric Fuel System',\n",
       "       '425.0HP Electric Motor Electric Fuel System',\n",
       "       '3.0L V6 24V GDI DOHC Turbo',\n",
       "       '455.0HP Electric Motor Electric Fuel System',\n",
       "       '3.6L V6 24V MPFI DOHC Hybrid', '2.0L I4 16V GDI SOHC Turbo',\n",
       "       '1.5L I3 12V PDI DOHC Turbo', '5.0L V8 32V GDI DOHC Supercharged',\n",
       "       '557.0HP Electric Motor Electric Fuel System',\n",
       "       '200.0HP Electric Motor Electric Fuel System',\n",
       "       '232.0HP 1.3L Rotary engine Gasoline Fuel',\n",
       "       '214.0HP Electric Motor Electric Fuel System',\n",
       "       'Intercooled Turbo Diesel V-8 6.7 L/406',\n",
       "       '778.0HP Electric Motor Electric Fuel System',\n",
       "       '2.5L I4 16V PDI DOHC Turbo', '2.5L I4 16V GDI DOHC Turbo',\n",
       "       '271.0HP Electric Motor Electric Fuel System',\n",
       "       '4.7L 8 Cylinder Engine Gasoline Fuel',\n",
       "       '482.0HP Electric Motor Electric Fuel System',\n",
       "       '3.0L I6 24V GDI DOHC Turbo',\n",
       "       '480.0HP Electric Motor Electric Fuel System',\n",
       "       '362.0HP Electric Motor Electric Fuel System',\n",
       "       '201.0HP Electric Motor Electric Fuel System',\n",
       "       '563.0HP Electric Motor Electric Fuel System',\n",
       "       '3.5L V6 24V PDI DOHC Hybrid', '1.3L I3 12V GDI DOHC Turbo',\n",
       "       '2.0L I4 16V GDI DOHC Hybrid', '1.6L I4 16V GDI DOHC Turbo',\n",
       "       '534.0HP Electric Motor Electric Fuel System',\n",
       "       '266.0HP Electric Motor Electric Fuel System',\n",
       "       '1.5L I4 16V GDI DOHC Turbo',\n",
       "       '355.0HP Electric Motor Electric Fuel System',\n",
       "       '422.0HP Electric Motor Electric Fuel System',\n",
       "       '346.0HP Electric Motor Electric Fuel System',\n",
       "       '2.4L H4 16V GDI DOHC Turbo',\n",
       "       '6.0L 8 Cylinder Engine Gasoline Fuel',\n",
       "       '1020.0HP Electric Motor Electric Fuel System',\n",
       "       '295.0HP Electric Motor Electric Fuel System',\n",
       "       '1.3L I3 12V MPFI DOHC Turbo',\n",
       "       '107.0HP Electric Motor Electric Fuel System',\n",
       "       '2.4L I4 16V PDI DOHC Turbo',\n",
       "       '320.0HP Electric Motor Electric Fuel System',\n",
       "       '329.0HP Electric Motor Electric Fuel System',\n",
       "       '1.5L I3 12V GDI DOHC Turbo',\n",
       "       '536.0HP Electric Motor Electric Fuel System',\n",
       "       '212.0HP 1.3L Rotary engine Gasoline Fuel',\n",
       "       '2.5L I4 16V MPFI DOHC Hybrid',\n",
       "       '416.0HP Electric Motor Electric Fuel System',\n",
       "       '2.0L I4 16V MPFI DOHC Hybrid',\n",
       "       '3.0L V6 24V GDI DOHC Supercharged',\n",
       "       '375.0HP Electric Motor Electric Fuel System',\n",
       "       '1.2L I3 12V GDI DOHC Turbo',\n",
       "       '691.0HP Electric Motor Electric Fuel System',\n",
       "       '2.7L I4 16V GDI DOHC Turbo',\n",
       "       '2.5L 4 Cylinder Engine Gasoline Fuel',\n",
       "       '417.0HP Electric Motor Electric Fuel System',\n",
       "       '1.6L I4 16V GDI DOHC Hybrid', '2.5L I4 16V PDI DOHC Hybrid',\n",
       "       '6.2L V8 16V GDI OHV Supercharged',\n",
       "       '147.0HP Electric Motor Electric Fuel System',\n",
       "       '616.0HP Electric Motor Electric Fuel System',\n",
       "       '500.0HP Electric Motor Electric Fuel System',\n",
       "       '3.0L V6 Cylinder Engine Diesel Fuel',\n",
       "       '620.0HP Electric Motor Electric Fuel System',\n",
       "       '321.0HP Electric Motor Electric Fuel System',\n",
       "       '533.0HP Electric Motor Electric Fuel System',\n",
       "       '5.8L V8 32V MPFI DOHC Supercharged', '1.4L I4 16V GDI DOHC Turbo',\n",
       "       '4.4 Liter GDI DOHC Twin Turbo',\n",
       "       '290.0HP Electric Motor Electric Fuel System',\n",
       "       '402.0HP Electric Motor Electric Fuel System',\n",
       "       '111.0HP Electric Motor Electric Fuel System',\n",
       "       '115.0HP Electric Motor Electric Fuel System'], dtype=object)"
      ]
     },
     "execution_count": 43,
     "metadata": {},
     "output_type": "execute_result"
    }
   ],
   "source": [
    "df_copy[df_copy['engine_word_count']==6]['engine'].unique()"
   ]
  },
  {
   "cell_type": "code",
   "execution_count": 44,
   "metadata": {
    "colab": {
     "base_uri": "https://localhost:8080/"
    },
    "id": "Yf589MaQ0xcw",
    "outputId": "afc599e6-1340-4de3-d4a1-fbc9e37ff710"
   },
   "outputs": [
    {
     "data": {
      "text/plain": [
       "array(['172.0HP 1.6L 4 Cylinder Engine Gasoline Fuel',\n",
       "       '252.0HP 3.9L 8 Cylinder Engine Gasoline Fuel',\n",
       "       '420.0HP 5.0L 8 Cylinder Engine Gasoline Fuel',\n",
       "       '208.0HP 2.0L 4 Cylinder Engine Gasoline Fuel',\n",
       "       '252.0HP 2.0L 4 Cylinder Engine Gasoline Fuel',\n",
       "       '333.0HP 3.0L V6 Cylinder Engine Gasoline Fuel',\n",
       "       '2.7L V6 24V PDI DOHC Twin Turbo',\n",
       "       '312.0HP 3.6L V6 Cylinder Engine Gasoline Fuel',\n",
       "       '420.0HP 6.2L 8 Cylinder Engine Gasoline Fuel',\n",
       "       '523.0HP 4.4L 8 Cylinder Engine Gasoline Fuel',\n",
       "       '503.0HP 4.0L 8 Cylinder Engine Gasoline Fuel',\n",
       "       '310.0HP 4.6L 8 Cylinder Engine Gasoline Fuel',\n",
       "       '469.0HP 4.0L 8 Cylinder Engine Gasoline Fuel',\n",
       "       '429.0HP 5.0L 8 Cylinder Engine Gasoline Fuel',\n",
       "       '210.0HP 3.7L V6 Cylinder Engine Gasoline Fuel',\n",
       "       '316.0HP 2.0L 4 Cylinder Engine Gasoline Fuel',\n",
       "       '381.0HP 5.7L 8 Cylinder Engine Gasoline Fuel',\n",
       "       '450.0HP 6.7L 8 Cylinder Engine Diesel Fuel',\n",
       "       '236.0HP 4.0L V6 Cylinder Engine Gasoline Fuel',\n",
       "       '211.0HP 2.0L 4 Cylinder Engine Gasoline Fuel',\n",
       "       '220.0HP 2.0L 4 Cylinder Engine Gasoline Fuel',\n",
       "       '255.0HP 2.0L 4 Cylinder Engine Gasoline Fuel',\n",
       "       '268.0HP 3.5L V6 Cylinder Engine Gasoline Fuel',\n",
       "       '174.0HP 2.8L V6 Cylinder Engine Gasoline Fuel',\n",
       "       '240.0HP 2.0L 4 Cylinder Engine Gasoline Fuel',\n",
       "       '248.0HP 2.0L 4 Cylinder Engine Gasoline Fuel',\n",
       "       '563.0HP 5.5L 8 Cylinder Engine Gasoline Fuel',\n",
       "       '241.0HP 2.0L 4 Cylinder Engine Gasoline Fuel',\n",
       "       '430.0HP 6.2L 8 Cylinder Engine Gasoline Fuel',\n",
       "       '4.0L V8 32V GDI DOHC Twin Turbo',\n",
       "       '300.0HP 5.4L 8 Cylinder Engine Gasoline Fuel',\n",
       "       '310.0HP 6.8L 10 Cylinder Engine Gasoline Fuel',\n",
       "       '280.0HP 2.0L 4 Cylinder Engine Gasoline Fuel',\n",
       "       '295.0HP 3.5L V6 Cylinder Engine Gasoline Fuel',\n",
       "       '348.0HP 3.8L V6 Cylinder Engine Gasoline Fuel',\n",
       "       '560.0HP 4.4L 8 Cylinder Engine Gasoline Fuel',\n",
       "       '285.0HP 3.6L V6 Cylinder Engine Gasoline Fuel',\n",
       "       '300.0HP 4.4L 8 Cylinder Engine Gasoline Fuel',\n",
       "       '302.0HP 5.0L 8 Cylinder Engine Gasoline Fuel',\n",
       "       '3.0L V6 24V GDI DOHC Twin Turbo',\n",
       "       '300.0HP 3.6L V6 Cylinder Engine Gasoline Fuel',\n",
       "       '490.0HP 6.2L 8 Cylinder Engine Gasoline Fuel',\n",
       "       '300.0HP 5.3L 8 Cylinder Engine Gasoline Fuel',\n",
       "       '200.0HP 2.0L 4 Cylinder Engine Gasoline Fuel',\n",
       "       '416.0HP 4.0L 8 Cylinder Engine Gasoline Fuel',\n",
       "       '179.0HP 2.5L 4 Cylinder Engine Gasoline Fuel',\n",
       "       '302.0HP 3.5L V6 Cylinder Engine Gasoline Fuel',\n",
       "       '3.8L V8 32V MPFI DOHC Twin Turbo',\n",
       "       '160.0HP 2.4L 4 Cylinder Engine Gasoline Fuel',\n",
       "       '210.0HP 3.3L V6 Cylinder Engine Gasoline Fuel',\n",
       "       '385.0HP 5.0L 8 Cylinder Engine Gasoline Fuel',\n",
       "       '270.0HP 4.0L V6 Cylinder Engine Gasoline Fuel',\n",
       "       '560.0HP 4.0L 8 Cylinder Engine Gasoline Fuel',\n",
       "       '210.0HP 4.0L V6 Cylinder Engine Gasoline Fuel',\n",
       "       '3.5L V6 24V PDI DOHC Twin Turbo',\n",
       "       '310.0HP 2.3L 4 Cylinder Engine Gasoline Fuel',\n",
       "       '350.0HP 2.3L 4 Cylinder Engine Gasoline Fuel',\n",
       "       '181.0HP 1.6L 4 Cylinder Engine Gasoline Fuel',\n",
       "       '300.0HP 4.6L 8 Cylinder Engine Gasoline Fuel',\n",
       "       '270.0HP 3.5L V6 Cylinder Engine Gasoline Fuel',\n",
       "       '265.0HP 3.5L V6 Cylinder Engine Gasoline Fuel',\n",
       "       '345.0HP 5.7L 8 Cylinder Engine Gasoline Fuel',\n",
       "       '400.0HP 3.0L V6 Cylinder Engine Gasoline Fuel',\n",
       "       '261.0HP 4.0L V6 Cylinder Engine Gasoline Fuel',\n",
       "       '355.0HP 5.3L 8 Cylinder Engine Gasoline Fuel',\n",
       "       '536.0HP 5.5L 8 Cylinder Engine Gasoline Fuel',\n",
       "       '320.0HP 5.3L 8 Cylinder Engine Gasoline Fuel',\n",
       "       '402.0HP 4.7L 8 Cylinder Engine Gasoline Fuel',\n",
       "       '450.0HP 4.0L 8 Cylinder Engine Gasoline Fuel',\n",
       "       '180.0HP 1.8L 4 Cylinder Engine Gasoline Fuel',\n",
       "       '617.0HP 4.4L 8 Cylinder Engine Gasoline Fuel',\n",
       "       '173.0HP 2.7L V6 Cylinder Engine Gasoline Fuel',\n",
       "       '429.0HP 4.7L 8 Cylinder Engine Gasoline Fuel',\n",
       "       '318.0HP 3.6L V6 Cylinder Engine Gasoline Fuel',\n",
       "       '325.0HP 3.7L V6 Cylinder Engine Gasoline Fuel',\n",
       "       '365.0HP 3.5L V6 Cylinder Engine Gasoline Fuel',\n",
       "       '340.0HP 5.7L 8 Cylinder Engine Gasoline Fuel',\n",
       "       '255.0HP 3.6L V6 Cylinder Engine Gasoline Fuel',\n",
       "       '6.0L V8 16V MPFI OHV Flexible Fuel',\n",
       "       '173.0HP 2.4L 4 Cylinder Engine Gasoline Fuel',\n",
       "       '710.0HP 4.0L 8 Cylinder Engine Gasoline Fuel',\n",
       "       '225.0HP 3.3L V6 Cylinder Engine Gasoline Fuel',\n",
       "       '270.0HP 2.3L 4 Cylinder Engine Gasoline Fuel',\n",
       "       '366.0HP 6.0L 8 Cylinder Engine Gasoline Fuel',\n",
       "       '284.0HP 3.5L V6 Cylinder Engine Gasoline Fuel',\n",
       "       '260.0HP 2.0L 4 Cylinder Engine Gasoline Fuel',\n",
       "       '480.0HP 3.8L V6 Cylinder Engine Gasoline Fuel',\n",
       "       '400.0HP 3.5L V6 Cylinder Engine Gasoline Fuel',\n",
       "       '440.0HP 4.8L 8 Cylinder Engine Gasoline Fuel',\n",
       "       '301.0HP 4.6L 8 Cylinder Engine Gasoline Fuel',\n",
       "       '450.0HP 3.5L V6 Cylinder Engine Gasoline Fuel',\n",
       "       '380.0HP 3.0L V6 Cylinder Engine Gasoline Fuel',\n",
       "       '616.0HP 6.0L 12 Cylinder Engine Gasoline Fuel',\n",
       "       '317.0HP 5.6L 8 Cylinder Engine Gasoline Fuel',\n",
       "       '435.0HP 5.0L 8 Cylinder Engine Gasoline Fuel',\n",
       "       '190.0HP 4.3L V6 Cylinder Engine Gasoline Fuel',\n",
       "       '305.0HP 3.7L V6 Cylinder Engine Gasoline Fuel',\n",
       "       '471.0HP 5.0L 8 Cylinder Engine Gasoline Fuel',\n",
       "       '328.0HP 3.7L V6 Cylinder Engine Gasoline Fuel',\n",
       "       '550.0HP 4.8L 8 Cylinder Engine Gasoline Fuel',\n",
       "       '276.0HP 3.5L V6 Cylinder Engine Gasoline Fuel',\n",
       "       '582.0HP 6.0L 12 Cylinder Engine Gasoline Fuel',\n",
       "       '290.0HP 3.5L V6 Cylinder Engine Gasoline Fuel',\n",
       "       '270.0HP 3.0L V6 Cylinder Engine Gasoline Fuel',\n",
       "       '300.0HP 4.2L 8 Cylinder Engine Gasoline Fuel',\n",
       "       '184.0HP 2.5L 4 Cylinder Engine Gasoline Fuel',\n",
       "       '120.0HP 2.5L 4 Cylinder Engine Gasoline Fuel',\n",
       "       '302.0HP 4.6L 8 Cylinder Engine Gasoline Fuel',\n",
       "       '275.0HP 4.8L 8 Cylinder Engine Gasoline Fuel',\n",
       "       '510.0HP 5.0L 8 Cylinder Engine Gasoline Fuel',\n",
       "       '414.0HP 4.0L 8 Cylinder Engine Gasoline Fuel',\n",
       "       '3.8L H6 24V GDI DOHC Twin Turbo',\n",
       "       '375.0HP 5.6L 8 Cylinder Engine Gasoline Fuel',\n",
       "       '268.0HP 2.0L 4 Cylinder Engine Gasoline Fuel',\n",
       "       '520.0HP 4.8L 8 Cylinder Engine Gasoline Fuel',\n",
       "       '375.0HP 3.5L V6 Cylinder Engine Gasoline Fuel',\n",
       "       '306.0HP 3.5L V6 Cylinder Engine Gasoline Fuel',\n",
       "       '455.0HP 6.2L 8 Cylinder Engine Gasoline Fuel',\n",
       "       '292.0HP 2.0L 4 Cylinder Engine Gasoline Fuel',\n",
       "       '362.0HP 3.0L V6 Cylinder Engine Gasoline Fuel',\n",
       "       '454.0HP 4.7L 8 Cylinder Engine Gasoline Fuel',\n",
       "       '375.0HP 5.0L 8 Cylinder Engine Gasoline Fuel',\n",
       "       '340.0HP 3.0L V6 Cylinder Engine Gasoline Fuel',\n",
       "       '166.0HP 2.4L 4 Cylinder Engine Gasoline Fuel',\n",
       "       '430.0HP 4.7L 8 Cylinder Engine Gasoline Fuel',\n",
       "       '288.0HP 3.6L V6 Cylinder Engine Gasoline Fuel',\n",
       "       '200.0HP 2.5L 4 Cylinder Engine Gas/Electric Hybrid',\n",
       "       '640.0HP 6.2L 8 Cylinder Engine Gasoline Fuel',\n",
       "       '300.0HP 2.5L 4 Cylinder Engine Gasoline Fuel',\n",
       "       '293.0HP 3.6L V6 Cylinder Engine Gasoline Fuel',\n",
       "       '147.0HP 2.4L 4 Cylinder Engine Gas/Electric Hybrid',\n",
       "       '4.4L V8 32V GDI DOHC Twin Turbo',\n",
       "       '263.0HP 4.7L 8 Cylinder Engine Gasoline Fuel',\n",
       "       '550.0HP 5.2L 10 Cylinder Engine Gasoline Fuel',\n",
       "       '170.0HP 2.5L 5 Cylinder Engine Gasoline Fuel',\n",
       "       '577.0HP 5.5L 8 Cylinder Engine Gasoline Fuel',\n",
       "       '325.0HP 2.7L V6 Cylinder Engine Gasoline Fuel',\n",
       "       '449.0HP 4.7L 8 Cylinder Engine Gasoline Fuel',\n",
       "       '296.0HP 2.0L 4 Cylinder Engine Gasoline Fuel',\n",
       "       '291.0HP 3.8L V6 Cylinder Engine Gasoline Fuel',\n",
       "       '467.0HP 5.0L 8 Cylinder Engine Gasoline Fuel',\n",
       "       '354.0HP 3.5L V6 Cylinder Engine Gas/Electric Hybrid',\n",
       "       '382.0HP 5.5L 8 Cylinder Engine Gasoline Fuel',\n",
       "       '310.0HP 3.5L V6 Cylinder Engine Gasoline Fuel',\n",
       "       '603.0HP 4.0L 8 Cylinder Engine Gasoline Fuel',\n",
       "       '310.0HP 3.0L V6 Cylinder Engine Gasoline Fuel',\n",
       "       '386.0HP 4.6L 8 Cylinder Engine Gasoline Fuel',\n",
       "       '264.0HP 3.0L V6 Cylinder Engine Gasoline Fuel',\n",
       "       '292.0HP 4.6L 8 Cylinder Engine Gasoline Fuel',\n",
       "       '204.0HP 2.5L V6 Cylinder Engine Gasoline Fuel',\n",
       "       '4.0L V8 32V MPFI DOHC Twin Turbo',\n",
       "       '215.0HP 3.2L V6 Cylinder Engine Gasoline Fuel',\n",
       "       '412.0HP 5.0L 8 Cylinder Engine Gasoline Fuel',\n",
       "       '150.0HP 2.4L 4 Cylinder Engine Gasoline Fuel',\n",
       "       '140.0HP 1.8L 4 Cylinder Engine Gasoline Fuel',\n",
       "       '707.0HP 6.2L 8 Cylinder Engine Gasoline Fuel',\n",
       "       '242.0HP 3.7L 5 Cylinder Engine Gasoline Fuel',\n",
       "       '140.0HP 2.8L V6 Cylinder Engine Gasoline Fuel',\n",
       "       '445.0HP 4.4L 8 Cylinder Engine Gasoline Fuel',\n",
       "       '310.0HP 3.6L V6 Cylinder Engine Gasoline Fuel',\n",
       "       '410.0HP 6.4L 8 Cylinder Engine Gasoline Fuel',\n",
       "       '500.0HP 8.3L 10 Cylinder Engine Gasoline Fuel',\n",
       "       '518.0HP 5.0L 8 Cylinder Engine Gasoline Fuel',\n",
       "       '429.0HP 4.6L 8 Cylinder Engine Gasoline Fuel',\n",
       "       '188.0HP 3.0L V6 Cylinder Engine Diesel Fuel',\n",
       "       '295.0HP 5.3L 8 Cylinder Engine Gasoline Fuel',\n",
       "       '300.0HP 3.0L V6 Cylinder Engine Gasoline Fuel',\n",
       "       '400.0HP 5.6L 8 Cylinder Engine Gasoline Fuel',\n",
       "       '142.0HP 1.8L 4 Cylinder Engine Gasoline Fuel',\n",
       "       '199.0HP 2.4L 4 Cylinder Engine Gas/Electric Hybrid',\n",
       "       '201.0HP 2.4L 4 Cylinder Engine Gasoline Fuel',\n",
       "       '315.0HP 2.7L V6 Cylinder Engine Gasoline Fuel',\n",
       "       '395.0HP 5.7L 8 Cylinder Engine Gasoline Fuel',\n",
       "       '247.0HP 2.0L 4 Cylinder Engine Gasoline Fuel',\n",
       "       '282.0HP 4.7L 8 Cylinder Engine Gasoline Fuel',\n",
       "       '230.0HP 4.7L 8 Cylinder Engine Gasoline Fuel',\n",
       "       '385.0HP 3.0L V6 Cylinder Engine Gasoline Fuel',\n",
       "       '182.0HP 2.4L 4 Cylinder Engine Gasoline Fuel',\n",
       "       '305.0HP 2.5L 4 Cylinder Engine Gasoline Fuel',\n",
       "       '6.7L I6 24V DDI OHV Turbo Diesel',\n",
       "       '605.0HP 4.0L 8 Cylinder Engine Gasoline Fuel',\n",
       "       '220.0HP 4.6L 8 Cylinder Engine Gasoline Fuel',\n",
       "       '161.0HP 2.1L 4 Cylinder Engine Diesel Fuel',\n",
       "       '440.0HP 6.7L 8 Cylinder Engine Diesel Fuel',\n",
       "       '150.0HP 1.4L 4 Cylinder Engine Gasoline Fuel',\n",
       "       '202.0HP 3.8L V6 Cylinder Engine Gasoline Fuel',\n",
       "       '349.0HP 3.0L V6 Cylinder Engine Gasoline Fuel',\n",
       "       '152.0HP 2.0L 4 Cylinder Engine Gasoline Fuel',\n",
       "       '2.7L V6 24V GDI DOHC Twin Turbo',\n",
       "       '228.0HP 2.0L 4 Cylinder Engine Gasoline Fuel',\n",
       "       '154.0HP 2.7L 5 Cylinder Engine Diesel Fuel',\n",
       "       '383.0HP 5.7L 8 Cylinder Engine Gasoline Fuel',\n",
       "       '526.0HP 5.2L 8 Cylinder Engine Gasoline Fuel',\n",
       "       '475.0HP 6.7L 8 Cylinder Engine Diesel Fuel',\n",
       "       '760.0HP 5.2L 8 Cylinder Engine Gasoline Fuel',\n",
       "       '275.0HP 3.7L V6 Cylinder Engine Gasoline Fuel',\n",
       "       '188.0HP 2.0L 4 Cylinder Engine Gas/Electric Hybrid',\n",
       "       '350.0HP 3.7L V6 Cylinder Engine Gasoline Fuel',\n",
       "       '240.0HP 3.5L V6 Cylinder Engine Gasoline Fuel',\n",
       "       '630.0HP 4.0L 8 Cylinder Engine Gasoline Fuel',\n",
       "       '335.0HP 4.7L 8 Cylinder Engine Gasoline Fuel',\n",
       "       '200.0HP 2.4L 4 Cylinder Engine Gasoline Fuel',\n",
       "       '287.0HP 3.5L V6 Cylinder Engine Gasoline Fuel',\n",
       "       '717.0HP 6.2L 8 Cylinder Engine Gasoline Fuel',\n",
       "       '350.0HP 6.4L 8 Cylinder Engine Diesel Fuel',\n",
       "       '521.0HP 4.0L 8 Cylinder Engine Gasoline Fuel',\n",
       "       '248.0HP 3.5L V6 Cylinder Engine Gasoline Fuel',\n",
       "       '2.0L I4 16V GDI DOHC Turbo Hybrid',\n",
       "       '200.0HP 3.8L V6 Cylinder Engine Gasoline Fuel',\n",
       "       '444.0HP 2.9L V6 Cylinder Engine Gasoline Fuel',\n",
       "       '3.0L H6 24V GDI DOHC Twin Turbo',\n",
       "       '290.0HP 4.0L 8 Cylinder Engine Gasoline Fuel',\n",
       "       '170.0HP 1.8L 4 Cylinder Engine Gasoline Fuel',\n",
       "       '641.0HP 4.0L 8 Cylinder Engine Gasoline Fuel',\n",
       "       '308.0HP 3.5L V6 Cylinder Engine Gas/Electric Hybrid',\n",
       "       '175.0HP 2.5L 4 Cylinder Engine Gasoline Fuel',\n",
       "       '260.0HP 3.5L V6 Cylinder Engine Gasoline Fuel',\n",
       "       '542.0HP 4.0L 8 Cylinder Engine Gasoline Fuel',\n",
       "       '463.0HP 4.0L 8 Cylinder Engine Gasoline Fuel',\n",
       "       '475.0HP 6.4L 8 Cylinder Engine Gasoline Fuel',\n",
       "       '130.0HP 1.8L 4 Cylinder Engine Gasoline Fuel',\n",
       "       '577.0HP 4.0L 8 Cylinder Engine Gasoline Fuel',\n",
       "       '280.0HP 3.6L V6 Cylinder Engine Gasoline Fuel',\n",
       "       '405.0HP 4.2L 8 Cylinder Engine Gasoline Fuel',\n",
       "       '550.0HP 5.0L 8 Cylinder Engine Gasoline Fuel',\n",
       "       '460.0HP 5.0L 8 Cylinder Engine Gasoline Fuel',\n",
       "       '330.0HP 3.0L V6 Cylinder Engine Gasoline Fuel',\n",
       "       '227.0HP 2.5L 4 Cylinder Engine Gasoline Fuel',\n",
       "       '3.6L V6 24V MPFI DOHC Flexible Fuel',\n",
       "       '321.0HP 3.6L V6 Cylinder Engine Gasoline Fuel',\n",
       "       '6.7L V12 48V GDI DOHC Twin Turbo',\n",
       "       '153.0HP 1.4L 4 Cylinder Engine Gasoline Fuel',\n",
       "       '3.4L V6 24V PDI DOHC Twin Turbo',\n",
       "       '220.0HP 3.0L V6 Cylinder Engine Gasoline Fuel',\n",
       "       '280.0HP 3.5L V6 Cylinder Engine Gasoline Fuel',\n",
       "       '424.0HP 3.0L V6 Cylinder Engine Gasoline Fuel',\n",
       "       '300.0HP 2.3L 4 Cylinder Engine Gasoline Fuel',\n",
       "       '329.0HP 3.0L V6 Cylinder Engine Gasoline Fuel',\n",
       "       '189.0HP 2.0L 4 Cylinder Engine Gasoline Fuel',\n",
       "       '485.0HP 6.4L 8 Cylinder Engine Gasoline Fuel',\n",
       "       '420.0HP 4.0L 8 Cylinder Engine Gasoline Fuel',\n",
       "       '390.0HP 4.6L 8 Cylinder Engine Gasoline Fuel',\n",
       "       '160.0HP 2.0L 4 Cylinder Engine Gasoline Fuel',\n",
       "       '218.0HP 2.5L 5 Cylinder Engine Gasoline Fuel',\n",
       "       '311.0HP 3.8L V6 Cylinder Engine Gasoline Fuel',\n",
       "       '210.0HP 2.0L 4 Cylinder Engine Gasoline Fuel',\n",
       "       '295.0HP 4.8L 8 Cylinder Engine Gasoline Fuel',\n",
       "       '115.0HP 1.7L 4 Cylinder Engine Gasoline Fuel',\n",
       "       '190.0HP 2.4L 4 Cylinder Engine Gasoline Fuel',\n",
       "       '158.0HP 2.0L 4 Cylinder Engine Gasoline Fuel',\n",
       "       '310.0HP 5.7L 8 Cylinder Engine Gasoline Fuel',\n",
       "       '445.0HP 6.6L 8 Cylinder Engine Diesel Fuel',\n",
       "       '380.0HP 3.5L V6 Cylinder Engine Gasoline Fuel',\n",
       "       '169.0HP 2.5L 4 Cylinder Engine Gasoline Fuel',\n",
       "       '173.0HP 2.5L 4 Cylinder Engine Gasoline Fuel',\n",
       "       '460.0HP 6.2L 8 Cylinder Engine Gasoline Fuel',\n",
       "       '155.0HP 2.0L 4 Cylinder Engine Gasoline Fuel',\n",
       "       '263.0HP 3.5L V6 Cylinder Engine Gasoline Fuel',\n",
       "       '360.0HP 5.7L 8 Cylinder Engine Gasoline Fuel',\n",
       "       '240.0HP 3.0L V6 Cylinder Engine Diesel Fuel',\n",
       "       '239.0HP 4.6L 8 Cylinder Engine Gasoline Fuel',\n",
       "       '316.0HP 6.0L 8 Cylinder Engine Gasoline Fuel',\n",
       "       '228.0HP 2.4L 4 Cylinder Engine Gasoline Fuel',\n",
       "       '270.0HP 3.2L V6 Cylinder Engine Gasoline Fuel',\n",
       "       '325.0HP 6.0L 8 Cylinder Engine Diesel Fuel',\n",
       "       '272.0HP 3.5L V6 Cylinder Engine Gasoline Fuel',\n",
       "       '332.0HP 3.7L V6 Cylinder Engine Gasoline Fuel',\n",
       "       '170.0HP 2.5L 4 Cylinder Engine Gasoline Fuel',\n",
       "       '260.0HP 2.4L 4 Cylinder Engine Gasoline Fuel',\n",
       "       '335.0HP 3.0L V6 Cylinder Engine Gasoline Fuel',\n",
       "       '303.0HP 5.3L 8 Cylinder Engine Gasoline Fuel',\n",
       "       '350.0HP 2.5L 4 Cylinder Engine Gasoline Fuel',\n",
       "       '601.0HP 6.6L 12 Cylinder Engine Gasoline Fuel',\n",
       "       '562.0HP 3.8L 8 Cylinder Engine Gasoline Fuel',\n",
       "       '133.0HP 2.2L 4 Cylinder Engine Gasoline Fuel',\n",
       "       '224.0HP 2.5L 4 Cylinder Engine Gasoline Fuel',\n",
       "       '182.0HP 2.5L 4 Cylinder Engine Gasoline Fuel',\n",
       "       '518.0HP 6.3L 8 Cylinder Engine Gasoline Fuel',\n",
       "       '275.0HP 2.3L 4 Cylinder Engine Gasoline Fuel',\n",
       "       '411.0HP 6.2L 8 Cylinder Engine Gasoline Fuel',\n",
       "       '273.0HP 3.7L V6 Cylinder Engine Gasoline Fuel',\n",
       "       '3.0L I6 24V DDI DOHC Turbo Diesel',\n",
       "       '345.0HP 3.0L V6 Cylinder Engine Gasoline Fuel',\n",
       "       '485.0HP 3.8L V6 Cylinder Engine Gasoline Fuel',\n",
       "       '453.0HP 4.0L 8 Cylinder Engine Gasoline Fuel',\n",
       "       '300.0HP 3.7L V6 Cylinder Engine Gasoline Fuel',\n",
       "       '260.0HP 5.7L 8 Cylinder Engine Gasoline Fuel',\n",
       "       '187.0HP 2.5L 4 Cylinder Engine Gasoline Fuel',\n",
       "       '354.0HP 3.0L V6 Cylinder Engine Gasoline Fuel',\n",
       "       '306.0HP 3.8L V6 Cylinder Engine Gasoline Fuel',\n",
       "       '425.0HP 6.1L 8 Cylinder Engine Gasoline Fuel',\n",
       "       '191.0HP 2.5L 4 Cylinder Engine Gasoline Fuel',\n",
       "       '245.0HP 3.5L V6 Cylinder Engine Gasoline Fuel',\n",
       "       '195.0HP 4.3L V6 Cylinder Engine Gasoline Fuel',\n",
       "       '188.0HP 2.0L 4 Cylinder Engine Gasoline Fuel',\n",
       "       '335.0HP 2.7L V6 Cylinder Engine Gasoline Fuel',\n",
       "       '355.0HP 3.0L V6 Cylinder Engine Gasoline Fuel',\n",
       "       '217.0HP 4.6L 8 Cylinder Engine Gasoline Fuel',\n",
       "       '211.0HP 2.0L 4 Cylinder Engine Diesel Fuel',\n",
       "       '230.0HP 3.3L V6 Cylinder Engine Gasoline Fuel',\n",
       "       '206.0HP 2.4L 4 Cylinder Engine Gasoline Fuel',\n",
       "       '397.0HP 6.6L 8 Cylinder Engine Diesel Fuel',\n",
       "       '292.0HP 3.6L V6 Cylinder Engine Gasoline Fuel',\n",
       "       '278.0HP 3.5L V6 Cylinder Engine Gasoline Fuel',\n",
       "       '430.0HP 7.3L 8 Cylinder Engine Gasoline Fuel',\n",
       "       '240.0HP 3.8L V6 Cylinder Engine Gasoline Fuel',\n",
       "       '456.0HP 4.4L 8 Cylinder Engine Gasoline Fuel',\n",
       "       '166.0HP 2.0L 4 Cylinder Engine Gasoline Fuel',\n",
       "       '138.0HP 1.4L 4 Cylinder Engine Gasoline Fuel',\n",
       "       '420.0HP 4.8L 8 Cylinder Engine Gasoline Fuel',\n",
       "       '403.0HP 6.2L 8 Cylinder Engine Gasoline Fuel',\n",
       "       '255.0HP 4.8L 8 Cylinder Engine Gasoline Fuel',\n",
       "       '191.0HP 2.5L 4 Cylinder Engine Gas/Electric Hybrid',\n",
       "       '239.0HP 4.0L V6 Cylinder Engine Gasoline Fuel',\n",
       "       '273.0HP 4.7L 8 Cylinder Engine Gasoline Fuel',\n",
       "       '409.0HP 3.4L V6 Cylinder Engine Gasoline Fuel',\n",
       "       '134.0HP 1.8L 4 Cylinder Engine Gas/Electric Hybrid',\n",
       "       '400.0HP 6.0L 8 Cylinder Engine Gasoline Fuel',\n",
       "       '380.0HP 4.6L 8 Cylinder Engine Gasoline Fuel',\n",
       "       '400.0HP 4.8L 8 Cylinder Engine Gasoline Fuel',\n",
       "       '390.0HP 5.0L 8 Cylinder Engine Gasoline Fuel',\n",
       "       '325.0HP 6.0L 8 Cylinder Engine Gasoline Fuel',\n",
       "       '563.0HP 6.6L 12 Cylinder Engine Gasoline Fuel',\n",
       "       '161.0HP 2.0L 4 Cylinder Engine Diesel Fuel',\n",
       "       '308.0HP 3.6L V6 Cylinder Engine Gasoline Fuel',\n",
       "       '437.0HP 3.4L V6 Cylinder Engine Gas/Electric Hybrid',\n",
       "       '350.0HP 5.7L 8 Cylinder Engine Gasoline Fuel',\n",
       "       '390.0HP 5.6L 8 Cylinder Engine Gasoline Fuel',\n",
       "       '275.0HP 4.6L 8 Cylinder Engine Gasoline Fuel',\n",
       "       '176.0HP 2.5L 4 Cylinder Engine Gasoline Fuel',\n",
       "       '610.0HP 5.2L 10 Cylinder Engine Gasoline Fuel',\n",
       "       '266.0HP 3.5L V6 Cylinder Engine Gasoline Fuel',\n",
       "       '270.0HP 4.7L 8 Cylinder Engine Gasoline Fuel',\n",
       "       '650.0HP 6.2L 8 Cylinder Engine Gasoline Fuel',\n",
       "       '600.0HP 4.4L 8 Cylinder Engine Gasoline Fuel',\n",
       "       '451.0HP 6.2L 8 Cylinder Engine Gasoline Fuel',\n",
       "       '265.0HP 2.0L 4 Cylinder Engine Gasoline Fuel',\n",
       "       '180.0HP 2.4L 4 Cylinder Engine Gasoline Fuel',\n",
       "       '540.0HP 4.4L 8 Cylinder Engine Gasoline Fuel',\n",
       "       '208.0HP 3.3L V6 Cylinder Engine Gas/Electric Hybrid',\n",
       "       '148.0HP 2.0L 4 Cylinder Engine Gasoline Fuel',\n",
       "       '208.0HP 2.5L 4 Cylinder Engine Gas/Electric Hybrid',\n",
       "       '281.0HP 3.6L V6 Cylinder Engine Gasoline Fuel',\n",
       "       '759.0HP 6.5L 12 Cylinder Engine Gasoline Fuel',\n",
       "       '245.0HP 2.0L 4 Cylinder Engine Gasoline Fuel',\n",
       "       '270.0HP 2.0L 4 Cylinder Engine Gasoline Fuel',\n",
       "       '360.0HP 6.6L 8 Cylinder Engine Diesel Fuel',\n",
       "       '335.0HP 5.7L 8 Cylinder Engine Gasoline Fuel',\n",
       "       '305.0HP 6.8L 10 Cylinder Engine Gasoline Fuel',\n",
       "       '369.0HP 1.5L 3 Cylinder Engine Plug-In Electric/Gas',\n",
       "       '440.0HP 3.5L V6 Cylinder Engine Gasoline Fuel',\n",
       "       '266.0HP 4.0L V6 Cylinder Engine Gasoline Fuel',\n",
       "       '365.0HP 3.3L V6 Cylinder Engine Gasoline Fuel',\n",
       "       '228.0HP 3.0L V6 Cylinder Engine Gasoline Fuel',\n",
       "       '237.0HP 2.0L 4 Cylinder Engine Gasoline Fuel',\n",
       "       '118.0HP 1.6L 4 Cylinder Engine Gasoline Fuel',\n",
       "       '170.0HP 3.3L V6 Cylinder Engine Gasoline Fuel',\n",
       "       '575.0HP 5.0L 8 Cylinder Engine Gasoline Fuel',\n",
       "       '394.0HP 4.2L 8 Cylinder Engine Gasoline Fuel',\n",
       "       '170.0HP 0.65L Electric Motor Electric Fuel System',\n",
       "       '136.0HP 2.0L 4 Cylinder Engine Gasoline Fuel',\n",
       "       '201.0HP 1.6L 4 Cylinder Engine Gasoline Fuel',\n",
       "       '278.0HP 4.3L 8 Cylinder Engine Gasoline Fuel',\n",
       "       '390.0HP 4.2L 8 Cylinder Engine Gasoline Fuel',\n",
       "       '560.0HP 5.2L 10 Cylinder Engine Gasoline Fuel',\n",
       "       '185.0HP 2.4L 4 Cylinder Engine Gasoline Fuel',\n",
       "       '285.0HP 4.8L 8 Cylinder Engine Gasoline Fuel',\n",
       "       '160.0HP 1.5L 4 Cylinder Engine Gasoline Fuel',\n",
       "       '375.0HP 5.7L 8 Cylinder Engine Gasoline Fuel',\n",
       "       '729.0HP 6.5L 12 Cylinder Engine Gasoline Fuel',\n",
       "       '237.0HP 2.2L 4 Cylinder Engine Gasoline Fuel',\n",
       "       '256.0HP 2.0L 4 Cylinder Engine Gasoline Fuel',\n",
       "       '788.0HP 6.5L 12 Cylinder Engine Gasoline Fuel',\n",
       "       '323.0HP 3.6L V6 Cylinder Engine Gasoline Fuel',\n",
       "       '330.0HP 2.0L 4 Cylinder Engine Gasoline Fuel',\n",
       "       '147.0HP 1.4L 4 Cylinder Engine Gasoline Fuel',\n",
       "       '169.0HP 2.4L 4 Cylinder Engine Gasoline Fuel',\n",
       "       '348.0HP 3.0L V6 Cylinder Engine Gasoline Fuel',\n",
       "       '285.0HP 5.3L 8 Cylinder Engine Gasoline Fuel',\n",
       "       '797.0HP 6.2L 8 Cylinder Engine Gasoline Fuel',\n",
       "       '205.0HP 3.8L V6 Cylinder Engine Gasoline Fuel',\n",
       "       '378.0HP 4.6L 8 Cylinder Engine Gasoline Fuel',\n",
       "       '235.0HP 4.7L 8 Cylinder Engine Gasoline Fuel',\n",
       "       '300.0HP 5.7L 8 Cylinder Engine Gasoline Fuel',\n",
       "       '295.0HP 3.6L V6 Cylinder Engine Gasoline Fuel',\n",
       "       '330.0HP 5.7L 8 Cylinder Engine Gasoline Fuel',\n",
       "       '416.0HP 5.0L 8 Cylinder Engine Gasoline Fuel',\n",
       "       '140.0HP 2.4L 4 Cylinder Engine Gasoline Fuel',\n",
       "       '426.0HP 6.2L 8 Cylinder Engine Gasoline Fuel',\n",
       "       '552.0HP 6.0L 12 Cylinder Engine Gasoline Fuel',\n",
       "       '335.0HP 3.6L V6 Cylinder Engine Gasoline Fuel',\n",
       "       '380.0HP 4.3L 8 Cylinder Engine Gasoline Fuel',\n",
       "       '260.0HP 4.6L 8 Cylinder Engine Gasoline Fuel',\n",
       "       '156.0HP 2.3L 4 Cylinder Engine Gasoline Fuel',\n",
       "       '168.0HP 2.4L 4 Cylinder Engine Gasoline Fuel',\n",
       "       '167.0HP 2.0L 4 Cylinder Engine Gasoline Fuel',\n",
       "       '192.0HP 2.4L 4 Cylinder Engine Gasoline Fuel',\n",
       "       '420.0HP 3.6L V6 Cylinder Engine Gasoline Fuel',\n",
       "       '175.0HP 3.9L V6 Cylinder Engine Gasoline Fuel',\n",
       "       '250.0HP 3.5L V6 Cylinder Engine Gasoline Fuel',\n",
       "       '571.0HP 6.2L 12 Cylinder Engine Gasoline Fuel',\n",
       "       '3.5L V6 24V GDI DOHC Twin Turbo',\n",
       "       '389.0HP 3.4L V6 Cylinder Engine Gasoline Fuel',\n",
       "       '6.7L V8 32V DDI OHV Turbo Diesel',\n",
       "       '500.0HP 5.0L 10 Cylinder Engine Gasoline Fuel',\n",
       "       '311.0HP 3.5L V6 Cylinder Engine Gasoline Fuel',\n",
       "       '181.0HP 2.0L 4 Cylinder Engine Gasoline Fuel',\n",
       "       '263.0HP 2.3L 4 Cylinder Engine Gasoline Fuel',\n",
       "       '335.0HP 4.6L 8 Cylinder Engine Gasoline Fuel',\n",
       "       '355.0HP 2.0L 4 Cylinder Engine Gasoline Fuel',\n",
       "       '400.0HP 6.75L 8 Cylinder Engine Gasoline Fuel',\n",
       "       '262.0HP 3.5L V6 Cylinder Engine Gasoline Fuel',\n",
       "       '172.0HP 2.4L 4 Cylinder Engine Gasoline Fuel',\n",
       "       '265.0HP 4.0L V6 Cylinder Engine Gasoline Fuel',\n",
       "       '272.0HP 2.0L 4 Cylinder Engine Gasoline Fuel',\n",
       "       '505.0HP 7.0L 8 Cylinder Engine Gasoline Fuel',\n",
       "       '286.0HP 2.0L 4 Cylinder Engine Gasoline Fuel',\n",
       "       '400.0HP 4.2L 8 Cylinder Engine Gasoline Fuel',\n",
       "       '168.0HP 1.6L 4 Cylinder Engine Gasoline Fuel',\n",
       "       '132.0HP 1.6L 4 Cylinder Engine Gasoline Fuel',\n",
       "       '303.0HP 3.5L V6 Cylinder Engine Gasoline Fuel',\n",
       "       '132.0HP 1.8L 4 Cylinder Engine Gasoline Fuel',\n",
       "       '184.0HP 2.0L 4 Cylinder Engine Gasoline Fuel',\n",
       "       '306.0HP 3.5L V6 Cylinder Engine Gas/Electric Hybrid',\n",
       "       '250.0HP 7.3L 8 Cylinder Engine Diesel Fuel',\n",
       "       '171.0HP 2.5L 4 Cylinder Engine Gasoline Fuel',\n",
       "       '2.9L V6 24V GDI DOHC Twin Turbo',\n",
       "       '104.0HP 1.6L 4 Cylinder Engine Gasoline Fuel',\n",
       "       '360.0HP 4.6L 8 Cylinder Engine Gasoline Fuel',\n",
       "       '201.0HP 2.0L 4 Cylinder Engine Gasoline Fuel',\n",
       "       '122.0HP 1.8L 4 Cylinder Engine Gasoline Fuel',\n",
       "       '420.0HP 5.6L 8 Cylinder Engine Gasoline Fuel',\n",
       "       '220.0HP 3.5L 5 Cylinder Engine Gasoline Fuel',\n",
       "       '276.0HP 3.6L V6 Cylinder Engine Gasoline Fuel',\n",
       "       '808.0HP 6.2L 8 Cylinder Engine Gasoline Fuel',\n",
       "       '404.0HP 3.0L V6 Cylinder Engine Gasoline Fuel',\n",
       "       '401.0HP 6.6L 8 Cylinder Engine Gasoline Fuel',\n",
       "       '255.0HP 3.5L V6 Cylinder Engine Gasoline Fuel',\n",
       "       '315.0HP 4.6L 8 Cylinder Engine Gasoline Fuel',\n",
       "       '416.0HP 3.0L V6 Cylinder Engine Plug-In Electric/Gas',\n",
       "       '400.0HP 4.4L 8 Cylinder Engine Gasoline Fuel',\n",
       "       '600.0HP 6.0L 12 Cylinder Engine Gasoline Fuel',\n",
       "       '330.0HP 3.7L V6 Cylinder Engine Gasoline Fuel',\n",
       "       '244.0HP 2.3L 4 Cylinder Engine Gasoline Fuel',\n",
       "       '250.0HP 2.0L 4 Cylinder Engine Gasoline Fuel',\n",
       "       '353.0HP 6.0L 8 Cylinder Engine Gasoline Fuel',\n",
       "       '493.0HP 5.0L 10 Cylinder Engine Gasoline Fuel',\n",
       "       '390.0HP 5.7L 8 Cylinder Engine Gasoline Fuel',\n",
       "       '246.0HP 2.0L 4 Cylinder Engine Gasoline Fuel',\n",
       "       '260.0HP 4.0L V6 Cylinder Engine Gasoline Fuel',\n",
       "       '304.0HP 3.6L V6 Cylinder Engine Gasoline Fuel',\n",
       "       '188.0HP 1.6L 4 Cylinder Engine Gasoline Fuel',\n",
       "       '150.0HP 2.0L 4 Cylinder Engine Gasoline Fuel',\n",
       "       '240.0HP 4.7L 8 Cylinder Engine Gasoline Fuel',\n",
       "       '340.0HP 4.2L 8 Cylinder Engine Gasoline Fuel',\n",
       "       '300.0HP 6.6L 8 Cylinder Engine Diesel Fuel',\n",
       "       '470.0HP 6.4L 8 Cylinder Engine Gasoline Fuel',\n",
       "       '227.0HP 2.5L 5 Cylinder Engine Gasoline Fuel',\n",
       "       '173.0HP 2.0L 4 Cylinder Engine Gasoline Fuel',\n",
       "       '6.0L W12 48V PDI DOHC Twin Turbo',\n",
       "       '300.0HP 2.0L 4 Cylinder Engine Gasoline Fuel',\n",
       "       '132.0HP 2.0L 4 Cylinder Engine Gasoline Fuel',\n",
       "       '70.0HP 1.0L 3 Cylinder Engine Gasoline Fuel',\n",
       "       '165.0HP 2.5L 4 Cylinder Engine Gasoline Fuel',\n",
       "       '310.0HP 2.7L 4 Cylinder Engine Gasoline Fuel',\n",
       "       '260.0HP 3.8L V6 Cylinder Engine Gasoline Fuel',\n",
       "       '255.0HP 3.2L V6 Cylinder Engine Gasoline Fuel',\n",
       "       '150.0HP 3.8L V6 Cylinder Engine Gasoline Fuel',\n",
       "       '235.0HP 2.0L 4 Cylinder Engine Gasoline Fuel',\n",
       "       '355.0HP 5.7L 8 Cylinder Engine Gasoline Fuel',\n",
       "       '602.0HP 3.9L 8 Cylinder Engine Gasoline Fuel',\n",
       "       '186.0HP 2.5L 4 Cylinder Engine Gasoline Fuel',\n",
       "       '290.0HP 3.3L V6 Cylinder Engine Gasoline Fuel',\n",
       "       '265.0HP 2.5L 4 Cylinder Engine Gasoline Fuel',\n",
       "       '134.0HP 1.8L 4 Cylinder Engine Plug-In Electric/Gas',\n",
       "       '258.0HP 3.2L V6 Cylinder Engine Gasoline Fuel',\n",
       "       '247.0HP 2.0L 4 Cylinder Engine Plug-In Electric/Gas',\n",
       "       '6.8L V12 48V GDI DOHC Twin Turbo',\n",
       "       '670.0HP 5.5L 8 Cylinder Engine Gasoline Fuel',\n",
       "       '375.0HP 2.9L V6 Cylinder Engine Gasoline Fuel',\n",
       "       '362.0HP 5.4L 8 Cylinder Engine Gasoline Fuel',\n",
       "       'Intercooled Turbo Premium Unleaded I-4 2.0 L/122',\n",
       "       '591.0HP 4.0L 8 Cylinder Engine Gasoline Fuel',\n",
       "       '505.0HP 2.9L V6 Cylinder Engine Gasoline Fuel',\n",
       "       '188.0HP 2.0L 4 Cylinder Engine Plug-In Electric/Gas',\n",
       "       '206.0HP 2.4L 4 Cylinder Engine Gas/Electric Hybrid',\n",
       "       '525.0HP 5.2L 10 Cylinder Engine Gasoline Fuel',\n",
       "       '360.0HP 4.8L 8 Cylinder Engine Gasoline Fuel',\n",
       "       '159.0HP 2.7L 4 Cylinder Engine Gasoline Fuel',\n",
       "       '197.0HP 1.6L 4 Cylinder Engine Gasoline Fuel',\n",
       "       '545.0HP 3.8L V6 Cylinder Engine Gasoline Fuel',\n",
       "       '201.0HP 1.8L 4 Cylinder Engine Gasoline Fuel',\n",
       "       '265.0HP 3.2L V6 Cylinder Engine Gasoline Fuel',\n",
       "       '390.0HP 6.0L 8 Cylinder Engine Gasoline Fuel',\n",
       "       '303.0HP 3.6L V6 Cylinder Engine Gasoline Fuel',\n",
       "       '450.0HP 4.2L 8 Cylinder Engine Gasoline Fuel',\n",
       "       '300.0HP 4.3L 8 Cylinder Engine Gasoline Fuel',\n",
       "       '6.6L V8 32V DDI OHV Turbo Diesel',\n",
       "       '200.0HP 4.3L V6 Cylinder Engine Gasoline Fuel',\n",
       "       '325.0HP 2.9L V6 Cylinder Engine Gasoline Fuel',\n",
       "       '573.0HP 5.2L 10 Cylinder Engine Gasoline Fuel',\n",
       "       '563.0HP 6.7L 12 Cylinder Engine Gasoline Fuel',\n",
       "       '402.0HP 4.6L 8 Cylinder Engine Gasoline Fuel',\n",
       "       '345.0HP 6.0L 8 Cylinder Engine Gasoline Fuel',\n",
       "       '147.0HP 2.0L 4 Cylinder Engine Gasoline Fuel',\n",
       "       '231.0HP 2.0L 4 Cylinder Engine Gasoline Fuel',\n",
       "       '400.0HP 2.0L 4 Cylinder Engine Plug-In Electric/Gas',\n",
       "       '550.0HP 4.0L 8 Cylinder Engine Gasoline Fuel',\n",
       "       '611.0HP 3.9L 8 Cylinder Engine Gasoline Fuel',\n",
       "       '624.0HP 6.6L 12 Cylinder Engine Gasoline Fuel',\n",
       "       '225.0HP 4.6L 8 Cylinder Engine Gasoline Fuel',\n",
       "       '500.0HP 4.8L 8 Cylinder Engine Gasoline Fuel',\n",
       "       '480.0HP 5.0L 8 Cylinder Engine Gasoline Fuel',\n",
       "       '567.0HP 4.4L 8 Cylinder Engine Gasoline Fuel',\n",
       "       '207.0HP 4.0L V6 Cylinder Engine Gasoline Fuel',\n",
       "       '179.0HP 1.5L 4 Cylinder Engine Gasoline Fuel',\n",
       "       '300.0HP 2.5L 5 Cylinder Engine Gasoline Fuel',\n",
       "       '173.0HP 1.6L 4 Cylinder Engine Gasoline Fuel',\n",
       "       '202.0HP 2.5L 4 Cylinder Engine Gasoline Fuel',\n",
       "       '602.0HP 5.2L 10 Cylinder Engine Gasoline Fuel',\n",
       "       '190.0HP 2.3L 4 Cylinder Engine Gasoline Fuel',\n",
       "       '181.0HP 1.5L 3 Cylinder Engine Gasoline Fuel',\n",
       "       '190.0HP 1.8L 4 Cylinder Engine Gasoline Fuel',\n",
       "       '180.0HP 1.6L 4 Cylinder Engine Gasoline Fuel',\n",
       "       '181.0HP 1.5L 4 Cylinder Engine Gasoline Fuel',\n",
       "       '4.2L V8 32V GDI DOHC Twin Turbo',\n",
       "       '370.0HP 5.7L 8 Cylinder Engine Gasoline Fuel',\n",
       "       '455.0HP 2.0L 4 Cylinder Engine Plug-In Electric/Gas',\n",
       "       '300.0HP 6.0L 8 Cylinder Engine Gasoline Fuel',\n",
       "       '298.0HP 3.5L V6 Cylinder Engine Gasoline Fuel',\n",
       "       '344.0HP 3.8L V6 Cylinder Engine Gasoline Fuel',\n",
       "       '177.0HP 2.4L 4 Cylinder Engine Gasoline Fuel',\n",
       "       '3.0L V6 24V PDI DOHC Twin Turbo',\n",
       "       '290.0HP 3.8L V6 Cylinder Engine Gasoline Fuel',\n",
       "       '1.6L I4 16V GDI DOHC Turbo Hybrid',\n",
       "       '280.0HP 3.0L V6 Cylinder Engine Gasoline Fuel',\n",
       "       '362.0HP 4.6L 8 Cylinder Engine Gasoline Fuel',\n",
       "       '440.0HP 4.7L 8 Cylinder Engine Gasoline Fuel',\n",
       "       '5.3L V8 16V MPFI OHV Flexible Fuel',\n",
       "       '272.0HP 3.0L V6 Cylinder Engine Gasoline Fuel',\n",
       "       '215.0HP 3.8L V6 Cylinder Engine Gasoline Fuel',\n",
       "       '170.0HP 1.5L 4 Cylinder Engine Gasoline Fuel',\n",
       "       '400.0HP 6.7L 8 Cylinder Engine Diesel Fuel',\n",
       "       '291.0HP 2.0L 4 Cylinder Engine Gasoline Fuel',\n",
       "       '540.0HP 5.4L 8 Cylinder Engine Gasoline Fuel',\n",
       "       '403.0HP 2.0L Electric Motor Electric Fuel System',\n",
       "       '440.0HP 3.6L V6 Cylinder Engine Gasoline Fuel',\n",
       "       '303.0HP 3.7L V6 Cylinder Engine Gasoline Fuel',\n",
       "       '315.0HP 2.0L 4 Cylinder Engine Gasoline Fuel',\n",
       "       '702.0HP 6.2L 8 Cylinder Engine Gasoline Fuel',\n",
       "       '197.0HP 2.5L 4 Cylinder Engine Gasoline Fuel',\n",
       "       '182.0HP 4.0L 8 Cylinder Engine Gasoline Fuel',\n",
       "       '318.0HP 3.3L V6 Cylinder Engine Gas/Electric Hybrid',\n",
       "       '280.0HP 3.9L 8 Cylinder Engine Gasoline Fuel',\n",
       "       '203.0HP 2.5L 4 Cylinder Engine Gasoline Fuel',\n",
       "       '275.0HP 3.5L V6 Cylinder Engine Gasoline Fuel',\n",
       "       '192.0HP 2.3L 4 Cylinder Engine Gasoline Fuel',\n",
       "       '295.0HP 3.5L V6 Cylinder Engine Gas/Electric Hybrid',\n",
       "       '158.0HP 2.4L 4 Cylinder Engine Gasoline Fuel',\n",
       "       '260.0HP 5.4L 8 Cylinder Engine Gasoline Fuel',\n",
       "       '300.0HP 3.5L V6 Cylinder Engine Gasoline Fuel',\n",
       "       '245.0HP 5.9L 8 Cylinder Engine Gasoline Fuel',\n",
       "       '244.0HP 3.5L V6 Cylinder Engine Gasoline Fuel',\n",
       "       '305.0HP 5.6L 8 Cylinder Engine Gasoline Fuel',\n",
       "       '305.0HP 3.6L V6 Cylinder Engine Gasoline Fuel',\n",
       "       '245.0HP 4.0L V6 Cylinder Engine Gasoline Fuel',\n",
       "       '3.0L I6 24V GDI DOHC Twin Turbo',\n",
       "       '245.0HP 3.5L V6 Cylinder Engine Gas/Electric Hybrid',\n",
       "       '565.0HP 3.8L V6 Cylinder Engine Gasoline Fuel',\n",
       "       '375.0HP 2.0L 4 Cylinder Engine Plug-In Electric/Gas',\n",
       "       '271.0HP 3.5L V6 Cylinder Engine Gasoline Fuel',\n",
       "       '197.0HP 3.8L V6 Cylinder Engine Gasoline Fuel',\n",
       "       '153.0HP 2.3L 4 Cylinder Engine Gasoline Fuel',\n",
       "       '420.0HP 4.2L 8 Cylinder Engine Gasoline Fuel',\n",
       "       '340.0HP 8.1L 8 Cylinder Engine Gasoline Fuel',\n",
       "       '180.0HP 6.5L 8 Cylinder Engine Diesel Fuel',\n",
       "       '222.0HP 3.0L V6 Cylinder Engine Gasoline Fuel',\n",
       "       '456.0HP 4.0L 8 Cylinder Engine Gasoline Fuel',\n",
       "       '215.0HP 1.6L 4 Cylinder Engine Gasoline Fuel',\n",
       "       '180.0HP 1.6L 4 Cylinder Engine Plug-In Electric/Gas',\n",
       "       '172.0HP 2.4L 4 Cylinder Engine Gas/Electric Hybrid',\n",
       "       '550.0HP 5.5L 8 Cylinder Engine Gasoline Fuel',\n",
       "       '420.0HP 5.9L 12 Cylinder Engine Gasoline Fuel',\n",
       "       '510.0HP 5.5L 12 Cylinder Engine Gasoline Fuel',\n",
       "       '325.0HP 5.7L 8 Cylinder Engine Gasoline Fuel',\n",
       "       '444.0HP 5.0L 8 Cylinder Engine Gasoline Fuel',\n",
       "       '6.2L V8 16V MPFI SOHC Flexible Fuel',\n",
       "       '400.0HP 6.2L 8 Cylinder Engine Gasoline Fuel',\n",
       "       '325.0HP 8.1L 8 Cylinder Engine Gasoline Fuel',\n",
       "       '557.0HP 5.0L 8 Cylinder Engine Gasoline Fuel',\n",
       "       '3.8L V8 32V GDI DOHC Twin Turbo',\n",
       "       '300.0HP 1.6L 3 Cylinder Engine Gasoline Fuel',\n",
       "       '143.0HP 1.8L 4 Cylinder Engine Gasoline Fuel',\n",
       "       '225.0HP 1.8L 4 Cylinder Engine Gasoline Fuel',\n",
       "       '471.0HP 6.4L 8 Cylinder Engine Gasoline Fuel',\n",
       "       '200.0HP 2.2L 4 Cylinder Engine Gasoline Fuel',\n",
       "       '240.0HP 2.5L 4 Cylinder Engine Gas/Electric Hybrid',\n",
       "       '550.0HP 6.0L 12 Cylinder Engine Gasoline Fuel',\n",
       "       '136.0HP 1.8L 4 Cylinder Engine Gasoline Fuel',\n",
       "       '221.0HP 2.5L 4 Cylinder Engine Plug-In Electric/Gas',\n",
       "       '360.0HP 3.5L V6 Cylinder Engine Gas/Electric Hybrid',\n",
       "       '493.0HP 5.5L 12 Cylinder Engine Gasoline Fuel',\n",
       "       '227.0HP 1.6L 4 Cylinder Engine Gas/Electric Hybrid',\n",
       "       '360.0HP 2.5L 5 Cylinder Engine Gasoline Fuel',\n",
       "       '500.0HP 5.4L 8 Cylinder Engine Gasoline Fuel',\n",
       "       '400.0HP 2.5L 5 Cylinder Engine Gasoline Fuel',\n",
       "       '360.0HP 4.2L 8 Cylinder Engine Gasoline Fuel',\n",
       "       '210.0HP 5.8L 8 Cylinder Engine Gasoline Fuel',\n",
       "       '651.0HP 6.3L 12 Cylinder Engine Gasoline Fuel',\n",
       "       '3.8L V6 24V MPFI DOHC Twin Turbo',\n",
       "       '250.0HP 2.5L 5 Cylinder Engine Gasoline Fuel',\n",
       "       '660.0HP 3.9L 8 Cylinder Engine Gasoline Fuel',\n",
       "       '365.0HP 2.5L 4 Cylinder Engine Gasoline Fuel',\n",
       "       '162.0HP 2.4L 4 Cylinder Engine Gasoline Fuel',\n",
       "       '219.0HP 2.5L 4 Cylinder Engine Gas/Electric Hybrid',\n",
       "       '148.0HP 3.0L V6 Cylinder Engine Gasoline Fuel',\n",
       "       '451.0HP 6.3L 8 Cylinder Engine Gasoline Fuel',\n",
       "       '221.0HP 2.0L 4 Cylinder Engine Gasoline Fuel',\n",
       "       '523.0HP 6.0L 12 Cylinder Engine Gasoline Fuel',\n",
       "       '270.0HP 4.8L 8 Cylinder Engine Gasoline Fuel',\n",
       "       '302.0HP 2.5L 4 Cylinder Engine Plug-In Electric/Gas',\n",
       "       '276.0HP 2.0L 4 Cylinder Engine Gasoline Fuel',\n",
       "       '239.0HP 3.7L 5 Cylinder Engine Gasoline Fuel',\n",
       "       '621.0HP 6.0L 12 Cylinder Engine Gasoline Fuel',\n",
       "       '301.0HP 3.6L V6 Cylinder Engine Gasoline Fuel',\n",
       "       '260.0HP 6.6L 8 Cylinder Engine Diesel Fuel',\n",
       "       '281.0HP 2.5L 4 Cylinder Engine Gasoline Fuel',\n",
       "       '200.0HP 3.0L V6 Cylinder Engine Gasoline Fuel',\n",
       "       '205.0HP 2.0L 4 Cylinder Engine Gasoline Fuel',\n",
       "       '500.0HP 4.0L 8 Cylinder Engine Gasoline Fuel',\n",
       "       '440.0HP 2.9L V6 Cylinder Engine Gasoline Fuel',\n",
       "       '305.0HP 5.7L 8 Cylinder Engine Gasoline Fuel',\n",
       "       '3.9L V8 32V GDI DOHC Twin Turbo',\n",
       "       '230.0HP 5.2L 8 Cylinder Engine Gasoline Fuel',\n",
       "       '180.0HP 2.0L 4 Cylinder Engine Gasoline Fuel',\n",
       "       '553.0HP 3.9L 8 Cylinder Engine Gasoline Fuel',\n",
       "       '146.0HP 2.0L 4 Cylinder Engine Gasoline Fuel',\n",
       "       '198.0HP 2.4L 4 Cylinder Engine Gasoline Fuel',\n",
       "       '252.0HP 3.6L V6 Cylinder Engine Gasoline Fuel',\n",
       "       '250.0HP 3.0L V6 Cylinder Engine Diesel Fuel',\n",
       "       '645.0HP 8.4L 10 Cylinder Engine Gasoline Fuel',\n",
       "       '282.0HP 4.4L 8 Cylinder Engine Gasoline Fuel',\n",
       "       '380.0HP 5.4L 8 Cylinder Engine Gasoline Fuel',\n",
       "       '181.0HP 2.5L 4 Cylinder Engine Gasoline Fuel',\n",
       "       '160.0HP 1.4L 4 Cylinder Engine Gasoline Fuel',\n",
       "       '283.0HP 3.6L V6 Cylinder Engine Gasoline Fuel',\n",
       "       '261.0HP 1.6L 4 Cylinder Engine Plug-In Electric/Gas',\n",
       "       '174.0HP 2.0L 4 Cylinder Engine Gasoline Fuel',\n",
       "       '279.0HP 3.5L V6 Cylinder Engine Gasoline Fuel',\n",
       "       '355.0HP 6.0L 8 Cylinder Engine Gasoline Fuel',\n",
       "       '210.0HP 3.0L V6 Cylinder Engine Gasoline Fuel',\n",
       "       '106.0HP 1.5L 4 Cylinder Engine Gasoline Fuel',\n",
       "       '483.0HP 4.3L 8 Cylinder Engine Gasoline Fuel',\n",
       "       '5.2L V12 48V GDI DOHC Twin Turbo',\n",
       "       '210.0HP 2.0L 4 Cylinder Engine Diesel Fuel',\n",
       "       '134.0HP 1.5L 3 Cylinder Engine Gasoline Fuel',\n",
       "       '8.0L W16 64V GDI DOHC Twin Turbo',\n",
       "       '210.0HP 2.5L 4 Cylinder Engine Gasoline Fuel',\n",
       "       '332.0HP 6.0L 8 Cylinder Engine Gas/Electric Hybrid',\n",
       "       '416.0HP 3.5L V6 Cylinder Engine Gasoline Fuel',\n",
       "       '469.0HP 5.4L 8 Cylinder Engine Gasoline Fuel',\n",
       "       '201.0HP 3.5L V6 Cylinder Engine Gasoline Fuel',\n",
       "       '321.0HP 3.0L V6 Cylinder Engine Gas/Electric Hybrid',\n",
       "       '101.0HP 1.4L 4 Cylinder Engine Gasoline Fuel',\n",
       "       '405.0HP 4.8L 8 Cylinder Engine Gasoline Fuel',\n",
       "       '335.0HP 6.6L 8 Cylinder Engine Diesel Fuel',\n",
       "       '109.0HP 1.5L 4 Cylinder Engine Gasoline Fuel',\n",
       "       '242.0HP 3.3L V6 Cylinder Engine Gasoline Fuel',\n",
       "       '131.0HP 2.0L 4 Cylinder Engine Gasoline Fuel',\n",
       "       '138.0HP 2.0L 4 Cylinder Engine Gasoline Fuel',\n",
       "       '395.0HP 6.0L 8 Cylinder Engine Gasoline Fuel',\n",
       "       '155.0HP 1.3L 3 Cylinder Engine Gasoline Fuel',\n",
       "       '186.0HP 2.0L 4 Cylinder Engine Gasoline Fuel',\n",
       "       '200.0HP 1.6L 4 Cylinder Engine Gasoline Fuel',\n",
       "       '205.0HP 1.5L 4 Cylinder Engine Gasoline Fuel',\n",
       "       '319.0HP 6.0L 8 Cylinder Engine Gasoline Fuel',\n",
       "       '400.0HP 3.6L V6 Cylinder Engine Gasoline Fuel',\n",
       "       '393.0HP 6.2L 8 Cylinder Engine Gasoline Fuel',\n",
       "       '161.0HP 2.4L 4 Cylinder Engine Gasoline Fuel',\n",
       "       '401.0HP 2.5L 5 Cylinder Engine Gasoline Fuel',\n",
       "       '138.0HP 1.6L 4 Cylinder Engine Gasoline Fuel',\n",
       "       '357.0HP 1.5L 3 Cylinder Engine Plug-In Electric/Gas',\n",
       "       '120.0HP 1.6L 4 Cylinder Engine Gasoline Fuel',\n",
       "       '556.0HP 6.2L 8 Cylinder Engine Gasoline Fuel',\n",
       "       '156.0HP 2.0L 4 Cylinder Engine Gasoline Fuel',\n",
       "       '275.0HP 2.0L 4 Cylinder Engine Gasoline Fuel',\n",
       "       '420.0HP 4.7L 8 Cylinder Engine Gasoline Fuel',\n",
       "       '180.0HP 3.4L V6 Cylinder Engine Gasoline Fuel',\n",
       "       '175.0HP 1.6L 4 Cylinder Engine Gasoline Fuel',\n",
       "       '518.0HP 6.2L 8 Cylinder Engine Gasoline Fuel',\n",
       "       '170.0HP 2.0L 4 Cylinder Engine Gasoline Fuel',\n",
       "       '260.0HP 3.6L V6 Cylinder Engine Gasoline Fuel',\n",
       "       '137.0HP 1.8L 4 Cylinder Engine Gasoline Fuel',\n",
       "       '287.0HP 3.6L V6 Cylinder Engine Gasoline Fuel',\n",
       "       '265.0HP 3.0L V6 Cylinder Engine Gasoline Fuel',\n",
       "       '180.0HP 2.5L 4 Cylinder Engine Gasoline Fuel',\n",
       "       '562.0HP 5.2L 10 Cylinder Engine Gasoline Fuel',\n",
       "       '150.0HP 2.0L 4 Cylinder Engine Diesel Fuel',\n",
       "       '271.0HP 2.0L 4 Cylinder Engine Gasoline Fuel',\n",
       "       '285.0HP 5.7L 8 Cylinder Engine Gasoline Fuel',\n",
       "       '250.0HP 3.2L V6 Cylinder Engine Gasoline Fuel',\n",
       "       '294.0HP 4.2L 8 Cylinder Engine Gasoline Fuel',\n",
       "       '286.0HP 3.5L V6 Cylinder Engine Gasoline Fuel',\n",
       "       '126.0HP 1.8L 4 Cylinder Engine Gasoline Fuel',\n",
       "       '192.0HP 1.5L 4 Cylinder Engine Gasoline Fuel',\n",
       "       '115.0HP 1.6L 4 Cylinder Engine Gasoline Fuel',\n",
       "       '192.0HP 2.0L 4 Cylinder Engine Gas/Electric Hybrid',\n",
       "       '375.0HP 2.0L 4 Cylinder Engine Gasoline Fuel',\n",
       "       '115.0HP 2.0L 4 Cylinder Engine Gasoline Fuel',\n",
       "       '109.0HP 1.6L 4 Cylinder Engine Gasoline Fuel',\n",
       "       '156.0HP 2.5L 4 Cylinder Engine Gas/Electric Hybrid',\n",
       "       '306.0HP 2.0L 4 Cylinder Engine Gasoline Fuel',\n",
       "       '2.0L I4 16V GDI DOHC Flexible Fuel',\n",
       "       '444.0HP 4.7L 8 Cylinder Engine Gasoline Fuel',\n",
       "       '382.0HP 2.0L 4 Cylinder Engine Gasoline Fuel',\n",
       "       '450.0HP 4.5L 8 Cylinder Engine Gasoline Fuel',\n",
       "       '261.0HP 2.0L 4 Cylinder Engine Gasoline Fuel',\n",
       "       '405.0HP 3.0L V6 Cylinder Engine Gasoline Fuel',\n",
       "       '145.0HP 1.8L 4 Cylinder Engine Gasoline Fuel',\n",
       "       '425.0HP 4.7L 8 Cylinder Engine Gasoline Fuel',\n",
       "       '430.0HP 3.5L V6 Cylinder Engine Gas/Electric Hybrid',\n",
       "       '372.0HP 5.7L 8 Cylinder Engine Gasoline Fuel',\n",
       "       '326.0HP 5.4L 12 Cylinder Engine Gasoline Fuel',\n",
       "       '243.0HP 2.5L 4 Cylinder Engine Gasoline Fuel',\n",
       "       '555.0HP 4.4L 8 Cylinder Engine Gasoline Fuel',\n",
       "       '323.0HP 6.0L 8 Cylinder Engine Gasoline Fuel',\n",
       "       '227.0HP 2.0L 4 Cylinder Engine Gasoline Fuel',\n",
       "       '141.0HP 2.0L 4 Cylinder Engine Gasoline Fuel',\n",
       "       '363.0HP 5.7L 8 Cylinder Engine Gasoline Fuel',\n",
       "       '290.0HP 4.3L 8 Cylinder Engine Gasoline Fuel',\n",
       "       '150.0HP 2.7L 4 Cylinder Engine Gasoline Fuel',\n",
       "       '271.0HP 2.4L 4 Cylinder Engine Gasoline Fuel',\n",
       "       '245.0HP 2.5L 4 Cylinder Engine Gas/Electric Hybrid',\n",
       "       '253.0HP 3.5L V6 Cylinder Engine Gasoline Fuel',\n",
       "       '174.0HP 1.5L 4 Cylinder Engine Gasoline Fuel',\n",
       "       '550.0HP 5.4L 8 Cylinder Engine Gasoline Fuel',\n",
       "       '495.0HP 5.0L 8 Cylinder Engine Gasoline Fuel',\n",
       "       '121.0HP 1.8L 4 Cylinder Engine Gas/Electric Hybrid',\n",
       "       '543.0HP 5.5L 12 Cylinder Engine Gasoline Fuel',\n",
       "       '354.0HP 4.2L 8 Cylinder Engine Gasoline Fuel',\n",
       "       '280.0HP 2.8L V6 Cylinder Engine Gasoline Fuel',\n",
       "       '193.0HP 2.5L 4 Cylinder Engine Gasoline Fuel',\n",
       "       '605.0HP 5.7L 10 Cylinder Engine Gasoline Fuel',\n",
       "       '715.0HP 5.2L 12 Cylinder Engine Gasoline Fuel',\n",
       "       '290.0HP 7.4L 8 Cylinder Engine Gasoline Fuel',\n",
       "       '260.0HP 3.0L V6 Cylinder Engine Diesel Fuel',\n",
       "       '405.0HP 5.7L 8 Cylinder Engine Gasoline Fuel',\n",
       "       '212.0HP 2.0L 4 Cylinder Engine Gas/Electric Hybrid',\n",
       "       '400.0HP 5.0L 8 Cylinder Engine Gasoline Fuel',\n",
       "       '178.0HP 1.8L 4 Cylinder Engine Gasoline Fuel',\n",
       "       '266.0HP 2.5L 4 Cylinder Engine Plug-In Electric/Gas',\n",
       "       '638.0HP 6.2L 8 Cylinder Engine Gasoline Fuel',\n",
       "       '226.0HP 1.6L 4 Cylinder Engine Gas/Electric Hybrid',\n",
       "       '650.0HP 5.8L 8 Cylinder Engine Gasoline Fuel',\n",
       "       '407.0HP 4.4L 8 Cylinder Engine Gasoline Fuel',\n",
       "       '76.0HP 1.5L 4 Cylinder Engine Gas/Electric Hybrid',\n",
       "       '320.0HP 4.6L 8 Cylinder Engine Gasoline Fuel',\n",
       "       '212.0HP 1.5L 4 Cylinder Engine Plug-In Electric/Gas',\n",
       "       '322.0HP 2.0L 4 Cylinder Engine Plug-In Electric/Gas',\n",
       "       '139.0HP 1.6L 4 Cylinder Engine Gas/Electric Hybrid',\n",
       "       '443.0HP 4.4L 8 Cylinder Engine Gasoline Fuel',\n",
       "       '288.0HP 2.0L 4 Cylinder Engine Plug-In Electric/Gas',\n",
       "       '164.0HP 1.4L 4 Cylinder Engine Gasoline Fuel',\n",
       "       '250.0HP 2.7L V6 Cylinder Engine Gasoline Fuel',\n",
       "       '151.0HP 1.5L 4 Cylinder Engine Gas/Electric Hybrid',\n",
       "       '78.0HP 1.2L 3 Cylinder Engine Gasoline Fuel',\n",
       "       '139.0HP 1.6L 4 Cylinder Engine Plug-In Electric/Gas',\n",
       "       '313.0HP 2.0L 4 Cylinder Engine Plug-In Electric/Gas'],\n",
       "      dtype=object)"
      ]
     },
     "execution_count": 44,
     "metadata": {},
     "output_type": "execute_result"
    }
   ],
   "source": [
    "df_copy[df_copy['engine_word_count']==7]['engine'].unique()"
   ]
  },
  {
   "cell_type": "code",
   "execution_count": 45,
   "metadata": {
    "colab": {
     "base_uri": "https://localhost:8080/"
    },
    "id": "Kyed8IQY1GVt",
    "outputId": "ec36ad5b-1063-4fe0-bae6-74c089856db8"
   },
   "outputs": [
    {
     "data": {
      "text/plain": [
       "array(['320.0HP 5.3L 8 Cylinder Engine Flex Fuel Capability',\n",
       "       '355.0HP 5.3L 8 Cylinder Engine Flex Fuel Capability',\n",
       "       '425.0HP 3.0L Straight 6 Cylinder Engine Gasoline Fuel',\n",
       "       '335.0HP 3.0L V6 Cylinder Engine Gasoline/Mild Electric Hybrid',\n",
       "       '230.0HP 3.0L Straight 6 Cylinder Engine Gasoline Fuel',\n",
       "       '3.4L V6 24V PDI DOHC Twin Turbo Hybrid',\n",
       "       '385.0HP 6.2L 8 Cylinder Engine Flex Fuel Capability',\n",
       "       '385.0HP 3.8L Flat 6 Cylinder Engine Gasoline Fuel',\n",
       "       '350.0HP 6.7L Straight 6 Cylinder Engine Diesel Fuel',\n",
       "       '190.0HP 4.0L Straight 6 Cylinder Engine Gasoline Fuel',\n",
       "       '333.0HP 3.2L Straight 6 Cylinder Engine Gasoline Fuel',\n",
       "       '389.0HP 3.0L Straight 6 Cylinder Engine Plug-In Electric/Gas',\n",
       "       '235.0HP 3.2L Straight 6 Cylinder Engine Gasoline Fuel',\n",
       "       '169.0HP 2.5L 4 Cylinder Engine Flex Fuel Capability',\n",
       "       '400.0HP 3.8L Flat 6 Cylinder Engine Gasoline Fuel',\n",
       "       '350.0HP 3.4L Flat 6 Cylinder Engine Gasoline Fuel',\n",
       "       '335.0HP 3.0L Straight 6 Cylinder Engine Gasoline Fuel',\n",
       "       '310.0HP 5.4L 8 Cylinder Engine Flex Fuel Capability',\n",
       "       '443.0HP 3.0L Flat 6 Cylinder Engine Gasoline Fuel',\n",
       "       '201.0HP 2.5L Flat 6 Cylinder Engine Gasoline Fuel',\n",
       "       '300.0HP 3.0L Straight 6 Cylinder Engine Gasoline Fuel',\n",
       "       '403.0HP 6.2L 8 Cylinder Engine Flex Fuel Capability',\n",
       "       '496.0HP 4.0L 8 Cylinder Engine Gasoline/Mild Electric Hybrid',\n",
       "       '290.0HP 3.5L V6 Cylinder Engine Flex Fuel Capability',\n",
       "       '283.0HP 3.6L V6 Cylinder Engine Flex Fuel Capability',\n",
       "       '603.0HP 4.0L 8 Cylinder Engine Gasoline/Mild Electric Hybrid',\n",
       "       '453.0HP 3.0L Straight 6 Cylinder Engine Gasoline Fuel',\n",
       "       '480.0HP 3.6L Flat 6 Cylinder Engine Gasoline Fuel',\n",
       "       '255.0HP 5.4L 8 Cylinder Engine Flex Fuel Capability',\n",
       "       '285.0HP 3.6L V6 Cylinder Engine Gasoline/Mild Electric Hybrid',\n",
       "       '503.0HP 3.0L Straight 6 Cylinder Engine Gasoline Fuel',\n",
       "       '320.0HP 3.0L Straight 6 Cylinder Engine Gasoline Fuel',\n",
       "       '282.0HP 3.5L V6 Cylinder Engine Flex Fuel Capability',\n",
       "       '475.0HP 3.8L Flat 6 Cylinder Engine Gasoline Fuel',\n",
       "       '225.0HP 3.0L Straight 6 Cylinder Engine Gasoline Fuel',\n",
       "       '420.0HP 3.0L Flat 6 Cylinder Engine Gasoline Fuel',\n",
       "       '212.0HP 4.5L Straight 6 Cylinder Engine Gasoline Fuel',\n",
       "       '395.0HP 5.7L 8 Cylinder Engine Gasoline/Mild Electric Hybrid',\n",
       "       '355.0HP 3.8L Flat 6 Cylinder Engine Gasoline Fuel',\n",
       "       '240.0HP 3.2L Straight 6 Cylinder Engine Gasoline Fuel',\n",
       "       '379.0HP 3.0L Flat 6 Cylinder Engine Gasoline Fuel',\n",
       "       '220.0HP 2.0L 4 Cylinder Engine Flex Fuel Capability',\n",
       "       '295.0HP 5.3L 8 Cylinder Engine Flex Fuel Capability',\n",
       "       '325.0HP 3.4L Flat 6 Cylinder Engine Gasoline Fuel',\n",
       "       '275.0HP 2.7L Flat 6 Cylinder Engine Gasoline Fuel',\n",
       "       '430.0HP 3.8L Flat 6 Cylinder Engine Gasoline Fuel',\n",
       "       '385.0HP 6.7L Straight 6 Cylinder Engine Diesel Fuel',\n",
       "       '315.0HP 3.6L Flat 6 Cylinder Engine Gasoline Fuel',\n",
       "       '591.0HP 4.0L 8 Cylinder Engine Gasoline/Mild Electric Hybrid',\n",
       "       '275.0HP 3.7L V6 Cylinder Engine Flex Fuel Capability',\n",
       "       '300.0HP 3.4L Flat 6 Cylinder Engine Gasoline Fuel',\n",
       "       '405.0HP 3.0L Straight 6 Cylinder Engine Gasoline Fuel',\n",
       "       '235.0HP 4.7L 8 Cylinder Engine Flex Fuel Capability',\n",
       "       '381.0HP 5.7L 8 Cylinder Engine Flex Fuel Capability',\n",
       "       '382.0HP 3.0L Straight 6 Cylinder Engine Gasoline Fuel',\n",
       "       '580.0HP 3.8L Flat 6 Cylinder Engine Gasoline Fuel',\n",
       "       '265.0HP 2.9L Flat 6 Cylinder Engine Gasoline Fuel',\n",
       "       '302.0HP 3.5L V6 Cylinder Engine Flex Fuel Capability',\n",
       "       '290.0HP 3.6L V6 Cylinder Engine Flex Fuel Capability',\n",
       "       '256.0HP 3.6L Flat 6 Cylinder Engine Gasoline Fuel',\n",
       "       '181.0HP 4.0L Straight 6 Cylinder Engine Gasoline Fuel',\n",
       "       '360.0HP 6.0L 8 Cylinder Engine Flex Fuel Capability',\n",
       "       '225.0HP 4.6L 8 Cylinder Engine Flex Fuel Capability',\n",
       "       '184.0HP 2.5L Straight 6 Cylinder Engine Gasoline Fuel',\n",
       "       '300.0HP 3.7L V6 Cylinder Engine Flex Fuel Capability',\n",
       "       '473.0HP 3.0L Flat 6 Cylinder Engine Gasoline Fuel',\n",
       "       '2.0L I4 16V GDI DOHC Turbo Flexible Fuel',\n",
       "       '540.0HP 3.8L Flat 6 Cylinder Engine Gasoline Fuel',\n",
       "       '450.0HP 3.0L Flat 6 Cylinder Engine Gasoline Fuel',\n",
       "       '414.0HP 4.0L Flat 6 Cylinder Engine Gasoline Fuel',\n",
       "       '444.0HP 3.0L Straight 6 Cylinder Engine Gasoline Fuel',\n",
       "       '500.0HP 4.0L Flat 6 Cylinder Engine Gasoline Fuel',\n",
       "       '240.0HP 2.7L Flat 6 Cylinder Engine Gasoline Fuel',\n",
       "       '317.0HP 5.6L 8 Cylinder Engine Flex Fuel Capability',\n",
       "       '385.0HP 5.0L 8 Cylinder Engine Flex Fuel Capability',\n",
       "       '160.0HP 2.0L 4 Cylinder Engine Flex Fuel Capability',\n",
       "       '640.0HP 3.8L Flat 6 Cylinder Engine Gasoline Fuel',\n",
       "       '265.0HP 2.7L Flat 6 Cylinder Engine Gasoline Fuel',\n",
       "       '502.0HP 4.0L Flat 6 Cylinder Engine Gasoline Fuel',\n",
       "       '230.0HP 3.2L Straight 6 Cylinder Engine Gasoline Fuel',\n",
       "       '325.0HP 3.6L Flat 6 Cylinder Engine Gasoline Fuel',\n",
       "       '400.0HP 6.7L Straight 6 Cylinder Engine Diesel Fuel',\n",
       "       '340.0HP 3.0L V6 Cylinder Engine Flex Fuel Capability',\n",
       "       '326.0HP 3.0L Straight 6 Cylinder Engine Gasoline Fuel',\n",
       "       '315.0HP 3.0L Straight 6 Cylinder Engine Gasoline Fuel',\n",
       "       '316.0HP 6.2L 8 Cylinder Engine Flex Fuel Capability',\n",
       "       '3.5L V6 24V PDI DOHC Twin Turbo Hybrid',\n",
       "       '550.0HP 5.0L 8 Cylinder Engine Flex Fuel Capability',\n",
       "       '277.0HP 3.0L Straight 6 Cylinder Engine Diesel Fuel',\n",
       "       '567.0HP 6.0L 12 Cylinder Engine Flex Fuel Capability',\n",
       "       '280.0HP 3.2L Flat 6 Cylinder Engine Gasoline Fuel',\n",
       "       '330.0HP 3.4L Flat 6 Cylinder Engine Gasoline Fuel',\n",
       "       '240.0HP 3.0L V6 Cylinder Engine Flex Fuel Capability',\n",
       "       '170.0HP 2.5L Straight 6 Cylinder Engine Gasoline Fuel',\n",
       "       '248.0HP 2.0L 4 Cylinder Engine Gasoline/Mild Electric Hybrid',\n",
       "       '572.0HP 3.8L Flat 6 Cylinder Engine Gasoline Fuel',\n",
       "       '295.0HP 3.4L Flat 6 Cylinder Engine Gasoline Fuel',\n",
       "       '365.0HP 3.0L Straight 6 Cylinder Engine Gasoline Fuel',\n",
       "       '310.0HP 5.3L 8 Cylinder Engine Flex Fuel Capability',\n",
       "       '250.0HP 5.9L Straight 6 Cylinder Engine Diesel Fuel',\n",
       "       '315.0HP 5.3L 8 Cylinder Engine Flex Fuel Capability',\n",
       "       '473.0HP 3.0L Straight 6 Cylinder Engine Gasoline Fuel',\n",
       "       '295.0HP 3.6L V6 Cylinder Engine Flex Fuel Capability',\n",
       "       '190.0HP 2.8L Straight 6 Cylinder Engine Gasoline Fuel',\n",
       "       '303.0HP 3.4L Flat 6 Cylinder Engine Gasoline Fuel',\n",
       "       '395.0HP 5.0L 8 Cylinder Engine Flex Fuel Capability',\n",
       "       '296.0HP 2.0L 4 Cylinder Engine Gasoline/Mild Electric Hybrid',\n",
       "       '201.0HP 2.0L 4 Cylinder Engine Gasoline/Mild Electric Hybrid',\n",
       "       '370.0HP 6.7L Straight 6 Cylinder Engine Diesel Fuel',\n",
       "       '340.0HP 3.4L Flat 6 Cylinder Engine Gasoline Fuel',\n",
       "       '182.0HP 2.4L 4 Cylinder Engine Gasoline/Mild Electric Hybrid',\n",
       "       '543.0HP 3.0L Straight 6 Cylinder Engine Gasoline Fuel',\n",
       "       '325.0HP 2.0L 4 Cylinder Engine Gasoline/Mild Electric Hybrid',\n",
       "       '275.0HP 3.5L V6 Cylinder Engine Flex Fuel Capability',\n",
       "       '261.0HP 2.0L 4 Cylinder Engine Gasoline/Mild Electric Hybrid',\n",
       "       '245.0HP 5.9L Straight 6 Cylinder Engine Diesel Fuel',\n",
       "       '305.0HP 3.6L V6 Cylinder Engine Flex Fuel Capability',\n",
       "       '320.0HP 3.6L Flat 6 Cylinder Engine Gasoline Fuel',\n",
       "       '275.0HP 4.2L Straight 6 Cylinder Engine Gasoline Fuel',\n",
       "       '510.0HP 5.0L 8 Cylinder Engine Flex Fuel Capability',\n",
       "       '285.0HP 4.3L V6 Cylinder Engine Flex Fuel Capability',\n",
       "       '255.0HP 3.0L Straight 6 Cylinder Engine Gasoline Fuel',\n",
       "       '255.0HP 2.9L Flat 6 Cylinder Engine Gasoline Fuel',\n",
       "       '208.0HP 2.0L 4 Cylinder Engine Flex Fuel Capability',\n",
       "       '245.0HP 2.7L Flat 6 Cylinder Engine Gasoline Fuel',\n",
       "       '180.0HP 2.4L 4 Cylinder Engine Flex Fuel Capability',\n",
       "       '415.0HP 3.6L Flat 6 Cylinder Engine Gasoline Fuel',\n",
       "       '210.0HP 4.0L Straight 6 Cylinder Engine Gasoline Fuel',\n",
       "       '552.0HP 6.0L 12 Cylinder Engine Flex Fuel Capability',\n",
       "       '324.0HP 6.0L 8 Cylinder Engine Flex Fuel Capability',\n",
       "       '215.0HP 3.0L Straight 6 Cylinder Engine Gasoline Fuel',\n",
       "       '247.0HP 2.0L 4 Cylinder Engine Gasoline/Mild Electric Hybrid',\n",
       "       '342.0HP 6.0L 8 Cylinder Engine Flex Fuel Capability',\n",
       "       '152.0HP 3.0L V6 Cylinder Engine Flex Fuel Capability',\n",
       "       '345.0HP 3.6L Flat 6 Cylinder Engine Gasoline Fuel',\n",
       "       '444.0HP 2.9L V6 Cylinder Engine Gasoline/Mild Electric Hybrid',\n",
       "       '260.0HP 3.0L Straight 6 Cylinder Engine Gasoline Fuel',\n",
       "       '215.0HP 2.5L Straight 6 Cylinder Engine Gasoline Fuel',\n",
       "       '310.0HP 4.7L 8 Cylinder Engine Flex Fuel Capability',\n",
       "       '250.0HP 3.0L Flat 6 Cylinder Engine Gasoline Fuel',\n",
       "       '281.0HP 3.0L Straight 6 Cylinder Engine Gasoline Fuel',\n",
       "       '308.0HP 3.6L V6 Cylinder Engine Flex Fuel Capability',\n",
       "       '6.4L V8 32V DDI OHV Twin Turbo Diesel',\n",
       "       '111.2Ah / FR 70kW / RR 160kW (697V)',\n",
       "       '325.0HP 3.0L Straight 6 Cylinder Engine Gasoline Fuel',\n",
       "       '305.0HP 3.6L V6 Cylinder Engine Gasoline/Mild Electric Hybrid',\n",
       "       '341.0HP 6.0L 8 Cylinder Engine Flex Fuel Capability',\n",
       "       '306.0HP 3.0L Straight 6 Cylinder Engine Gasoline Fuel',\n",
       "       '120.0HP 2.2L 4 Cylinder Engine Flex Fuel Capability',\n",
       "       '184.0HP 2.4L 4 Cylinder Engine Flex Fuel Capability'],\n",
       "      dtype=object)"
      ]
     },
     "execution_count": 45,
     "metadata": {},
     "output_type": "execute_result"
    }
   ],
   "source": [
    "df_copy[df_copy['engine_word_count']==8]['engine'].unique()"
   ]
  },
  {
   "cell_type": "code",
   "execution_count": 46,
   "metadata": {
    "colab": {
     "base_uri": "https://localhost:8080/"
    },
    "id": "g3fwXUqm1Wvh",
    "outputId": "59396277-4c8c-44cb-d39a-2ab09c02c99c"
   },
   "outputs": [
    {
     "data": {
      "text/plain": [
       "array(['395.0HP 3.0L Straight 6 Cylinder Engine Gasoline/Mild Electric Hybrid',\n",
       "       '382.0HP 3.0L Straight 6 Cylinder Engine Gasoline/Mild Electric Hybrid',\n",
       "       '362.0HP 3.0L Straight 6 Cylinder Engine Gasoline/Mild Electric Hybrid',\n",
       "       '335.0HP 3.0L Straight 6 Cylinder Engine Gasoline/Mild Electric Hybrid',\n",
       "       '355.0HP 3.0L Straight 6 Cylinder Engine Gasoline/Mild Electric Hybrid',\n",
       "       '429.0HP 3.0L Straight 6 Cylinder Engine Gasoline/Mild Electric Hybrid',\n",
       "       '375.0HP 3.0L Straight 6 Cylinder Engine Gasoline/Mild Electric Hybrid',\n",
       "       '369.0HP 3.0L Straight 6 Cylinder Engine Gasoline/Mild Electric Hybrid'],\n",
       "      dtype=object)"
      ]
     },
     "execution_count": 46,
     "metadata": {},
     "output_type": "execute_result"
    }
   ],
   "source": [
    "df_copy[df_copy['engine_word_count']==9]['engine'].unique()"
   ]
  },
  {
   "cell_type": "markdown",
   "metadata": {
    "id": "tRKIAdLkfOqF"
   },
   "source": [
    "- Sebagian besar nilai-nilai pada kolom'engine' dengan panjang kata yang sama, memiliki struktur penulisan yang sama.\n",
    "- Variabel `engine` dapat diekstrak menjadi beberapa kolom:\n",
    "  - `horsepower`     : float64     # contoh: 369.0, 214.0, 482.0\n",
    "  - `engine_size`    : float64     # contoh: 3.0, 2.5, 4.4\n",
    "  - `cylinder`       : int64       # contoh: 4, 6, 8, 10, 12\n",
    "  - `is_electric`    : int64       # 0 = tidak, 1 = ya\n",
    "  - `is_turbo`       : int64       # 0 = tidak, 1 = ya\n",
    "  - `fuel_system`    : category    # contoh: MPFI, GDI, PDI, DOHC, SOHC, dll\n",
    "\n",
    "\n",
    "-  Tipe bahan bakar dapat diekstrak dari `engine` jika `fuel_type` bernilai nan, -, not supported, atau ' '.\n",
    "- Tipe bahan bakar `hydrogen fuel` tidak muncul pada kolom`fuel_type`, tetapi muncul pada kolom`engine`."
   ]
  },
  {
   "cell_type": "markdown",
   "metadata": {
    "id": "sE8eHc5whpK_"
   },
   "source": [
    "### Transmission"
   ]
  },
  {
   "cell_type": "code",
   "execution_count": 47,
   "metadata": {
    "colab": {
     "base_uri": "https://localhost:8080/",
     "height": 1000
    },
    "id": "QxrvxcrTIgGJ",
    "outputId": "e833e840-65fb-4867-f286-bdde23b198a2"
   },
   "outputs": [
    {
     "data": {
      "text/plain": [
       "transmission\n",
       "A/T                                                   49904\n",
       "8-Speed A/T                                           20645\n",
       "Transmission w/Dual Shift Mode                        19255\n",
       "6-Speed A/T                                           18044\n",
       "6-Speed M/T                                           11998\n",
       "7-Speed A/T                                           11124\n",
       "Automatic                                             10691\n",
       "8-Speed Automatic                                      8431\n",
       "10-Speed A/T                                           8044\n",
       "9-Speed A/T                                            3866\n",
       "5-Speed A/T                                            3217\n",
       "10-Speed Automatic                                     3164\n",
       "6-Speed Automatic                                      2799\n",
       "4-Speed A/T                                            2546\n",
       "5-Speed M/T                                            2409\n",
       "9-Speed Automatic                                      2325\n",
       "CVT Transmission                                       1990\n",
       "1-Speed A/T                                            1869\n",
       "M/T                                                    1179\n",
       "7-Speed Automatic with Auto-Shift                      1172\n",
       "Automatic CVT                                           829\n",
       "8-Speed Automatic with Auto-Shift                       549\n",
       "1-Speed Automatic                                       365\n",
       "7-Speed M/T                                             355\n",
       "6-Speed Manual                                          211\n",
       "7-Speed Automatic                                       178\n",
       "5-Speed Automatic                                       159\n",
       "Transmission Overdrive Switch                           156\n",
       "7-Speed Manual                                          151\n",
       "6-Speed Automatic with Auto-Shift                       111\n",
       "2                                                        91\n",
       "–                                                        87\n",
       "2-Speed A/T                                              71\n",
       "Variable                                                 66\n",
       "F                                                        65\n",
       "4-Speed Automatic                                        48\n",
       "10-Speed Automatic with Overdrive                        40\n",
       "6 Speed Mt                                               37\n",
       "9-Speed Automatic with Auto-Shift                        33\n",
       "6-Speed Electronically Controlled Automatic with O       31\n",
       "7-Speed                                                  29\n",
       "8-Speed Manual                                           28\n",
       "6-Speed                                                  27\n",
       "Manual                                                   27\n",
       "2-Speed Automatic                                        22\n",
       "6 Speed At/Mt                                            20\n",
       "7-Speed DCT Automatic                                    18\n",
       "Single-Speed Fixed Gear                                  16\n",
       "CVT-F                                                    15\n",
       "8-SPEED AT                                               13\n",
       "8-SPEED A/T                                               7\n",
       "SCHEDULED FOR OR IN PRODUCTION                            6\n",
       "Name: count, dtype: int64"
      ]
     },
     "execution_count": 47,
     "metadata": {},
     "output_type": "execute_result"
    }
   ],
   "source": [
    "df_train['transmission'].value_counts()"
   ]
  },
  {
   "cell_type": "code",
   "execution_count": 48,
   "metadata": {
    "colab": {
     "base_uri": "https://localhost:8080/"
    },
    "id": "4t_SqvVDF8jP",
    "outputId": "b201115e-9741-4baf-d3ce-4f855f90a891"
   },
   "outputs": [
    {
     "data": {
      "text/plain": [
       "array(['A/T', 'Transmission w/Dual Shift Mode', '7-Speed A/T',\n",
       "       '8-Speed A/T', '10-Speed Automatic', '1-Speed A/T', '6-Speed A/T',\n",
       "       '10-Speed A/T', '9-Speed A/T', '8-Speed Automatic',\n",
       "       '9-Speed Automatic', '5-Speed A/T', 'Automatic',\n",
       "       '7-Speed Automatic with Auto-Shift', 'CVT Transmission',\n",
       "       '5-Speed M/T', 'M/T', '6-Speed M/T', '6-Speed Automatic',\n",
       "       '4-Speed Automatic', '7-Speed M/T', '2-Speed A/T',\n",
       "       '1-Speed Automatic', 'Automatic CVT', '4-Speed A/T',\n",
       "       '6-Speed Manual', 'Transmission Overdrive Switch',\n",
       "       '8-Speed Automatic with Auto-Shift', '7-Speed Manual',\n",
       "       '7-Speed Automatic', '9-Speed Automatic with Auto-Shift',\n",
       "       '6-Speed Automatic with Auto-Shift',\n",
       "       '6-Speed Electronically Controlled Automatic with O', 'F', 'CVT-F',\n",
       "       '8-Speed Manual', 'Manual', '–', '2', '6 Speed At/Mt',\n",
       "       '5-Speed Automatic', '2-Speed Automatic', '8-SPEED A/T', '7-Speed',\n",
       "       'Variable', 'Single-Speed Fixed Gear', '8-SPEED AT',\n",
       "       '10-Speed Automatic with Overdrive', '7-Speed DCT Automatic',\n",
       "       'SCHEDULED FOR OR IN PRODUCTION', '6-Speed', '6 Speed Mt'],\n",
       "      dtype=object)"
      ]
     },
     "execution_count": 48,
     "metadata": {},
     "output_type": "execute_result"
    }
   ],
   "source": [
    "df_train['transmission'].unique()"
   ]
  },
  {
   "cell_type": "code",
   "execution_count": 49,
   "metadata": {
    "colab": {
     "base_uri": "https://localhost:8080/"
    },
    "id": "oLy7CLO_GZeF",
    "outputId": "b9d182ae-d7dd-45d8-826c-92994fced667"
   },
   "outputs": [
    {
     "name": "stderr",
     "output_type": "stream",
     "text": [
      "C:\\Users\\daffa\\AppData\\Local\\Temp\\ipykernel_23156\\3707552715.py:1: UserWarning: This pattern is interpreted as a regular expression, and has match groups. To actually get the groups, use str.extract.\n",
      "  df_train[~df_train['transmission'].str.lower().str.contains(r'\\b(automatic|manual|a/t|m/t|at|mt)\\b', na=False)]['transmission'].unique()\n"
     ]
    },
    {
     "data": {
      "text/plain": [
       "array(['Transmission w/Dual Shift Mode', 'CVT Transmission',\n",
       "       'Transmission Overdrive Switch', 'F', 'CVT-F', '–', '2', '7-Speed',\n",
       "       'Variable', 'Single-Speed Fixed Gear',\n",
       "       'SCHEDULED FOR OR IN PRODUCTION', '6-Speed'], dtype=object)"
      ]
     },
     "execution_count": 49,
     "metadata": {},
     "output_type": "execute_result"
    }
   ],
   "source": [
    "df_train[~df_train['transmission'].str.lower().str.contains(r'\\b(automatic|manual|a/t|m/t|at|mt)\\b', na=False)]['transmission'].unique()"
   ]
  },
  {
   "cell_type": "markdown",
   "metadata": {
    "id": "BEuQpP0qH5zO"
   },
   "source": [
    "- Variabel `transmission` dapat disederhanakan menjadi 4 kategori, yaitu `A/T`, `M/T`, `CVT`, dan `Unknown`."
   ]
  },
  {
   "cell_type": "markdown",
   "metadata": {
    "id": "zl_QME2Ij5PS"
   },
   "source": [
    "### ext_col"
   ]
  },
  {
   "cell_type": "code",
   "execution_count": 50,
   "metadata": {
    "colab": {
     "base_uri": "https://localhost:8080/",
     "height": 489
    },
    "id": "RuX4734VIdNt",
    "outputId": "a6df5d73-1d64-4f40-f4d5-cae0526f561b"
   },
   "outputs": [
    {
     "data": {
      "text/plain": [
       "ext_col\n",
       "Black                                 48658\n",
       "White                                 43815\n",
       "Gray                                  25293\n",
       "Silver                                16995\n",
       "Blue                                  14555\n",
       "                                      ...  \n",
       "Granite Crystal Metallic Clearcoat        5\n",
       "GT SILVER                                 5\n",
       "Blue Caelum                               5\n",
       "BLUE                                      3\n",
       "Mango Tango Pearlcoat                     2\n",
       "Name: count, Length: 319, dtype: int64"
      ]
     },
     "execution_count": 50,
     "metadata": {},
     "output_type": "execute_result"
    }
   ],
   "source": [
    "df_train['ext_col'].value_counts()"
   ]
  },
  {
   "cell_type": "code",
   "execution_count": 51,
   "metadata": {
    "colab": {
     "base_uri": "https://localhost:8080/"
    },
    "id": "1XpoMEvII5vU",
    "outputId": "5b01fa2e-6acf-4f2a-db95-5ce95dc91e50"
   },
   "outputs": [
    {
     "data": {
      "text/plain": [
       "array(['Yellow', 'Silver', 'Blue', 'Black', 'White',\n",
       "       'Snowflake White Pearl Metallic', 'Gray', 'Green',\n",
       "       'Santorini Black Metallic', 'Purple', 'Ebony Twilight Metallic',\n",
       "       'Red', 'Magnetite Black Metallic', 'Diamond Black', 'Vega Blue',\n",
       "       'Beige', 'Gold', 'Platinum White Pearl', 'Metallic',\n",
       "       'White Frost Tri-Coat', 'Firecracker Red Clearcoat',\n",
       "       'Phytonic Blue Metallic', 'Blu', 'Orange', 'Brown',\n",
       "       'Brilliant Silver Metallic', 'Black Raven', 'Black Clearcoat',\n",
       "       'Firenze Red', 'Agate Black Metallic', 'Glacial White Pearl',\n",
       "       'Majestic Plum Metallic', 'designo Diamond White Metallic',\n",
       "       'Oxford White', 'Black Sapphire Metallic', 'Mythos Black',\n",
       "       'Granite Crystal Clearcoat Metallic', 'White Diamond Tri-Coat',\n",
       "       'Magnetite Gray Metallic', 'Carpathian Grey Premium Metallic',\n",
       "       'designo Diamond White Bright',\n",
       "       'Phantom Black Pearl Effect / Black Roof', 'Nebula Gray Pearl',\n",
       "       'Deep Crystal Blue Mica', 'Flame Red Clearcoat',\n",
       "       'Lunar Blue Metallic', 'Bright White Clearcoat',\n",
       "       'Rapid Red Metallic Tinted Clearcoat', 'Caviar',\n",
       "       'Dark Ash Metallic', 'Velvet Red Pearlcoat', 'Silver Zynith',\n",
       "       'Super Black', 'Antimatter Blue Metallic',\n",
       "       'Dark Moon Blue Metallic', 'Summit White', 'Ebony Black', '–',\n",
       "       'Black Cherry', 'Delmonico Red Pearlcoat',\n",
       "       'Platinum Quartz Metallic', 'Ultra White', 'Python Green',\n",
       "       'Garnet Red Metallic', 'Snow White Pearl', 'Cajun Red Tintcoat',\n",
       "       'Midnight Black Metallic', 'Diamond White',\n",
       "       'Mythos Black Metallic', 'Soul Red Crystal Metallic',\n",
       "       'Atomic Silver', 'Obsidian', 'Magnetic Metallic',\n",
       "       'Twilight Blue Metallic', 'Star White', 'Stormy Sea',\n",
       "       'Tango Red Metallic', 'Hyper Red', 'Portofino Gray',\n",
       "       'MANUFAKTUR Diamond White Bright', 'Snowflake White Pearl',\n",
       "       'Patriot Blue Pearlcoat', 'Tungsten Metallic',\n",
       "       'Chronos Gray Metallic', 'Silver Ice Metallic',\n",
       "       'Daytona Gray Pearl Effect', 'Ruby Red Metallic Tinted Clearcoat',\n",
       "       'Alpine White', 'Eminent White Pearl', 'Manhattan Noir Metallic',\n",
       "       'Quicksilver Metallic', 'Stellar Black Metallic',\n",
       "       'Sparkling Silver', 'Blueprint', 'Crystal Black Silica',\n",
       "       'Black Noir Pearl', 'Arancio Borealis', 'Typhoon Gray',\n",
       "       'Ibis White', 'Graphite Grey', 'Mineral White', 'Midnight Black',\n",
       "       'Northsky Blue Metallic', 'Alta White', 'Brilliant Black',\n",
       "       'Jet Black Mica', 'Daytona Gray Pearl Effect w/ Black Roof',\n",
       "       'Redline Red', 'Glacier Silver Metallic', 'Magnetic Black',\n",
       "       'Chronos Gray', 'Red Quartz Tintcoat', 'Nero Noctis',\n",
       "       'Firenze Red Metallic', 'Iridescent Pearl Tricoat',\n",
       "       'Twilight Black', 'Radiant Red Metallic II', 'Blue Metallic',\n",
       "       'Glacier White', 'Daytona Gray', 'Rosso Mars Metallic',\n",
       "       'Wolf Gray', 'Santorin Black', 'Designo Magno Matte',\n",
       "       'Emerald Green Metallic', 'Ruby Flare Pearl',\n",
       "       'Lunar Silver Metallic', 'Eiger Grey Metallic',\n",
       "       'Quartzite Grey Metallic', 'Barcelona Red', 'Beluga Black',\n",
       "       'Matador Red Metallic', 'Billet Silver Metallic Clearcoat',\n",
       "       'Anodized Blue Metallic', 'Black Forest Green',\n",
       "       'Ice Silver Metallic', 'Sandstone Metallic',\n",
       "       'Magnetic Gray Clearcoat', 'Crystal Black Pearl',\n",
       "       'Pacific Blue Metallic', 'Stone Gray Metallic',\n",
       "       'Iconic Silver Metallic', 'Dark Sapphire', 'Onyx',\n",
       "       'Aventurine Green Metallic', 'China Blue', 'Majestic Black Pearl',\n",
       "       'Midnight Silver Metallic', 'Sting Gray Clearcoat',\n",
       "       'Glacier Blue Metallic', 'BLACK', 'Chalk', 'Dark Matter Metallic',\n",
       "       'Infrared Tintcoat', 'Iridium Metallic', 'Fuji White',\n",
       "       'Alfa White', 'Kodiak Brown Metallic', 'Aurora Black',\n",
       "       'Onyx Black', 'Nightfall Gray Metallic', 'Obsidian Black Metallic',\n",
       "       'Phantom Black', 'Remington Red Metallic', 'designo Diamond White',\n",
       "       'Lizard Green', 'Rosso Corsa', 'Shadow Gray Metallic',\n",
       "       'Florett Silver', 'Quartz White', 'DB Black Clearcoat',\n",
       "       'Yulong White', 'Eiger Grey', 'Custom Color',\n",
       "       'Electric Blue Metallic', 'Tempest', 'Lunar Rock',\n",
       "       'Mosaic Black Metallic', 'Gecko Pearlcoat', 'White Clearcoat',\n",
       "       'BLU ELEOS', 'Granite Crystal Metallic Clearcoat',\n",
       "       'Rich Garnet Metallic', 'Graphite Grey Metallic',\n",
       "       'Bianco Icarus Metallic', 'Satin Steel Metallic', 'BLUE',\n",
       "       'Moonlight Cloud', 'Matador Red Mica', 'Emin White',\n",
       "       'Machine Gray Metallic', 'White Platinum Tri-Coat Metallic',\n",
       "       'Cobra Beige Metallic', 'Cayenne Red Tintcoat',\n",
       "       'Shoreline Blue Pearl', 'Vik Black', 'Shimmering Silver',\n",
       "       'Bianco Monocerus', 'Carbonized Gray Metallic',\n",
       "       'Carrara White Metallic', 'Dark Slate Metallic',\n",
       "       'Dark Graphite Metallic', 'Sonic Silver Metallic',\n",
       "       'White Knuckle Clearcoat', 'Titanium Silver',\n",
       "       'Anthracite Blue Metallic', 'Black Obsidian',\n",
       "       'Polymetal Gray Metallic', 'Orca Black Metallic',\n",
       "       'Wind Chill Pearl', 'Blue Reflex Mica', 'Dark Moss',\n",
       "       'Selenite Grey Metallic', 'Kemora Gray Metallic', 'Nightfall Mica',\n",
       "       'Liquid Platinum', 'Mountain Air Metallic', 'Kinetic Blue',\n",
       "       'Santorini Black', 'Carbon Black Metallic',\n",
       "       'Gentian Blue Metallic', 'Red Multi', 'Super White', 'Pearl White',\n",
       "       'Typhoon Gray Metallic', 'Navarra Blue Metallic', 'Bianco Isis',\n",
       "       'Navarra Blue', 'Volcano Grey Metallic', 'Arctic Gray Metallic',\n",
       "       'Pure White', 'Baltic Gray', 'Glacier White Metallic',\n",
       "       'Frozen Dark Silver Metallic', 'Magnetic Gray Metallic',\n",
       "       'Gun Metallic', 'Siren Red Tintcoat', 'Deep Blue Metallic',\n",
       "       'Cirrus Silver Metallic', 'Deep Black Pearl Effect', 'Granite',\n",
       "       'Sunset Drift Chromaflair', 'Oryx White Prl', 'Dark Gray Metallic',\n",
       "       'Bayside Blue', 'Pink', 'Ice', 'Mango Tango Pearlcoat',\n",
       "       'Burnished Bronze Metallic', 'Verde', 'Arctic White',\n",
       "       'Portofino Blue Metallic', 'Dazzling White', 'Nero Daytona',\n",
       "       'Nautical Blue Pearl', 'Imperial Blue Metallic',\n",
       "       'Vulcano Black Metallic', 'Silver Radiance',\n",
       "       'Hellayella Clearcoat', 'Jungle Green', 'C / C', 'Yulong',\n",
       "       'Pristine White', 'Silky Silver', 'Caspian Blue', 'Sangria Red',\n",
       "       'Donington Grey Metallic', 'Apex Blue', 'Rift Metallic',\n",
       "       'Fountain Blue', 'Balloon White', 'Matte White', 'Frozen White',\n",
       "       'Pacific Blue', 'Rosso', 'Ironman Silver', 'Octane Red Pearlcoat',\n",
       "       'Selenite Gray Metallic', 'Hydro Blue Pearlcoat',\n",
       "       'Ingot Silver Metallic', 'Quartz Blue Pearl',\n",
       "       'Lunare White Metallic', 'Ember Pearlcoat',\n",
       "       'Brands Hatch Gray Metallic', 'Navarre Blue',\n",
       "       'Midnight Blue Metallic', 'Shadow Black', 'Go Mango!',\n",
       "       'Maximum Steel Metallic', 'Silver Flare Metallic',\n",
       "       'Billet Clearcoat Metallic', 'Hampton Gray', 'Red Obsession',\n",
       "       'Silver Mist', 'Scarlet Ember', 'Crimson Red Tintcoat', 'Tan',\n",
       "       'Isle of Man Green Metallic', 'Crystal Black', 'Glacier',\n",
       "       'Iridium Silver Metallic', 'Bronze Dune Metallic', 'Maroon',\n",
       "       'Platinum Gray Metallic', 'Passion Red', 'Silician Yellow',\n",
       "       'Volcanic Orange', 'Crystal White Pearl', 'Reflex Silver',\n",
       "       'Blue Caelum', 'Thunder Gray', 'Ultra Black', 'Indus Silver',\n",
       "       'Horizon Blue', 'Grigio Nimbus', 'Carpathian Grey',\n",
       "       'Ametrin Metallic', 'Jupiter Red', 'GT SILVER'], dtype=object)"
      ]
     },
     "execution_count": 51,
     "metadata": {},
     "output_type": "execute_result"
    }
   ],
   "source": [
    "df_train['ext_col'].unique()"
   ]
  },
  {
   "cell_type": "code",
   "execution_count": 52,
   "metadata": {
    "colab": {
     "base_uri": "https://localhost:8080/",
     "height": 546
    },
    "id": "7yoLxEVpJNda",
    "outputId": "da61b535-a03a-4717-9a81-be2172e195eb"
   },
   "outputs": [
    {
     "name": "stderr",
     "output_type": "stream",
     "text": [
      "C:\\Users\\daffa\\AppData\\Local\\Temp\\ipykernel_23156\\2183128968.py:1: UserWarning: This pattern is interpreted as a regular expression, and has match groups. To actually get the groups, use str.extract.\n",
      "  ext_col_mask = ~df_train['ext_col'].str.lower().str.contains(r'\\b(black|blue|gray|silver|green|red|tan|yellow|brown|white|grey|orange|purple|gold|blu|beige)\\b', na=False)\n"
     ]
    },
    {
     "data": {
      "text/plain": [
       "ext_col\n",
       "–                                     366\n",
       "Granite Crystal Clearcoat Metallic    365\n",
       "Ebony Twilight Metallic               289\n",
       "Satin Steel Metallic                  154\n",
       "Magnetic Metallic                     152\n",
       "                                     ... \n",
       "Tempest                                 8\n",
       "Ametrin Metallic                        8\n",
       "Glacier                                 8\n",
       "Granite Crystal Metallic Clearcoat      5\n",
       "Mango Tango Pearlcoat                   2\n",
       "Name: count, Length: 71, dtype: int64"
      ]
     },
     "execution_count": 52,
     "metadata": {},
     "output_type": "execute_result"
    }
   ],
   "source": [
    "ext_col_mask = ~df_train['ext_col'].str.lower().str.contains(r'\\b(black|blue|gray|silver|green|red|tan|yellow|brown|white|grey|orange|purple|gold|blu|beige)\\b', na=False)\n",
    "df_train[ext_col_mask]['ext_col'].value_counts()"
   ]
  },
  {
   "cell_type": "markdown",
   "metadata": {
    "id": "nXbe6iIaIc2p"
   },
   "source": [
    "- Variabel `ext_col` dapat disederhanakan menjadi kategori warna dasar seperti blue, red, black, silver, white, gold, orange, purple, dan beige.\n",
    "- Warna lain dapat disederhanakan menjadi `other` atau `unknown`."
   ]
  },
  {
   "cell_type": "markdown",
   "metadata": {
    "id": "Ih9uSEpwj7jw"
   },
   "source": [
    "### int_col"
   ]
  },
  {
   "cell_type": "code",
   "execution_count": 53,
   "metadata": {
    "colab": {
     "base_uri": "https://localhost:8080/",
     "height": 489
    },
    "id": "lADBGSwFL_Qa",
    "outputId": "60e704f9-2490-4e01-c1ac-4621761a8482"
   },
   "outputs": [
    {
     "data": {
      "text/plain": [
       "int_col\n",
       "Black           107674\n",
       "Beige            24495\n",
       "Gray             21204\n",
       "Brown             5810\n",
       "Red               5145\n",
       "                 ...  \n",
       "Bianco Polar         7\n",
       "Classic Red          7\n",
       "Cobalt Blue          6\n",
       "WHITE                6\n",
       "ORANGE               4\n",
       "Name: count, Length: 156, dtype: int64"
      ]
     },
     "execution_count": 53,
     "metadata": {},
     "output_type": "execute_result"
    }
   ],
   "source": [
    "df_train['int_col'].value_counts()"
   ]
  },
  {
   "cell_type": "code",
   "execution_count": 54,
   "metadata": {
    "colab": {
     "base_uri": "https://localhost:8080/",
     "height": 546
    },
    "id": "XeabMMvyMO8h",
    "outputId": "4e4be0c6-4b7e-4bcd-8445-33fe68cfddcb"
   },
   "outputs": [
    {
     "name": "stderr",
     "output_type": "stream",
     "text": [
      "C:\\Users\\daffa\\AppData\\Local\\Temp\\ipykernel_23156\\2779700307.py:1: UserWarning: This pattern is interpreted as a regular expression, and has match groups. To actually get the groups, use str.extract.\n",
      "  int_col_mask = ~df_train['ext_col'].str.lower().str.contains(r'\\b(black|blue|gray|silver|green|red|tan|yellow|brown|white|grey|orange|purple|gold|blu|beige)\\b', na=False)\n"
     ]
    },
    {
     "data": {
      "text/plain": [
       "ext_col\n",
       "–                                     366\n",
       "Granite Crystal Clearcoat Metallic    365\n",
       "Ebony Twilight Metallic               289\n",
       "Satin Steel Metallic                  154\n",
       "Magnetic Metallic                     152\n",
       "                                     ... \n",
       "Tempest                                 8\n",
       "Ametrin Metallic                        8\n",
       "Glacier                                 8\n",
       "Granite Crystal Metallic Clearcoat      5\n",
       "Mango Tango Pearlcoat                   2\n",
       "Name: count, Length: 71, dtype: int64"
      ]
     },
     "execution_count": 54,
     "metadata": {},
     "output_type": "execute_result"
    }
   ],
   "source": [
    "int_col_mask = ~df_train['ext_col'].str.lower().str.contains(r'\\b(black|blue|gray|silver|green|red|tan|yellow|brown|white|grey|orange|purple|gold|blu|beige)\\b', na=False)\n",
    "\n",
    "df_train[ext_col_mask]['ext_col'].value_counts()"
   ]
  },
  {
   "cell_type": "markdown",
   "metadata": {
    "id": "gbI2nVp_MYtc"
   },
   "source": [
    "- Sama seperti `ext_col`, variabel `ext_col` dapat disederhanakan menjadi warna dasarnya, 'others', dan 'uknown'."
   ]
  },
  {
   "cell_type": "markdown",
   "metadata": {
    "id": "UvQSVF7wj8yr"
   },
   "source": [
    "### Accident"
   ]
  },
  {
   "cell_type": "code",
   "execution_count": 55,
   "metadata": {
    "colab": {
     "base_uri": "https://localhost:8080/",
     "height": 178
    },
    "id": "Akc4gsrJMprV",
    "outputId": "48fd0001-2a41-4db1-fc9c-5ab437f592ae"
   },
   "outputs": [
    {
     "data": {
      "text/plain": [
       "accident\n",
       "None reported                             144514\n",
       "At least 1 accident or damage reported     41567\n",
       "Name: count, dtype: int64"
      ]
     },
     "execution_count": 55,
     "metadata": {},
     "output_type": "execute_result"
    }
   ],
   "source": [
    "df_train['accident'].value_counts()"
   ]
  },
  {
   "cell_type": "code",
   "execution_count": 56,
   "metadata": {
    "colab": {
     "base_uri": "https://localhost:8080/"
    },
    "id": "6Xmk1f5Y-Mq4",
    "outputId": "aaa8feaf-d2e5-4a08-c34f-b084147f75a4"
   },
   "outputs": [
    {
     "name": "stdout",
     "output_type": "stream",
     "text": [
      "2452\n"
     ]
    }
   ],
   "source": [
    "print(df_train['accident'].isna().sum())"
   ]
  },
  {
   "cell_type": "markdown",
   "metadata": {
    "id": "KzLR77HrX6mA"
   },
   "source": [
    "- Variabel `accident` memiliki missing value"
   ]
  },
  {
   "cell_type": "markdown",
   "metadata": {
    "id": "IIazEf4LkJY7"
   },
   "source": [
    "### clean_title"
   ]
  },
  {
   "cell_type": "code",
   "execution_count": 57,
   "metadata": {
    "colab": {
     "base_uri": "https://localhost:8080/",
     "height": 147
    },
    "id": "0Kx6w99AYEJg",
    "outputId": "adbf6866-d7a1-41a9-91e1-d722e09c7101"
   },
   "outputs": [
    {
     "data": {
      "text/plain": [
       "clean_title\n",
       "Yes    167114\n",
       "Name: count, dtype: int64"
      ]
     },
     "execution_count": 57,
     "metadata": {},
     "output_type": "execute_result"
    }
   ],
   "source": [
    "df_train['clean_title'].value_counts()"
   ]
  },
  {
   "cell_type": "code",
   "execution_count": 58,
   "metadata": {
    "colab": {
     "base_uri": "https://localhost:8080/"
    },
    "id": "5JZT6J0VYULK",
    "outputId": "3eed69fb-e024-4a4b-e533-08839b26a6cb"
   },
   "outputs": [
    {
     "name": "stdout",
     "output_type": "stream",
     "text": [
      "21419\n"
     ]
    }
   ],
   "source": [
    "print(df_train['clean_title'].isna().sum())"
   ]
  },
  {
   "cell_type": "markdown",
   "metadata": {
    "id": "gt8dg09uYisw"
   },
   "source": [
    "- Untuk variabel `clean_title` terdapat 21419 data yang perlu dikategorikan 'no'."
   ]
  },
  {
   "cell_type": "markdown",
   "metadata": {
    "id": "PK6Bz_ndY7ev"
   },
   "source": [
    "## Kesimpulan EDA"
   ]
  },
  {
   "cell_type": "markdown",
   "metadata": {
    "id": "iFyrq7vxZD6W"
   },
   "source": [
    "- Variabel `accident`, `clean_title`, dan `fuel_type` missing value yang harus ditangani.\n",
    "- Variable `model_year`, `milage`, `price` memiliki outlier.\n",
    "- Terdapat 1897 `model` mobil\n",
    "- Variabel `fuel_type` memiliki missing value yang tersimpan sebagai `-`,`not supported` dan`nan` serta perlu ditambahkan kategori `hydrogen`.\n",
    "- 'E85 flex fuel' perlu diseragamkan menjadi 'flex fuel'\n",
    "- Variabel `engine` dapat diekstrak menjadi beberapa kolom agar lebih deskriptif seperti:\n",
    "  - `horsepower`     : float64     # contoh: 369.0, 214.0, 482.0\n",
    "  - `engine_size`    : float64     # contoh: 3.0, 2.5, 4.4\n",
    "  - `cylinder`       : int64       # contoh: 4, 6, 8, 10, 12\n",
    "  - `is_electric`    : int64       # 0 = tidak, 1 = ya\n",
    "  - `is_turbo`       : int64       # 0 = tidak, 1 = ya\n",
    "  - `fuel_system`    : category    # contoh: MPFI, GDI, PDI, DOHC, SOHC, dll\n",
    "\n",
    "\n",
    "-  Tipe bahan bakar dapat diekstrak dari `engine` jika `fuel_type` bernilai nan, - , ' ', atau `not supported`.\n",
    "- Variabel `transmission` dapat disederhanakan menjadi 4 kategori, yaitu `A/T`, `M/T`, dan `Unknown`.\n",
    "- Variabel `ext_col` dan `int_col` dapat disederhanakan menjadi kategori warna dasar seperti blue, red, black, silver, white, gold, orange, purple, dan beige sedangkan warna lain dapat disederhanakan menjadi `other` atau `unknown`.\n",
    "- Untuk variabel `clean_title` terdapat 21419 data yang perlu dikategorikan 'Unknown'."
   ]
  }
 ],
 "metadata": {
  "colab": {
   "collapsed_sections": [
    "rYgUZPZxv4DA",
    "9gt8gv9hUMjm"
   ],
   "provenance": []
  },
  "kernelspec": {
   "display_name": "usedcar_prediction",
   "language": "python",
   "name": "project_usedcar_prediction"
  },
  "language_info": {
   "codemirror_mode": {
    "name": "ipython",
    "version": 3
   },
   "file_extension": ".py",
   "mimetype": "text/x-python",
   "name": "python",
   "nbconvert_exporter": "python",
   "pygments_lexer": "ipython3",
   "version": "3.10.18"
  }
 },
 "nbformat": 4,
 "nbformat_minor": 4
}
