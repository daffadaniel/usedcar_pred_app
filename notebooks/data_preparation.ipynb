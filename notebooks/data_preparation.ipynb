{
 "cells": [
  {
   "cell_type": "code",
   "execution_count": 1,
   "id": "13809601-e70c-454c-82ac-ab1ee13dfc4d",
   "metadata": {},
   "outputs": [],
   "source": [
    "import joblib\n",
    "import pandas as pd"
   ]
  },
  {
   "cell_type": "code",
   "execution_count": 2,
   "id": "d84f18ad-7f2c-49ae-b047-4341984bd277",
   "metadata": {},
   "outputs": [],
   "source": [
    "def load_data(fname: str) -> pd.DataFrame:\n",
    "  \"\"\"\n",
    "  Membaca file csv dan mengembailkan DataFrame\n",
    "\n",
    "  Args: \n",
    "      fname (str): path ke file CSV yang akan dibaca.\n",
    "\n",
    "  Returns:\n",
    "      data (pd.DataFrame)\n",
    "  \"\"\"\n",
    "  data = pd.read_csv(fname)\n",
    "  print(\"Data Shape: \", data.shape)\n",
    "  return data"
   ]
  },
  {
   "cell_type": "code",
   "execution_count": 3,
   "id": "0ee844d4-7d3d-4160-899f-f6764126fc2d",
   "metadata": {},
   "outputs": [],
   "source": [
    "def serialize_data(data: pd.DataFrame, path: str):\n",
    "    \"\"\"\n",
    "     Menyimpan data ke dalam file dengan format pickle (.pkl) menggunakan joblib.\n",
    "\n",
    "    Args:\n",
    "        data (pd.DataFrame): Data yang ingin di simpan. \n",
    "        path (str): Path lengkap lokasi penyimpanan file, termasuk nama file dan ekstensi (.pkl).\n",
    "\n",
    "    Returns:\n",
    "        None\n",
    "    \"\"\"\n",
    "    joblib.dump(data, path)\n",
    "    "
   ]
  },
  {
   "cell_type": "code",
   "execution_count": 4,
   "id": "aaacc332-a201-4928-b43a-c5e4344bc5c4",
   "metadata": {},
   "outputs": [],
   "source": [
    "def deserialize_data(path: str):\n",
    "    \"\"\"\n",
    "    Melakukan deserialisasi (load) data dari file yang disimpan dalam format pickle menggunakan joblib.\n",
    "\n",
    "    Args:\n",
    "        path (str): Alamat atau path file tempat data disimpan.\n",
    "\n",
    "    Returns:\n",
    "        data (pd.DataFrame): data yang di deserialize\n",
    "    \"\"\"\n",
    "    data =  joblib.load(path)\n",
    "    return data"
   ]
  },
  {
   "cell_type": "code",
   "execution_count": null,
   "id": "532e695d-433e-427b-8844-74606b5cb514",
   "metadata": {},
   "outputs": [],
   "source": []
  }
 ],
 "metadata": {
  "kernelspec": {
   "display_name": "usedcar_prediction",
   "language": "python",
   "name": "project_usedcar_prediction"
  },
  "language_info": {
   "codemirror_mode": {
    "name": "ipython",
    "version": 3
   },
   "file_extension": ".py",
   "mimetype": "text/x-python",
   "name": "python",
   "nbconvert_exporter": "python",
   "pygments_lexer": "ipython3",
   "version": "3.10.18"
  }
 },
 "nbformat": 4,
 "nbformat_minor": 5
}
