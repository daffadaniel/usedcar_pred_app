{
 "cells": [
  {
   "cell_type": "code",
   "execution_count": 2,
   "metadata": {
    "id": "mFVGyQpUvlgL"
   },
   "outputs": [],
   "source": [
    "import sys, os\n",
    "sys.path.append(os.path.abspath(\"..\"))\n",
    "from src.utils import *\n",
    "import pandas as pd\n",
    "import numpy as np\n",
    "import matplotlib.pyplot as plt\n",
    "import seaborn as sns\n",
    "import re\n",
    "from sklearn.model_selection import train_test_split\n",
    "from sklearn.impute import SimpleImputer\n",
    "from sklearn.preprocessing import StandardScaler, OneHotEncoder"
   ]
  },
  {
   "cell_type": "code",
   "execution_count": 3,
   "metadata": {
    "id": "Zk82FE-jwVOl"
   },
   "outputs": [
    {
     "name": "stdout",
     "output_type": "stream",
     "text": [
      "Data Shape:  (188533, 12)\n",
      "Data Shape:  (125690, 11)\n"
     ]
    }
   ],
   "source": [
    "df_train = load_data(\"../data/raw/train.csv\")\n",
    "df_test = load_data(\"../data/raw/test.csv\")"
   ]
  },
  {
   "cell_type": "markdown",
   "metadata": {
    "id": "OvtDxLM4lkQb"
   },
   "source": [
    "## Splitting Input and output"
   ]
  },
  {
   "cell_type": "code",
   "execution_count": 4,
   "metadata": {
    "colab": {
     "base_uri": "https://localhost:8080/"
    },
    "id": "znbKOnEVlouN",
    "outputId": "7e1e11e7-b8d4-4fc8-bcc4-d4b042937db5"
   },
   "outputs": [
    {
     "name": "stdout",
     "output_type": "stream",
     "text": [
      "Original data shape: (188533, 12)\n",
      "X data shape: (188533, 11)\n",
      "y datashape: (188533,)\n"
     ]
    }
   ],
   "source": [
    "X_train, y_train = split_input_output(df_train, 'price')"
   ]
  },
  {
   "cell_type": "code",
   "execution_count": 5,
   "metadata": {
    "colab": {
     "base_uri": "https://localhost:8080/"
    },
    "id": "WET3-0DxDiV0",
    "outputId": "e702d135-59c9-4e69-cf5f-895048ed25a6"
   },
   "outputs": [
    {
     "name": "stdout",
     "output_type": "stream",
     "text": [
      "<class 'pandas.core.frame.DataFrame'>\n",
      "Index: 188533 entries, 0 to 188532\n",
      "Data columns (total 11 columns):\n",
      " #   Column        Non-Null Count   Dtype \n",
      "---  ------        --------------   ----- \n",
      " 0   brand         188533 non-null  object\n",
      " 1   model         188533 non-null  object\n",
      " 2   model_year    188533 non-null  int64 \n",
      " 3   milage        188533 non-null  int64 \n",
      " 4   fuel_type     183450 non-null  object\n",
      " 5   engine        188533 non-null  object\n",
      " 6   transmission  188533 non-null  object\n",
      " 7   ext_col       188533 non-null  object\n",
      " 8   int_col       188533 non-null  object\n",
      " 9   accident      186081 non-null  object\n",
      " 10  clean_title   167114 non-null  object\n",
      "dtypes: int64(2), object(9)\n",
      "memory usage: 17.3+ MB\n"
     ]
    }
   ],
   "source": [
    "X_train.info()"
   ]
  },
  {
   "cell_type": "markdown",
   "metadata": {
    "id": "RPM-vIr7XwhC"
   },
   "source": [
    "## Handling Inconsistent format: fuel_type and transmission"
   ]
  },
  {
   "cell_type": "code",
   "execution_count": 8,
   "metadata": {
    "id": "MGF5qKJnBV8p"
   },
   "outputs": [],
   "source": [
    "def format_cleaning(X):\n",
    "  X = X.copy()\n",
    "\n",
    "  #Handling Inconsistencies in 'fuel_type'\n",
    "  X['fuel_type'] = X['fuel_type'].replace({'–': 'Unknown','not supported': 'Other', np.nan: 'Unknown'})\n",
    "\n",
    "  #Handling Inconsistencies in 'Transmission'\n",
    "  trans_series = X['transmission'].astype(str).str.lower().str.strip()\n",
    "  X['transmission'] = \"Unknown\"\n",
    "  X.loc[trans_series.str.contains(r'(?:a\\/t|at|automatic|auto[-\\s]?shift|cvt|dct|\\d+\\s*[-]?\\s*speed\\s*(?:a\\/t|at|automatic))', regex=True, na=False), 'transmission'] = \"a/t\"\n",
    "  X.loc[trans_series.str.contains(r'(?:m\\/t|mt|manual|\\d+\\s*[-]?\\s*speed\\s*(?:m\\/t|mt|manual))', regex=True, na=False), 'transmission'] = \"m/t\"\n",
    "  return X"
   ]
  },
  {
   "cell_type": "code",
   "execution_count": 9,
   "metadata": {
    "colab": {
     "base_uri": "https://localhost:8080/"
    },
    "id": "ztH81F8EIhrK",
    "outputId": "90fa4502-e69a-437d-9a8e-70d754089f3a"
   },
   "outputs": [],
   "source": [
    "X_train_format_cleaning = format_cleaning(X_train)"
   ]
  },
  {
   "cell_type": "code",
   "execution_count": 12,
   "metadata": {},
   "outputs": [
    {
     "data": {
      "text/html": [
       "<div>\n",
       "<style scoped>\n",
       "    .dataframe tbody tr th:only-of-type {\n",
       "        vertical-align: middle;\n",
       "    }\n",
       "\n",
       "    .dataframe tbody tr th {\n",
       "        vertical-align: top;\n",
       "    }\n",
       "\n",
       "    .dataframe thead th {\n",
       "        text-align: right;\n",
       "    }\n",
       "</style>\n",
       "<table border=\"1\" class=\"dataframe\">\n",
       "  <thead>\n",
       "    <tr style=\"text-align: right;\">\n",
       "      <th></th>\n",
       "      <th>brand</th>\n",
       "      <th>model</th>\n",
       "      <th>model_year</th>\n",
       "      <th>milage</th>\n",
       "      <th>fuel_type</th>\n",
       "      <th>engine</th>\n",
       "      <th>transmission</th>\n",
       "      <th>ext_col</th>\n",
       "      <th>int_col</th>\n",
       "      <th>accident</th>\n",
       "      <th>clean_title</th>\n",
       "    </tr>\n",
       "    <tr>\n",
       "      <th>id</th>\n",
       "      <th></th>\n",
       "      <th></th>\n",
       "      <th></th>\n",
       "      <th></th>\n",
       "      <th></th>\n",
       "      <th></th>\n",
       "      <th></th>\n",
       "      <th></th>\n",
       "      <th></th>\n",
       "      <th></th>\n",
       "      <th></th>\n",
       "    </tr>\n",
       "  </thead>\n",
       "  <tbody>\n",
       "    <tr>\n",
       "      <th>0</th>\n",
       "      <td>MINI</td>\n",
       "      <td>Cooper S Base</td>\n",
       "      <td>2007</td>\n",
       "      <td>213000</td>\n",
       "      <td>Gasoline</td>\n",
       "      <td>172.0HP 1.6L 4 Cylinder Engine Gasoline Fuel</td>\n",
       "      <td>a/t</td>\n",
       "      <td>Yellow</td>\n",
       "      <td>Gray</td>\n",
       "      <td>None reported</td>\n",
       "      <td>Yes</td>\n",
       "    </tr>\n",
       "    <tr>\n",
       "      <th>1</th>\n",
       "      <td>Lincoln</td>\n",
       "      <td>LS V8</td>\n",
       "      <td>2002</td>\n",
       "      <td>143250</td>\n",
       "      <td>Gasoline</td>\n",
       "      <td>252.0HP 3.9L 8 Cylinder Engine Gasoline Fuel</td>\n",
       "      <td>a/t</td>\n",
       "      <td>Silver</td>\n",
       "      <td>Beige</td>\n",
       "      <td>At least 1 accident or damage reported</td>\n",
       "      <td>Yes</td>\n",
       "    </tr>\n",
       "    <tr>\n",
       "      <th>2</th>\n",
       "      <td>Chevrolet</td>\n",
       "      <td>Silverado 2500 LT</td>\n",
       "      <td>2002</td>\n",
       "      <td>136731</td>\n",
       "      <td>E85 Flex Fuel</td>\n",
       "      <td>320.0HP 5.3L 8 Cylinder Engine Flex Fuel Capab...</td>\n",
       "      <td>a/t</td>\n",
       "      <td>Blue</td>\n",
       "      <td>Gray</td>\n",
       "      <td>None reported</td>\n",
       "      <td>Yes</td>\n",
       "    </tr>\n",
       "    <tr>\n",
       "      <th>3</th>\n",
       "      <td>Genesis</td>\n",
       "      <td>G90 5.0 Ultimate</td>\n",
       "      <td>2017</td>\n",
       "      <td>19500</td>\n",
       "      <td>Gasoline</td>\n",
       "      <td>420.0HP 5.0L 8 Cylinder Engine Gasoline Fuel</td>\n",
       "      <td>Unknown</td>\n",
       "      <td>Black</td>\n",
       "      <td>Black</td>\n",
       "      <td>None reported</td>\n",
       "      <td>Yes</td>\n",
       "    </tr>\n",
       "    <tr>\n",
       "      <th>4</th>\n",
       "      <td>Mercedes-Benz</td>\n",
       "      <td>Metris Base</td>\n",
       "      <td>2021</td>\n",
       "      <td>7388</td>\n",
       "      <td>Gasoline</td>\n",
       "      <td>208.0HP 2.0L 4 Cylinder Engine Gasoline Fuel</td>\n",
       "      <td>a/t</td>\n",
       "      <td>Black</td>\n",
       "      <td>Beige</td>\n",
       "      <td>None reported</td>\n",
       "      <td>Yes</td>\n",
       "    </tr>\n",
       "  </tbody>\n",
       "</table>\n",
       "</div>"
      ],
      "text/plain": [
       "            brand              model  model_year  milage      fuel_type  \\\n",
       "id                                                                        \n",
       "0            MINI      Cooper S Base        2007  213000       Gasoline   \n",
       "1         Lincoln              LS V8        2002  143250       Gasoline   \n",
       "2       Chevrolet  Silverado 2500 LT        2002  136731  E85 Flex Fuel   \n",
       "3         Genesis   G90 5.0 Ultimate        2017   19500       Gasoline   \n",
       "4   Mercedes-Benz        Metris Base        2021    7388       Gasoline   \n",
       "\n",
       "                                               engine transmission ext_col  \\\n",
       "id                                                                           \n",
       "0        172.0HP 1.6L 4 Cylinder Engine Gasoline Fuel          a/t  Yellow   \n",
       "1        252.0HP 3.9L 8 Cylinder Engine Gasoline Fuel          a/t  Silver   \n",
       "2   320.0HP 5.3L 8 Cylinder Engine Flex Fuel Capab...          a/t    Blue   \n",
       "3        420.0HP 5.0L 8 Cylinder Engine Gasoline Fuel      Unknown   Black   \n",
       "4        208.0HP 2.0L 4 Cylinder Engine Gasoline Fuel          a/t   Black   \n",
       "\n",
       "   int_col                                accident clean_title  \n",
       "id                                                              \n",
       "0     Gray                           None reported         Yes  \n",
       "1    Beige  At least 1 accident or damage reported         Yes  \n",
       "2     Gray                           None reported         Yes  \n",
       "3    Black                           None reported         Yes  \n",
       "4    Beige                           None reported         Yes  "
      ]
     },
     "execution_count": 12,
     "metadata": {},
     "output_type": "execute_result"
    }
   ],
   "source": [
    "X_train_format_cleaning.head()"
   ]
  },
  {
   "cell_type": "markdown",
   "metadata": {
    "id": "UT_VDEmuXJti"
   },
   "source": [
    "## Extracting Information from `engine`"
   ]
  },
  {
   "cell_type": "code",
   "execution_count": 13,
   "metadata": {
    "id": "tiTKhMo9VTW5"
   },
   "outputs": [],
   "source": [
    "def extract_fuel(val):\n",
    "    s = str(val).lower()\n",
    "\n",
    "    if \"hydrogen\"in s:\n",
    "        return \"Hydrogen\"\n",
    "    elif \"electric\" in s:\n",
    "        return \"Electric\"\n",
    "    elif \"plug-in hybrid\" in s:\n",
    "        return \"Plug-In Hybrid\"\n",
    "    elif \"hybrid\" in s:\n",
    "        return \"Hybrid\"\n",
    "    elif \"diesel\" in s:\n",
    "        return \"Diesel\"\n",
    "    elif \"gasoline\" in s:\n",
    "        return \"Gasoline\"\n",
    "    elif \"flexible fuel\" in s or \"flex fuel\" in s:\n",
    "        return \"Flexible Fuel\"\n",
    "    else:\n",
    "        return \"Unknown\"\n",
    "\n",
    "def extract_horsepower(val):\n",
    "    if not isinstance(val, str):\n",
    "        return np.nan\n",
    "    match = re.search(r'([\\d.]+)\\s*HP', val, re.IGNORECASE)\n",
    "    return float(match.group(1)) if match else np.nan\n",
    "\n",
    "def extract_engine_size(val):\n",
    "    if not isinstance(val, str):\n",
    "        return np.nan\n",
    "    match = re.search(r'([\\d.]+)\\s*L', val, re.IGNORECASE)\n",
    "    return float(match.group(1)) if match else np.nan\n",
    "\n",
    "def extract_cylinder(val):\n",
    "    if not isinstance(val, str):\n",
    "        return np.nan\n",
    "    match = re.search(r'\\bV?(\\d+)\\s*(Cylinder|V\\d|I\\d|Rotary)', val, re.IGNORECASE)\n",
    "    return int(match.group(1)) if match else np.nan\n",
    "\n",
    "def extract_is_electric(val):\n",
    "    if not isinstance(val, str):\n",
    "        return 0\n",
    "    return 1 if re.search(r'electric\\s+motor', val, re.IGNORECASE) else 0\n",
    "\n",
    "def extract_is_turbo(val):\n",
    "    if not isinstance(val, str):\n",
    "        return 0\n",
    "    return 1 if re.search(r'turbo|supercharged', val, re.IGNORECASE) else 0\n",
    "\n",
    "def extract_fuel_system(val):\n",
    "    if not isinstance(val, str):\n",
    "        return np.nan\n",
    "    match = re.search(r'([A-Za-z\\s]+Fuel\\s*System|[A-Za-z\\s]+Fuel)$', val.strip(), re.IGNORECASE)\n",
    "    return match.group(1).strip() if match else \"Unknown\""
   ]
  },
  {
   "cell_type": "code",
   "execution_count": 14,
   "metadata": {
    "id": "JFVfouqBY2zv"
   },
   "outputs": [],
   "source": [
    "def extract_info(X, engine_col=\"engine\"):\n",
    "  X = X.copy()\n",
    "  specs_df = pd.DataFrame({\n",
    "        \"horsepower\": X[engine_col].apply(extract_horsepower),\n",
    "        \"engine_size\": X[engine_col].apply(extract_engine_size),\n",
    "        \"cylinder\": X[engine_col].apply(extract_cylinder),\n",
    "        \"is_electric\": X[engine_col].apply(extract_is_electric),\n",
    "        \"is_turbo\": X[engine_col].apply(extract_is_turbo),\n",
    "        \"fuel_system\": X[engine_col].apply(extract_fuel_system),\n",
    "    })\n",
    "\n",
    "  fuel = X['engine'].apply(extract_fuel)\n",
    "  X['fuel_type'] = X['fuel_type'].mask(X['fuel_type'] == \"Unknown\", fuel)\n",
    "\n",
    "    # Set 0 untuk EV jika hp/cylinder/size NaN\n",
    "  mask_ev = specs_df[\"is_electric\"] == 1\n",
    "  specs_df.loc[mask_ev & specs_df[\"horsepower\"].isna(), \"horsepower\"] = 0\n",
    "  specs_df.loc[mask_ev & specs_df[\"cylinder\"].isna(), \"cylinder\"] = 0\n",
    "  specs_df.loc[mask_ev & specs_df[\"engine_size\"].isna(), \"engine_size\"] = 0\n",
    "\n",
    "  X.drop(['engine','model'], axis = 1,inplace=True)\n",
    "\n",
    "  return pd.concat([X, specs_df], axis=1)"
   ]
  },
  {
   "cell_type": "code",
   "execution_count": 15,
   "metadata": {
    "id": "oO5h0aBKaleD"
   },
   "outputs": [],
   "source": [
    "X_train_extracted = extract_info(X_train_format_cleaning)"
   ]
  },
  {
   "cell_type": "markdown",
   "metadata": {
    "id": "pPQxjID2Y-Jq"
   },
   "source": [
    "## Handling Missing Values: `accident` and `clean_title`"
   ]
  },
  {
   "cell_type": "code",
   "execution_count": 16,
   "metadata": {
    "colab": {
     "base_uri": "https://localhost:8080/",
     "height": 554
    },
    "id": "OWiIaOMCfUq8",
    "outputId": "7d761964-fc9a-4873-b5c6-cfbec3440e39"
   },
   "outputs": [
    {
     "data": {
      "text/plain": [
       "brand               0\n",
       "model_year          0\n",
       "milage              0\n",
       "fuel_type           0\n",
       "transmission        0\n",
       "ext_col             0\n",
       "int_col             0\n",
       "accident         2452\n",
       "clean_title     21419\n",
       "horsepower      32975\n",
       "engine_size      1787\n",
       "cylinder        32875\n",
       "is_electric         0\n",
       "is_turbo            0\n",
       "fuel_system         0\n",
       "dtype: int64"
      ]
     },
     "execution_count": 16,
     "metadata": {},
     "output_type": "execute_result"
    }
   ],
   "source": [
    "X_train_extracted.isna().sum()"
   ]
  },
  {
   "cell_type": "code",
   "execution_count": 17,
   "metadata": {
    "id": "GQ3eWzMf2guv"
   },
   "outputs": [],
   "source": [
    "#impute kolom horsepower, engine_size, cylinder untuk mobil non elektrik\n",
    "def imputer_fit(df):\n",
    "  df_non_ev = df[df['is_electric']==0]\n",
    "  cols =[\"horsepower\", \"engine_size\", \"cylinder\"]\n",
    "  imp = SimpleImputer(missing_values=np.nan, strategy='median')\n",
    "  imp.fit(df_non_ev[cols])\n",
    "  return imp\n",
    "\n",
    "def imputer_transform(data ,imp):\n",
    "  data = data.copy()\n",
    "  # Non-electric impute with median\n",
    "  cols=[\"horsepower\", \"engine_size\", \"cylinder\"]\n",
    "  mask_non_ev = data['is_electric'] == 0\n",
    "  data.loc[mask_non_ev, cols] = imp.transform(data.loc[mask_non_ev, cols])\n",
    "\n",
    "  # Impute accidend and clean_title\n",
    "  data['accident'] = data['accident'].fillna('Unknown')\n",
    "  data['clean_title'] = data['clean_title'].fillna('Unknown')\n",
    "\n",
    "  return data"
   ]
  },
  {
   "cell_type": "code",
   "execution_count": 18,
   "metadata": {
    "colab": {
     "base_uri": "https://localhost:8080/"
    },
    "id": "RV4-HMYJ6dzO",
    "outputId": "d81482aa-92ef-40a7-c60c-46938a6b3401"
   },
   "outputs": [],
   "source": [
    "imp = imputer_fit(X_train_extracted)\n",
    "\n",
    "X_train_imputed = imputer_transform(X_train_extracted, imp)"
   ]
  },
  {
   "cell_type": "code",
   "execution_count": 19,
   "metadata": {},
   "outputs": [],
   "source": [
    "serialize_data(imp, path='../models/imputer.pkl')"
   ]
  },
  {
   "cell_type": "code",
   "execution_count": 20,
   "metadata": {
    "colab": {
     "base_uri": "https://localhost:8080/",
     "height": 554
    },
    "id": "pgYe4viat6er",
    "outputId": "bb77ab90-d551-49d1-9894-c9fdc5479fed"
   },
   "outputs": [
    {
     "data": {
      "text/plain": [
       "brand           0\n",
       "model_year      0\n",
       "milage          0\n",
       "fuel_type       0\n",
       "transmission    0\n",
       "ext_col         0\n",
       "int_col         0\n",
       "accident        0\n",
       "clean_title     0\n",
       "horsepower      0\n",
       "engine_size     0\n",
       "cylinder        0\n",
       "is_electric     0\n",
       "is_turbo        0\n",
       "fuel_system     0\n",
       "dtype: int64"
      ]
     },
     "execution_count": 20,
     "metadata": {},
     "output_type": "execute_result"
    }
   ],
   "source": [
    "X_train_imputed.isna().sum()"
   ]
  },
  {
   "cell_type": "markdown",
   "metadata": {
    "id": "tyTUaoDi8zm6"
   },
   "source": [
    "## Simplifying Color"
   ]
  },
  {
   "cell_type": "code",
   "execution_count": 21,
   "metadata": {
    "id": "MJe8CxnRLi0q"
   },
   "outputs": [],
   "source": [
    "def simplify_color(color):\n",
    "    \"\"\"\n",
    "    Menyederhanakan kategori warna menjadi:\n",
    "    blue, red, black, silver, white, gold, orange, purple, beige, other, unknown\n",
    "    \"\"\"\n",
    "    if not isinstance(color, str) or color.strip() == \"\" or color.strip() ==\"-\":\n",
    "        return \"Unknown\"\n",
    "\n",
    "    color_lower = color.lower()\n",
    "\n",
    "    mapping = {\n",
    "        \"blue\": [\"blue\", \"navy\", \"aqua\", \"turquoise\", \"teal\"],\n",
    "        \"red\": [\"red\", \"maroon\", \"burgundy\"],\n",
    "        \"black\": [\"black\", \"ebony\", \"onyx\"],\n",
    "        \"silver\": [\"silver\", \"gray\", \"grey\", \"graphite\", \"charcoal\"],\n",
    "        \"white\": [\"white\", \"ivory\", \"cream\", \"pearl\"],\n",
    "        \"gold\": [\"gold\", \"champagne\"],\n",
    "        \"orange\": [\"orange\", \"copper\", \"bronze\"],\n",
    "        \"purple\": [\"purple\", \"violet\", \"plum\", \"lavender\"],\n",
    "        \"beige\": [\"beige\", \"tan\", \"sand\", \"khaki\", \"camel\"]\n",
    "    }\n",
    "\n",
    "    for base_color, keywords in mapping.items():\n",
    "        if any(kw in color_lower for kw in keywords):\n",
    "            return base_color\n",
    "\n",
    "    return \"Other\"\n",
    "\n",
    "def color_transform(X):\n",
    "  X[\"ext_col\"] = X[\"ext_col\"].apply(simplify_color)\n",
    "  X[\"int_col\"] = X[\"int_col\"].apply(simplify_color)\n",
    "  return X"
   ]
  },
  {
   "cell_type": "code",
   "execution_count": 22,
   "metadata": {
    "id": "jYnhmAYZQ7cX"
   },
   "outputs": [],
   "source": [
    "X_train_color_simplified = color_transform(X_train_imputed)"
   ]
  },
  {
   "cell_type": "code",
   "execution_count": 23,
   "metadata": {
    "colab": {
     "base_uri": "https://localhost:8080/"
    },
    "id": "VXcoVAhYRPIp",
    "outputId": "8f4e6f61-5fb2-4577-f450-409f26dce8ca"
   },
   "outputs": [
    {
     "data": {
      "text/plain": [
       "9"
      ]
     },
     "execution_count": 23,
     "metadata": {},
     "output_type": "execute_result"
    }
   ],
   "source": [
    "X_train_color_simplified['int_col'].nunique()"
   ]
  },
  {
   "cell_type": "code",
   "execution_count": 24,
   "metadata": {
    "colab": {
     "base_uri": "https://localhost:8080/"
    },
    "id": "Qnu-KEn0RVPH",
    "outputId": "262d0f08-6fa9-4dd5-85ea-01866eed5bc0"
   },
   "outputs": [
    {
     "data": {
      "text/plain": [
       "10"
      ]
     },
     "execution_count": 24,
     "metadata": {},
     "output_type": "execute_result"
    }
   ],
   "source": [
    "X_train_color_simplified['ext_col'].nunique()"
   ]
  },
  {
   "cell_type": "markdown",
   "metadata": {
    "id": "OJyDYLDg82Tw"
   },
   "source": [
    "## Transformation: Standard Scaling"
   ]
  },
  {
   "cell_type": "code",
   "execution_count": 25,
   "metadata": {
    "colab": {
     "base_uri": "https://localhost:8080/"
    },
    "id": "llCPgGNS86Uq",
    "outputId": "79b67a71-4dfc-4bc2-b7ce-5867b1ff8b1f"
   },
   "outputs": [
    {
     "name": "stdout",
     "output_type": "stream",
     "text": [
      "<class 'pandas.core.frame.DataFrame'>\n",
      "Index: 188533 entries, 0 to 188532\n",
      "Data columns (total 15 columns):\n",
      " #   Column        Non-Null Count   Dtype  \n",
      "---  ------        --------------   -----  \n",
      " 0   brand         188533 non-null  object \n",
      " 1   model_year    188533 non-null  int64  \n",
      " 2   milage        188533 non-null  int64  \n",
      " 3   fuel_type     188533 non-null  object \n",
      " 4   transmission  188533 non-null  object \n",
      " 5   ext_col       188533 non-null  object \n",
      " 6   int_col       188533 non-null  object \n",
      " 7   accident      188533 non-null  object \n",
      " 8   clean_title   188533 non-null  object \n",
      " 9   horsepower    188533 non-null  float64\n",
      " 10  engine_size   188533 non-null  float64\n",
      " 11  cylinder      188533 non-null  float64\n",
      " 12  is_electric   188533 non-null  int64  \n",
      " 13  is_turbo      188533 non-null  int64  \n",
      " 14  fuel_system   188533 non-null  object \n",
      "dtypes: float64(3), int64(4), object(8)\n",
      "memory usage: 23.0+ MB\n"
     ]
    }
   ],
   "source": [
    "X_train_color_simplified.info()"
   ]
  },
  {
   "cell_type": "code",
   "execution_count": 46,
   "metadata": {
    "id": "Sdi_oxMmNNjD"
   },
   "outputs": [],
   "source": [
    "def scaler_fit(df):\n",
    "  cols = ['model_year','milage','horsepower','engine_size','cylinder']\n",
    "  df[cols] = df[cols].astype(float)\n",
    "  scaler = StandardScaler()\n",
    "  scaler.fit(df[cols])\n",
    "  return scaler\n",
    "\n",
    "def scaler_transform(df, scaler):\n",
    "  cols = ['model_year','milage','horsepower','engine_size','cylinder']\n",
    "  df[cols] = df[cols].astype(float)\n",
    "  df.loc[:, cols] = scaler.transform(df[cols]).astype(float)\n",
    "  return df"
   ]
  },
  {
   "cell_type": "code",
   "execution_count": 47,
   "metadata": {
    "id": "MlWetSJAOv_u"
   },
   "outputs": [],
   "source": [
    "scaler = scaler_fit(X_train_color_simplified)\n",
    "X_train_scaled = scaler_transform(X_train_color_simplified, scaler)"
   ]
  },
  {
   "cell_type": "code",
   "execution_count": 48,
   "metadata": {},
   "outputs": [],
   "source": [
    "serialize_data(scaler, path='../models/scaler.pkl')"
   ]
  },
  {
   "cell_type": "markdown",
   "metadata": {
    "id": "tE29RGQCAS9_"
   },
   "source": [
    "## Encoding Categorical Variables"
   ]
  },
  {
   "cell_type": "code",
   "execution_count": 49,
   "metadata": {
    "colab": {
     "base_uri": "https://localhost:8080/"
    },
    "id": "8yIs-FGo-6ZK",
    "outputId": "e3ce4d38-5ff0-4158-c6d6-1e2daaae5964"
   },
   "outputs": [
    {
     "name": "stdout",
     "output_type": "stream",
     "text": [
      "<class 'pandas.core.frame.DataFrame'>\n",
      "Index: 188533 entries, 0 to 188532\n",
      "Data columns (total 15 columns):\n",
      " #   Column        Non-Null Count   Dtype  \n",
      "---  ------        --------------   -----  \n",
      " 0   brand         188533 non-null  object \n",
      " 1   model_year    188533 non-null  float64\n",
      " 2   milage        188533 non-null  float64\n",
      " 3   fuel_type     188533 non-null  object \n",
      " 4   transmission  188533 non-null  object \n",
      " 5   ext_col       188533 non-null  object \n",
      " 6   int_col       188533 non-null  object \n",
      " 7   accident      188533 non-null  object \n",
      " 8   clean_title   188533 non-null  object \n",
      " 9   horsepower    188533 non-null  float64\n",
      " 10  engine_size   188533 non-null  float64\n",
      " 11  cylinder      188533 non-null  float64\n",
      " 12  is_electric   188533 non-null  int64  \n",
      " 13  is_turbo      188533 non-null  int64  \n",
      " 14  fuel_system   188533 non-null  object \n",
      "dtypes: float64(5), int64(2), object(8)\n",
      "memory usage: 23.0+ MB\n"
     ]
    }
   ],
   "source": [
    "X_train_scaled.info()"
   ]
  },
  {
   "cell_type": "code",
   "execution_count": 50,
   "metadata": {
    "colab": {
     "base_uri": "https://localhost:8080/"
    },
    "id": "dAH8YemlDY9S",
    "outputId": "13cf1dc5-5ded-45d1-dc19-57ebdfb8557a"
   },
   "outputs": [
    {
     "data": {
      "text/plain": [
       "['brand',\n",
       " 'fuel_type',\n",
       " 'transmission',\n",
       " 'ext_col',\n",
       " 'int_col',\n",
       " 'accident',\n",
       " 'clean_title',\n",
       " 'fuel_system']"
      ]
     },
     "metadata": {},
     "output_type": "display_data"
    },
    {
     "data": {
      "text/plain": [
       "['model_year',\n",
       " 'milage',\n",
       " 'horsepower',\n",
       " 'engine_size',\n",
       " 'cylinder',\n",
       " 'is_electric',\n",
       " 'is_turbo']"
      ]
     },
     "metadata": {},
     "output_type": "display_data"
    }
   ],
   "source": [
    "cat_cols = X_train_scaled.select_dtypes(include=[\"object\", \"category\"]).columns.tolist()\n",
    "num_cols = X_train_scaled.select_dtypes(include=[\"float\",\"int\"]).columns.tolist()\n",
    "display(cat_cols)\n",
    "display(num_cols)"
   ]
  },
  {
   "cell_type": "markdown",
   "metadata": {
    "id": "-2xOVjx3wL6a"
   },
   "source": [
    "### One-Hot Encoder"
   ]
  },
  {
   "cell_type": "code",
   "execution_count": 51,
   "metadata": {
    "id": "FjrwGRdnwQsz"
   },
   "outputs": [],
   "source": [
    "def OHencoder_fit(X):\n",
    "  cat_cols = ['brand','fuel_type','transmission','ext_col','int_col','accident', 'clean_title','fuel_system']\n",
    "  ohe = OneHotEncoder(sparse_output=False, handle_unknown='ignore',).set_output(transform=\"pandas\")\n",
    "  ohe.fit(X[cat_cols])\n",
    "  return ohe\n",
    "\n",
    "def encoder_transform(X, encoder):\n",
    "  cat_cols = ['brand','fuel_type','transmission','ext_col','int_col','accident', 'clean_title','fuel_system']\n",
    "  encoded = encoder.transform(X[cat_cols])\n",
    "  df_encoded = pd.concat([X.drop(columns=cat_cols), encoded], axis=1)\n",
    "  return df_encoded"
   ]
  },
  {
   "cell_type": "code",
   "execution_count": 52,
   "metadata": {
    "id": "IfmkU0eR7ZwD"
   },
   "outputs": [],
   "source": [
    "OHencoder = OHencoder_fit(X_train_scaled)"
   ]
  },
  {
   "cell_type": "code",
   "execution_count": 53,
   "metadata": {},
   "outputs": [],
   "source": [
    "serialize_data(OHencoder, path='../models/OHencoder.pkl')"
   ]
  },
  {
   "cell_type": "markdown",
   "metadata": {
    "id": "Tw77xyhyPxMz"
   },
   "source": [
    "## Preprocess Pipeline"
   ]
  },
  {
   "cell_type": "code",
   "execution_count": 54,
   "metadata": {
    "id": "QucF5OATPwj9"
   },
   "outputs": [],
   "source": [
    "def preprocessing_pipeline(X, imputer, scaler, encoder):\n",
    "  X_clean = X.copy()\n",
    "  X_clean = format_cleaning(X_clean)\n",
    "  X_clean = extract_info(X_clean)\n",
    "  X_clean = imputer_transform(X_clean, imputer)\n",
    "  X_clean = color_transform(X_clean)\n",
    "  X_clean = scaler_transform(X_clean, scaler)\n",
    "  X_clean = encoder_transform(X_clean, encoder)\n",
    "  return X_clean"
   ]
  },
  {
   "cell_type": "code",
   "execution_count": 55,
   "metadata": {},
   "outputs": [],
   "source": [
    "X_train_clean = preprocessing_pipeline(X_train, imp, scaler, OHencoder)"
   ]
  },
  {
   "cell_type": "code",
   "execution_count": null,
   "metadata": {},
   "outputs": [],
   "source": []
  }
 ],
 "metadata": {
  "colab": {
   "collapsed_sections": [
    "rYgUZPZxv4DA",
    "9gt8gv9hUMjm"
   ],
   "provenance": []
  },
  "kernelspec": {
   "display_name": "usedcar_prediction",
   "language": "python",
   "name": "project_usedcar_prediction"
  },
  "language_info": {
   "codemirror_mode": {
    "name": "ipython",
    "version": 3
   },
   "file_extension": ".py",
   "mimetype": "text/x-python",
   "name": "python",
   "nbconvert_exporter": "python",
   "pygments_lexer": "ipython3",
   "version": "3.10.18"
  }
 },
 "nbformat": 4,
 "nbformat_minor": 4
}
