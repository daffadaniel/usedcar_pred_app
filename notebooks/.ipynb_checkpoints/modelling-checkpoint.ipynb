{
 "cells": [
  {
   "cell_type": "code",
   "execution_count": 29,
   "id": "2907da45-26c7-42fe-940c-8540e5b17eb8",
   "metadata": {},
   "outputs": [],
   "source": [
    "import sys, os\n",
    "sys.path.append(os.path.abspath(\"..\"))\n",
    "from src.utils import *\n",
    "from src.preprocessing import *\n",
    "\n",
    "import pandas as pd\n",
    "import numpy as np\n",
    "from xgboost import XGBRegressor\n",
    "from catboost import CatBoostRegressor\n",
    "from lightgbm import LGBMRegressor\n",
    "from sklearn.ensemble import AdaBoostRegressor\n",
    "from sklearn.linear_model import LinearRegression, LassoCV, RidgeCV\n",
    "from sklearn.metrics import mean_squared_error\n"
   ]
  },
  {
   "cell_type": "code",
   "execution_count": 30,
   "id": "a4ab9ff6-88d6-475d-8c0f-8262a683038e",
   "metadata": {},
   "outputs": [
    {
     "name": "stdout",
     "output_type": "stream",
     "text": [
      "Data Shape:  (188533, 13)\n",
      "Data Shape:  (125690, 12)\n"
     ]
    }
   ],
   "source": [
    "df_train = load_data(\"../data/raw/train.csv\")\n",
    "df_test = load_data(\"../data/raw/test.csv\")"
   ]
  },
  {
   "cell_type": "code",
   "execution_count": 31,
   "id": "9a27240a-1290-4ef0-8594-8ee66a1bfc71",
   "metadata": {},
   "outputs": [
    {
     "name": "stdout",
     "output_type": "stream",
     "text": [
      "<class 'pandas.core.frame.DataFrame'>\n",
      "RangeIndex: 188533 entries, 0 to 188532\n",
      "Data columns (total 13 columns):\n",
      " #   Column        Non-Null Count   Dtype \n",
      "---  ------        --------------   ----- \n",
      " 0   id            188533 non-null  int64 \n",
      " 1   brand         188533 non-null  object\n",
      " 2   model         188533 non-null  object\n",
      " 3   model_year    188533 non-null  int64 \n",
      " 4   milage        188533 non-null  int64 \n",
      " 5   fuel_type     183450 non-null  object\n",
      " 6   engine        188533 non-null  object\n",
      " 7   transmission  188533 non-null  object\n",
      " 8   ext_col       188533 non-null  object\n",
      " 9   int_col       188533 non-null  object\n",
      " 10  accident      186081 non-null  object\n",
      " 11  clean_title   167114 non-null  object\n",
      " 12  price         188533 non-null  int64 \n",
      "dtypes: int64(4), object(9)\n",
      "memory usage: 18.7+ MB\n"
     ]
    }
   ],
   "source": [
    "df_train.info()"
   ]
  },
  {
   "cell_type": "code",
   "execution_count": 32,
   "id": "4e768a27-12b1-4252-8785-a02761dc4d19",
   "metadata": {},
   "outputs": [
    {
     "name": "stdout",
     "output_type": "stream",
     "text": [
      "Original data shape: (188533, 13)\n",
      "X data shape: (188533, 12)\n",
      "y datashape: (188533,)\n"
     ]
    }
   ],
   "source": [
    "X_train, y_train = split_input_output(df_train, 'price')"
   ]
  },
  {
   "cell_type": "code",
   "execution_count": 33,
   "id": "150a949a-ca2b-4a34-9f64-7db77f2f22c4",
   "metadata": {},
   "outputs": [],
   "source": [
    "X_train.drop(columns='id', inplace=True)"
   ]
  },
  {
   "cell_type": "code",
   "execution_count": 34,
   "id": "c0a36553-0ebd-4e25-bd4f-8b862a5e891d",
   "metadata": {},
   "outputs": [
    {
     "name": "stderr",
     "output_type": "stream",
     "text": [
      "C:\\Users\\daffa\\project_usedcar_prediction\\src\\preprocessing.py:23: UserWarning: This pattern is interpreted as a regular expression, and has match groups. To actually get the groups, use str.extract.\n",
      "  X.loc[trans_series.str.contains(r'(a\\/t|at|automatic|auto[-\\s]?shift|cvt|dct|\\d+\\s*[-]?\\s*speed\\s*(a\\/t|at|automatic))', regex=True, na=False), 'transmission'] = \"a/t\"\n",
      "C:\\Users\\daffa\\project_usedcar_prediction\\src\\preprocessing.py:24: UserWarning: This pattern is interpreted as a regular expression, and has match groups. To actually get the groups, use str.extract.\n",
      "  X.loc[trans_series.str.contains(r'(m\\/t|mt|manual|\\d+\\s*[-]?\\s*speed\\s*(m\\/t|mt|manual))', regex=True, na=False), 'transmission'] = \"m/t\"\n",
      "C:\\Users\\daffa\\project_usedcar_prediction\\src\\preprocessing.py:113: FutureWarning: A value is trying to be set on a copy of a DataFrame or Series through chained assignment using an inplace method.\n",
      "The behavior will change in pandas 3.0. This inplace method will never work because the intermediate object on which we are setting values always behaves as a copy.\n",
      "\n",
      "For example, when doing 'df[col].method(value, inplace=True)', try using 'df.method({col: value}, inplace=True)' or df[col] = df[col].method(value) instead, to perform the operation inplace on the original object.\n",
      "\n",
      "\n",
      "  data['accident'].fillna('Unknown', inplace = True)\n",
      "C:\\Users\\daffa\\project_usedcar_prediction\\src\\preprocessing.py:114: FutureWarning: A value is trying to be set on a copy of a DataFrame or Series through chained assignment using an inplace method.\n",
      "The behavior will change in pandas 3.0. This inplace method will never work because the intermediate object on which we are setting values always behaves as a copy.\n",
      "\n",
      "For example, when doing 'df[col].method(value, inplace=True)', try using 'df.method({col: value}, inplace=True)' or df[col] = df[col].method(value) instead, to perform the operation inplace on the original object.\n",
      "\n",
      "\n",
      "  data['clean_title'].fillna('Unknown', inplace = True)\n"
     ]
    }
   ],
   "source": [
    "imp = deserialize_data('../models/imputer.pkl')\n",
    "scaler = deserialize_data('../models/scaler.pkl')\n",
    "OHencoder = deserialize_data('../models/OHencoder.pkl')\n",
    "X_train_clean = preprocessing_pipeline(X_train, imp, scaler, OHencoder)"
   ]
  },
  {
   "cell_type": "code",
   "execution_count": 24,
   "id": "9571e108-8ad1-4022-96c9-9205f3cbba5b",
   "metadata": {},
   "outputs": [],
   "source": [
    "model = deserialize_data(\"../models/lgb_randomized.pkl\")"
   ]
  },
  {
   "cell_type": "code",
   "execution_count": 27,
   "id": "a71e08a4-fb2d-4a70-97f1-3f061f0b0f52",
   "metadata": {},
   "outputs": [
    {
     "name": "stdout",
     "output_type": "stream",
     "text": [
      "RMSE:  71657.4322690883\n"
     ]
    }
   ],
   "source": [
    "y_pred_lgb = model.predict(X_train_clean)\n",
    "print(\"RMSE: \", np.sqrt(mean_squared_error(y_train, y_pred_lgb)))"
   ]
  },
  {
   "cell_type": "code",
   "execution_count": null,
   "id": "e8943ec1-df7b-4afe-ac69-778ef9bcecf1",
   "metadata": {},
   "outputs": [],
   "source": []
  }
 ],
 "metadata": {
  "kernelspec": {
   "display_name": "usedcar_prediction",
   "language": "python",
   "name": "project_usedcar_prediction"
  },
  "language_info": {
   "codemirror_mode": {
    "name": "ipython",
    "version": 3
   },
   "file_extension": ".py",
   "mimetype": "text/x-python",
   "name": "python",
   "nbconvert_exporter": "python",
   "pygments_lexer": "ipython3",
   "version": "3.10.18"
  }
 },
 "nbformat": 4,
 "nbformat_minor": 5
}
