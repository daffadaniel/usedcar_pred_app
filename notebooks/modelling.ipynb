{
 "cells": [
  {
   "cell_type": "code",
   "execution_count": 6,
   "id": "2907da45-26c7-42fe-940c-8540e5b17eb8",
   "metadata": {},
   "outputs": [],
   "source": [
    "import sys, os\n",
    "sys.path.append(os.path.abspath(\"..\"))\n",
    "from src.utils import *\n",
    "from src.preprocessing import *\n",
    "\n",
    "import pandas as pd\n",
    "import numpy as np\n",
    "from xgboost import XGBRegressor\n",
    "from catboost import CatBoostRegressor\n",
    "from lightgbm import LGBMRegressor\n",
    "from sklearn.ensemble import AdaBoostRegressor\n",
    "from sklearn.linear_model import LinearRegression, LassoCV, RidgeCV\n",
    "from sklearn.metrics import mean_squared_error\n"
   ]
  },
  {
   "cell_type": "code",
   "execution_count": 7,
   "id": "a4ab9ff6-88d6-475d-8c0f-8262a683038e",
   "metadata": {},
   "outputs": [
    {
     "name": "stdout",
     "output_type": "stream",
     "text": [
      "Data Shape:  (188533, 12)\n",
      "Data Shape:  (125690, 11)\n"
     ]
    }
   ],
   "source": [
    "df_train = load_data(\"../data/raw/train.csv\")\n",
    "df_test = load_data(\"../data/raw/test.csv\")"
   ]
  },
  {
   "cell_type": "code",
   "execution_count": 8,
   "id": "9a27240a-1290-4ef0-8594-8ee66a1bfc71",
   "metadata": {},
   "outputs": [
    {
     "name": "stdout",
     "output_type": "stream",
     "text": [
      "<class 'pandas.core.frame.DataFrame'>\n",
      "Index: 188533 entries, 0 to 188532\n",
      "Data columns (total 12 columns):\n",
      " #   Column        Non-Null Count   Dtype \n",
      "---  ------        --------------   ----- \n",
      " 0   brand         188533 non-null  object\n",
      " 1   model         188533 non-null  object\n",
      " 2   model_year    188533 non-null  int64 \n",
      " 3   milage        188533 non-null  int64 \n",
      " 4   fuel_type     183450 non-null  object\n",
      " 5   engine        188533 non-null  object\n",
      " 6   transmission  188533 non-null  object\n",
      " 7   ext_col       188533 non-null  object\n",
      " 8   int_col       188533 non-null  object\n",
      " 9   accident      186081 non-null  object\n",
      " 10  clean_title   167114 non-null  object\n",
      " 11  price         188533 non-null  int64 \n",
      "dtypes: int64(3), object(9)\n",
      "memory usage: 18.7+ MB\n"
     ]
    }
   ],
   "source": [
    "df_train.info()"
   ]
  },
  {
   "cell_type": "code",
   "execution_count": 9,
   "id": "4e768a27-12b1-4252-8785-a02761dc4d19",
   "metadata": {},
   "outputs": [
    {
     "name": "stdout",
     "output_type": "stream",
     "text": [
      "Original data shape: (188533, 12)\n",
      "X data shape: (188533, 11)\n",
      "y datashape: (188533,)\n"
     ]
    }
   ],
   "source": [
    "X_train, y_train = split_input_output(df_train, 'price')"
   ]
  },
  {
   "cell_type": "code",
   "execution_count": 10,
   "id": "c0a36553-0ebd-4e25-bd4f-8b862a5e891d",
   "metadata": {},
   "outputs": [],
   "source": [
    "imp = deserialize_data('../models/imputer.pkl')\n",
    "scaler = deserialize_data('../models/scaler.pkl')\n",
    "OHencoder = deserialize_data('../models/OHencoder.pkl')\n",
    "X_train_clean = preprocessing_pipeline(X_train, imp, scaler, OHencoder)"
   ]
  },
  {
   "cell_type": "code",
   "execution_count": 11,
   "id": "9571e108-8ad1-4022-96c9-9205f3cbba5b",
   "metadata": {},
   "outputs": [],
   "source": [
    "model = deserialize_data(\"../models/lgb_randomized.pkl\")"
   ]
  },
  {
   "cell_type": "code",
   "execution_count": 12,
   "id": "a71e08a4-fb2d-4a70-97f1-3f061f0b0f52",
   "metadata": {},
   "outputs": [
    {
     "name": "stdout",
     "output_type": "stream",
     "text": [
      "RMSE:  111062.14980167725\n"
     ]
    }
   ],
   "source": [
    "y_pred_lgb = model.predict(X_train_clean)\n",
    "print(\"RMSE: \", np.sqrt(mean_squared_error(y_train, y_pred_lgb)))"
   ]
  }
 ],
 "metadata": {
  "kernelspec": {
   "display_name": "usedcar_prediction",
   "language": "python",
   "name": "project_usedcar_prediction"
  },
  "language_info": {
   "codemirror_mode": {
    "name": "ipython",
    "version": 3
   },
   "file_extension": ".py",
   "mimetype": "text/x-python",
   "name": "python",
   "nbconvert_exporter": "python",
   "pygments_lexer": "ipython3",
   "version": "3.10.18"
  }
 },
 "nbformat": 4,
 "nbformat_minor": 5
}
